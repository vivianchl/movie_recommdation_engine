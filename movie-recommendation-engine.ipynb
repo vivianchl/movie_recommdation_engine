{
 "cells": [
  {
   "cell_type": "markdown",
   "id": "f6186cc9",
   "metadata": {
    "papermill": {
     "duration": 0.023569,
     "end_time": "2024-10-23T07:13:38.575332",
     "exception": false,
     "start_time": "2024-10-23T07:13:38.551763",
     "status": "completed"
    },
    "tags": []
   },
   "source": [
    "# Movie Recommendation Engine\n",
    "\n",
    "\n",
    "\n",
    "This notebook aims to built different movie recommendation engines that provides personalized movie recommendations to users with different techniques. In Machine Learning, the primary methods for building recommendation system are ***Content-based*** and ***Collaborative filtering***.\n",
    "\n",
    "***Content-based Filter:*** suggest products or items similar to user's past preferences (less abilitiy to discover new genres and movies)\n",
    "\n",
    "\n",
    "\n",
    "***Collaborative Filter:*** suggest products or items from choices of similar users"
   ]
  },
  {
   "cell_type": "markdown",
   "id": "b2512118",
   "metadata": {
    "papermill": {
     "duration": 0.02022,
     "end_time": "2024-10-23T07:13:38.616235",
     "exception": false,
     "start_time": "2024-10-23T07:13:38.596015",
     "status": "completed"
    },
    "tags": []
   },
   "source": [
    "# Introduction\n",
    "\n",
    "In this notebook, there are four datasets used:\n",
    "\n",
    "The Movie Dataset contains information on 45,000 movies. Features include posters, backdrops, budget, revenue, release dates, languages, production countries and companies.\n",
    "\n",
    "The Credicts Dataset consists of Cast and Crew Information for all movies in the movie dataset. Available in the form of a stringified JSON Object.\n",
    "\n",
    "The Keywords Dataset contains the movie plot keywords for our MovieLens movies. Available in the form of a stringified JSON Object.\n",
    "\n",
    "The Ratings Dataset includes the ratings from users on 45,000 movies.\n",
    "\n",
    "*source: https://www.kaggle.com/datasets/rounakbanik/the-movies-dataset/data\n",
    "\n",
    "\n",
    "To built collaborative-filtering-based recommender, the library suprise is used. Suprise is a Python scikit for building and analyzing recommender systems that deal with explicit rating data, and provides simple implementation of different algorithms. \n",
    "\n",
    "*source: https://surpriselib.com/\n",
    "\n",
    "The notebook can be divided into 3 parts:\n",
    "\n",
    "In the first part, the movie meta data will be explored to get the overview of the movie data and gain the first insights through some visualisations.\n",
    "\n",
    "In the second part, the content-based filter will be applied with the first three datasets to built the first simple recommender\n",
    "\n",
    "In the third part, the collaborative filter will be applied to the movie dataset and the ratings dataset to built a more personalized movie recommender.\n",
    "\n",
    "\n",
    "By analyzing the meta data, a weighted rating will be calculated and appended in the dataframe. Due to the large amount of the data and the lack of the resources, only the movies with minimal weighted ratings will be used to built movie recommendation engine."
   ]
  },
  {
   "cell_type": "code",
   "execution_count": 1,
   "id": "a6c23abb",
   "metadata": {
    "execution": {
     "iopub.execute_input": "2024-10-23T07:13:38.657735Z",
     "iopub.status.busy": "2024-10-23T07:13:38.657274Z",
     "iopub.status.idle": "2024-10-23T07:13:41.748784Z",
     "shell.execute_reply": "2024-10-23T07:13:41.747670Z"
    },
    "papermill": {
     "duration": 3.115433,
     "end_time": "2024-10-23T07:13:41.751404",
     "exception": false,
     "start_time": "2024-10-23T07:13:38.635971",
     "status": "completed"
    },
    "tags": []
   },
   "outputs": [
    {
     "data": {
      "text/plain": [
       "<Figure size 1200x800 with 0 Axes>"
      ]
     },
     "metadata": {},
     "output_type": "display_data"
    }
   ],
   "source": [
    "%matplotlib inline\n",
    "\n",
    "import pandas as pd\n",
    "\n",
    "import numpy as np\n",
    "\n",
    "import matplotlib.pyplot as plt\n",
    "\n",
    "import seaborn as sns\n",
    "\n",
    "from scipy.sparse import hstack\n",
    "import os\n",
    "\n",
    "from ast import literal_eval\n",
    "\n",
    "from surprise import Reader, Dataset, SVD\n",
    "\n",
    "from surprise.model_selection import cross_validate\n",
    "\n",
    "from sklearn.feature_extraction.text import TfidfVectorizer, CountVectorizer\n",
    "\n",
    "from sklearn.metrics.pairwise import linear_kernel, cosine_similarity\n",
    "\n",
    "import matplotlib.ticker as ticker\n",
    "\n",
    "import squarify\n",
    "\n",
    "\n",
    "\n",
    "pd.options.display.max_columns=None\n",
    "\n",
    "#pd.set_option('display.max_colwidth', None)\n",
    "\n",
    "plt.figure(figsize=(12, 8))\n",
    "\n",
    "import warnings; warnings.simplefilter('ignore')"
   ]
  },
  {
   "cell_type": "markdown",
   "id": "5f99894f",
   "metadata": {
    "papermill": {
     "duration": 0.019222,
     "end_time": "2024-10-23T07:13:41.791577",
     "exception": false,
     "start_time": "2024-10-23T07:13:41.772355",
     "status": "completed"
    },
    "tags": []
   },
   "source": [
    "# Load Data\n",
    "\n",
    "\n",
    "\n",
    "analyse the movie meta dataset"
   ]
  },
  {
   "cell_type": "code",
   "execution_count": 2,
   "id": "707827e3",
   "metadata": {
    "execution": {
     "iopub.execute_input": "2024-10-23T07:13:41.833810Z",
     "iopub.status.busy": "2024-10-23T07:13:41.833240Z",
     "iopub.status.idle": "2024-10-23T07:14:06.833972Z",
     "shell.execute_reply": "2024-10-23T07:14:06.832550Z"
    },
    "papermill": {
     "duration": 25.025288,
     "end_time": "2024-10-23T07:14:06.836880",
     "exception": false,
     "start_time": "2024-10-23T07:13:41.811592",
     "status": "completed"
    },
    "tags": []
   },
   "outputs": [
    {
     "name": "stdout",
     "output_type": "stream",
     "text": [
      "/kaggle/input/the-movies-dataset/ratings.csv\n",
      "/kaggle/input/the-movies-dataset/links_small.csv\n",
      "/kaggle/input/the-movies-dataset/credits.csv\n",
      "/kaggle/input/the-movies-dataset/keywords.csv\n",
      "/kaggle/input/the-movies-dataset/movies_metadata.csv\n",
      "/kaggle/input/the-movies-dataset/ratings_small.csv\n",
      "/kaggle/input/the-movies-dataset/links.csv\n"
     ]
    }
   ],
   "source": [
    "for dirname, _, filenames in os.walk('/kaggle/input'):\n",
    "    for filename in filenames:\n",
    "        print(os.path.join(dirname, filename))\n",
    "\n",
    "movies = pd.read_csv(\"/kaggle/input/the-movies-dataset/movies_metadata.csv\")\n",
    "credits = pd.read_csv(\"/kaggle/input/the-movies-dataset/credits.csv\")\n",
    "keywords = pd.read_csv(\"/kaggle/input/the-movies-dataset/keywords.csv\")\n",
    "ratings = pd.read_csv(\"/kaggle/input/the-movies-dataset/ratings.csv\")"
   ]
  },
  {
   "cell_type": "code",
   "execution_count": 3,
   "id": "72ad949d",
   "metadata": {
    "execution": {
     "iopub.execute_input": "2024-10-23T07:14:06.880423Z",
     "iopub.status.busy": "2024-10-23T07:14:06.879994Z",
     "iopub.status.idle": "2024-10-23T07:14:06.913146Z",
     "shell.execute_reply": "2024-10-23T07:14:06.911910Z"
    },
    "papermill": {
     "duration": 0.057106,
     "end_time": "2024-10-23T07:14:06.915590",
     "exception": false,
     "start_time": "2024-10-23T07:14:06.858484",
     "status": "completed"
    },
    "tags": []
   },
   "outputs": [
    {
     "data": {
      "text/html": [
       "<div>\n",
       "<style scoped>\n",
       "    .dataframe tbody tr th:only-of-type {\n",
       "        vertical-align: middle;\n",
       "    }\n",
       "\n",
       "    .dataframe tbody tr th {\n",
       "        vertical-align: top;\n",
       "    }\n",
       "\n",
       "    .dataframe thead th {\n",
       "        text-align: right;\n",
       "    }\n",
       "</style>\n",
       "<table border=\"1\" class=\"dataframe\">\n",
       "  <thead>\n",
       "    <tr style=\"text-align: right;\">\n",
       "      <th></th>\n",
       "      <th>adult</th>\n",
       "      <th>belongs_to_collection</th>\n",
       "      <th>budget</th>\n",
       "      <th>genres</th>\n",
       "      <th>homepage</th>\n",
       "      <th>id</th>\n",
       "      <th>imdb_id</th>\n",
       "      <th>original_language</th>\n",
       "      <th>original_title</th>\n",
       "      <th>overview</th>\n",
       "      <th>popularity</th>\n",
       "      <th>poster_path</th>\n",
       "      <th>production_companies</th>\n",
       "      <th>production_countries</th>\n",
       "      <th>release_date</th>\n",
       "      <th>revenue</th>\n",
       "      <th>runtime</th>\n",
       "      <th>spoken_languages</th>\n",
       "      <th>status</th>\n",
       "      <th>tagline</th>\n",
       "      <th>title</th>\n",
       "      <th>video</th>\n",
       "      <th>vote_average</th>\n",
       "      <th>vote_count</th>\n",
       "    </tr>\n",
       "  </thead>\n",
       "  <tbody>\n",
       "    <tr>\n",
       "      <th>0</th>\n",
       "      <td>False</td>\n",
       "      <td>{'id': 10194, 'name': 'Toy Story Collection', ...</td>\n",
       "      <td>30000000</td>\n",
       "      <td>[{'id': 16, 'name': 'Animation'}, {'id': 35, '...</td>\n",
       "      <td>http://toystory.disney.com/toy-story</td>\n",
       "      <td>862</td>\n",
       "      <td>tt0114709</td>\n",
       "      <td>en</td>\n",
       "      <td>Toy Story</td>\n",
       "      <td>Led by Woody, Andy's toys live happily in his ...</td>\n",
       "      <td>21.946943</td>\n",
       "      <td>/rhIRbceoE9lR4veEXuwCC2wARtG.jpg</td>\n",
       "      <td>[{'name': 'Pixar Animation Studios', 'id': 3}]</td>\n",
       "      <td>[{'iso_3166_1': 'US', 'name': 'United States o...</td>\n",
       "      <td>1995-10-30</td>\n",
       "      <td>373554033.0</td>\n",
       "      <td>81.0</td>\n",
       "      <td>[{'iso_639_1': 'en', 'name': 'English'}]</td>\n",
       "      <td>Released</td>\n",
       "      <td>NaN</td>\n",
       "      <td>Toy Story</td>\n",
       "      <td>False</td>\n",
       "      <td>7.7</td>\n",
       "      <td>5415.0</td>\n",
       "    </tr>\n",
       "    <tr>\n",
       "      <th>1</th>\n",
       "      <td>False</td>\n",
       "      <td>NaN</td>\n",
       "      <td>65000000</td>\n",
       "      <td>[{'id': 12, 'name': 'Adventure'}, {'id': 14, '...</td>\n",
       "      <td>NaN</td>\n",
       "      <td>8844</td>\n",
       "      <td>tt0113497</td>\n",
       "      <td>en</td>\n",
       "      <td>Jumanji</td>\n",
       "      <td>When siblings Judy and Peter discover an encha...</td>\n",
       "      <td>17.015539</td>\n",
       "      <td>/vzmL6fP7aPKNKPRTFnZmiUfciyV.jpg</td>\n",
       "      <td>[{'name': 'TriStar Pictures', 'id': 559}, {'na...</td>\n",
       "      <td>[{'iso_3166_1': 'US', 'name': 'United States o...</td>\n",
       "      <td>1995-12-15</td>\n",
       "      <td>262797249.0</td>\n",
       "      <td>104.0</td>\n",
       "      <td>[{'iso_639_1': 'en', 'name': 'English'}, {'iso...</td>\n",
       "      <td>Released</td>\n",
       "      <td>Roll the dice and unleash the excitement!</td>\n",
       "      <td>Jumanji</td>\n",
       "      <td>False</td>\n",
       "      <td>6.9</td>\n",
       "      <td>2413.0</td>\n",
       "    </tr>\n",
       "    <tr>\n",
       "      <th>2</th>\n",
       "      <td>False</td>\n",
       "      <td>{'id': 119050, 'name': 'Grumpy Old Men Collect...</td>\n",
       "      <td>0</td>\n",
       "      <td>[{'id': 10749, 'name': 'Romance'}, {'id': 35, ...</td>\n",
       "      <td>NaN</td>\n",
       "      <td>15602</td>\n",
       "      <td>tt0113228</td>\n",
       "      <td>en</td>\n",
       "      <td>Grumpier Old Men</td>\n",
       "      <td>A family wedding reignites the ancient feud be...</td>\n",
       "      <td>11.7129</td>\n",
       "      <td>/6ksm1sjKMFLbO7UY2i6G1ju9SML.jpg</td>\n",
       "      <td>[{'name': 'Warner Bros.', 'id': 6194}, {'name'...</td>\n",
       "      <td>[{'iso_3166_1': 'US', 'name': 'United States o...</td>\n",
       "      <td>1995-12-22</td>\n",
       "      <td>0.0</td>\n",
       "      <td>101.0</td>\n",
       "      <td>[{'iso_639_1': 'en', 'name': 'English'}]</td>\n",
       "      <td>Released</td>\n",
       "      <td>Still Yelling. Still Fighting. Still Ready for...</td>\n",
       "      <td>Grumpier Old Men</td>\n",
       "      <td>False</td>\n",
       "      <td>6.5</td>\n",
       "      <td>92.0</td>\n",
       "    </tr>\n",
       "  </tbody>\n",
       "</table>\n",
       "</div>"
      ],
      "text/plain": [
       "   adult                              belongs_to_collection    budget  \\\n",
       "0  False  {'id': 10194, 'name': 'Toy Story Collection', ...  30000000   \n",
       "1  False                                                NaN  65000000   \n",
       "2  False  {'id': 119050, 'name': 'Grumpy Old Men Collect...         0   \n",
       "\n",
       "                                              genres  \\\n",
       "0  [{'id': 16, 'name': 'Animation'}, {'id': 35, '...   \n",
       "1  [{'id': 12, 'name': 'Adventure'}, {'id': 14, '...   \n",
       "2  [{'id': 10749, 'name': 'Romance'}, {'id': 35, ...   \n",
       "\n",
       "                               homepage     id    imdb_id original_language  \\\n",
       "0  http://toystory.disney.com/toy-story    862  tt0114709                en   \n",
       "1                                   NaN   8844  tt0113497                en   \n",
       "2                                   NaN  15602  tt0113228                en   \n",
       "\n",
       "     original_title                                           overview  \\\n",
       "0         Toy Story  Led by Woody, Andy's toys live happily in his ...   \n",
       "1           Jumanji  When siblings Judy and Peter discover an encha...   \n",
       "2  Grumpier Old Men  A family wedding reignites the ancient feud be...   \n",
       "\n",
       "  popularity                       poster_path  \\\n",
       "0  21.946943  /rhIRbceoE9lR4veEXuwCC2wARtG.jpg   \n",
       "1  17.015539  /vzmL6fP7aPKNKPRTFnZmiUfciyV.jpg   \n",
       "2    11.7129  /6ksm1sjKMFLbO7UY2i6G1ju9SML.jpg   \n",
       "\n",
       "                                production_companies  \\\n",
       "0     [{'name': 'Pixar Animation Studios', 'id': 3}]   \n",
       "1  [{'name': 'TriStar Pictures', 'id': 559}, {'na...   \n",
       "2  [{'name': 'Warner Bros.', 'id': 6194}, {'name'...   \n",
       "\n",
       "                                production_countries release_date  \\\n",
       "0  [{'iso_3166_1': 'US', 'name': 'United States o...   1995-10-30   \n",
       "1  [{'iso_3166_1': 'US', 'name': 'United States o...   1995-12-15   \n",
       "2  [{'iso_3166_1': 'US', 'name': 'United States o...   1995-12-22   \n",
       "\n",
       "       revenue  runtime                                   spoken_languages  \\\n",
       "0  373554033.0     81.0           [{'iso_639_1': 'en', 'name': 'English'}]   \n",
       "1  262797249.0    104.0  [{'iso_639_1': 'en', 'name': 'English'}, {'iso...   \n",
       "2          0.0    101.0           [{'iso_639_1': 'en', 'name': 'English'}]   \n",
       "\n",
       "     status                                            tagline  \\\n",
       "0  Released                                                NaN   \n",
       "1  Released          Roll the dice and unleash the excitement!   \n",
       "2  Released  Still Yelling. Still Fighting. Still Ready for...   \n",
       "\n",
       "              title  video  vote_average  vote_count  \n",
       "0         Toy Story  False           7.7      5415.0  \n",
       "1           Jumanji  False           6.9      2413.0  \n",
       "2  Grumpier Old Men  False           6.5        92.0  "
      ]
     },
     "execution_count": 3,
     "metadata": {},
     "output_type": "execute_result"
    }
   ],
   "source": [
    "#movies = pd.read_csv('data/movies.csv')\n",
    "movies.head(3)"
   ]
  },
  {
   "cell_type": "code",
   "execution_count": 4,
   "id": "5c4bdcac",
   "metadata": {
    "execution": {
     "iopub.execute_input": "2024-10-23T07:14:06.958990Z",
     "iopub.status.busy": "2024-10-23T07:14:06.958534Z",
     "iopub.status.idle": "2024-10-23T07:14:06.967270Z",
     "shell.execute_reply": "2024-10-23T07:14:06.965920Z"
    },
    "papermill": {
     "duration": 0.034642,
     "end_time": "2024-10-23T07:14:06.970143",
     "exception": false,
     "start_time": "2024-10-23T07:14:06.935501",
     "status": "completed"
    },
    "tags": []
   },
   "outputs": [
    {
     "data": {
      "text/plain": [
       "Index(['adult', 'belongs_to_collection', 'budget', 'genres', 'homepage', 'id',\n",
       "       'imdb_id', 'original_language', 'original_title', 'overview',\n",
       "       'popularity', 'poster_path', 'production_companies',\n",
       "       'production_countries', 'release_date', 'revenue', 'runtime',\n",
       "       'spoken_languages', 'status', 'tagline', 'title', 'video',\n",
       "       'vote_average', 'vote_count'],\n",
       "      dtype='object')"
      ]
     },
     "execution_count": 4,
     "metadata": {},
     "output_type": "execute_result"
    }
   ],
   "source": [
    "movies.columns"
   ]
  },
  {
   "cell_type": "code",
   "execution_count": 5,
   "id": "7b437639",
   "metadata": {
    "execution": {
     "iopub.execute_input": "2024-10-23T07:14:07.015425Z",
     "iopub.status.busy": "2024-10-23T07:14:07.015035Z",
     "iopub.status.idle": "2024-10-23T07:14:07.022363Z",
     "shell.execute_reply": "2024-10-23T07:14:07.021257Z"
    },
    "papermill": {
     "duration": 0.032848,
     "end_time": "2024-10-23T07:14:07.024949",
     "exception": false,
     "start_time": "2024-10-23T07:14:06.992101",
     "status": "completed"
    },
    "tags": []
   },
   "outputs": [
    {
     "data": {
      "text/plain": [
       "(45466, 24)"
      ]
     },
     "execution_count": 5,
     "metadata": {},
     "output_type": "execute_result"
    }
   ],
   "source": [
    "movies.shape"
   ]
  },
  {
   "cell_type": "markdown",
   "id": "6d58423c",
   "metadata": {
    "papermill": {
     "duration": 0.021705,
     "end_time": "2024-10-23T07:14:07.067146",
     "exception": false,
     "start_time": "2024-10-23T07:14:07.045441",
     "status": "completed"
    },
    "tags": []
   },
   "source": [
    "identify null values"
   ]
  },
  {
   "cell_type": "code",
   "execution_count": 6,
   "id": "6229b896",
   "metadata": {
    "execution": {
     "iopub.execute_input": "2024-10-23T07:14:07.110215Z",
     "iopub.status.busy": "2024-10-23T07:14:07.109082Z",
     "iopub.status.idle": "2024-10-23T07:14:07.167922Z",
     "shell.execute_reply": "2024-10-23T07:14:07.166773Z"
    },
    "papermill": {
     "duration": 0.083125,
     "end_time": "2024-10-23T07:14:07.170627",
     "exception": false,
     "start_time": "2024-10-23T07:14:07.087502",
     "status": "completed"
    },
    "tags": []
   },
   "outputs": [
    {
     "data": {
      "text/plain": [
       "adult                        0\n",
       "belongs_to_collection    40972\n",
       "budget                       0\n",
       "genres                       0\n",
       "homepage                 37684\n",
       "id                           0\n",
       "imdb_id                     17\n",
       "original_language           11\n",
       "original_title               0\n",
       "overview                   954\n",
       "popularity                   5\n",
       "poster_path                386\n",
       "production_companies         3\n",
       "production_countries         3\n",
       "release_date                87\n",
       "revenue                      6\n",
       "runtime                    263\n",
       "spoken_languages             6\n",
       "status                      87\n",
       "tagline                  25054\n",
       "title                        6\n",
       "video                        6\n",
       "vote_average                 6\n",
       "vote_count                   6\n",
       "dtype: int64"
      ]
     },
     "execution_count": 6,
     "metadata": {},
     "output_type": "execute_result"
    }
   ],
   "source": [
    "movies.isnull().sum()"
   ]
  },
  {
   "cell_type": "markdown",
   "id": "c5c58e7b",
   "metadata": {
    "papermill": {
     "duration": 0.021306,
     "end_time": "2024-10-23T07:14:07.212594",
     "exception": false,
     "start_time": "2024-10-23T07:14:07.191288",
     "status": "completed"
    },
    "tags": []
   },
   "source": [
    "identify duplicate movies"
   ]
  },
  {
   "cell_type": "code",
   "execution_count": 7,
   "id": "36051e93",
   "metadata": {
    "execution": {
     "iopub.execute_input": "2024-10-23T07:14:07.255093Z",
     "iopub.status.busy": "2024-10-23T07:14:07.254669Z",
     "iopub.status.idle": "2024-10-23T07:14:07.270318Z",
     "shell.execute_reply": "2024-10-23T07:14:07.269217Z"
    },
    "papermill": {
     "duration": 0.039999,
     "end_time": "2024-10-23T07:14:07.272748",
     "exception": false,
     "start_time": "2024-10-23T07:14:07.232749",
     "status": "completed"
    },
    "tags": []
   },
   "outputs": [
    {
     "name": "stdout",
     "output_type": "stream",
     "text": [
      "Number of duplicate ids: 30\n"
     ]
    }
   ],
   "source": [
    "# Count the number of duplicated 'id' values\n",
    "\n",
    "duplicated_ids = movies['id'].duplicated().sum()\n",
    "\n",
    "print(f\"Number of duplicate ids: {duplicated_ids}\")"
   ]
  },
  {
   "cell_type": "code",
   "execution_count": 8,
   "id": "f52b8cdd",
   "metadata": {
    "execution": {
     "iopub.execute_input": "2024-10-23T07:14:07.316286Z",
     "iopub.status.busy": "2024-10-23T07:14:07.315858Z",
     "iopub.status.idle": "2024-10-23T07:14:07.352182Z",
     "shell.execute_reply": "2024-10-23T07:14:07.350924Z"
    },
    "papermill": {
     "duration": 0.061178,
     "end_time": "2024-10-23T07:14:07.354730",
     "exception": false,
     "start_time": "2024-10-23T07:14:07.293552",
     "status": "completed"
    },
    "tags": []
   },
   "outputs": [
    {
     "data": {
      "text/plain": [
       "(45436, 24)"
      ]
     },
     "execution_count": 8,
     "metadata": {},
     "output_type": "execute_result"
    }
   ],
   "source": [
    "# Drop duplicates, keeping only the first occurrence of each 'id'\n",
    "\n",
    "movies = movies.drop_duplicates(subset='id', keep='first')\n",
    "\n",
    "movies.reset_index(drop=True, inplace=True)\n",
    "\n",
    "movies.shape"
   ]
  },
  {
   "cell_type": "markdown",
   "id": "25efb6ca",
   "metadata": {
    "papermill": {
     "duration": 0.020526,
     "end_time": "2024-10-23T07:14:07.396206",
     "exception": false,
     "start_time": "2024-10-23T07:14:07.375680",
     "status": "completed"
    },
    "tags": []
   },
   "source": [
    "**Observation**\n",
    "\n",
    "\n",
    "\n",
    "* There are large amount of null values\n",
    "\n",
    "* Some features are in dictionary type\n",
    "\n",
    "* There are 30 duplicated rows "
   ]
  },
  {
   "cell_type": "markdown",
   "id": "bf4cf28a",
   "metadata": {
    "papermill": {
     "duration": 0.020472,
     "end_time": "2024-10-23T07:14:07.437109",
     "exception": false,
     "start_time": "2024-10-23T07:14:07.416637",
     "status": "completed"
    },
    "tags": []
   },
   "source": [
    "# Transform"
   ]
  },
  {
   "cell_type": "markdown",
   "id": "149e0b0c",
   "metadata": {
    "papermill": {
     "duration": 0.020453,
     "end_time": "2024-10-23T07:14:07.478254",
     "exception": false,
     "start_time": "2024-10-23T07:14:07.457801",
     "status": "completed"
    },
    "tags": []
   },
   "source": [
    "The columns genres, production_companies, production_countries and spoken_languages are stored as string representations of lists of dictionaries, which are difficult to analyse. Therefore, in the following step, these will be transformed to actual Python lists and replaces missing values in the columns with empty lists."
   ]
  },
  {
   "cell_type": "code",
   "execution_count": 9,
   "id": "40991f05",
   "metadata": {
    "execution": {
     "iopub.execute_input": "2024-10-23T07:14:07.522067Z",
     "iopub.status.busy": "2024-10-23T07:14:07.521589Z",
     "iopub.status.idle": "2024-10-23T07:14:12.807005Z",
     "shell.execute_reply": "2024-10-23T07:14:12.805728Z"
    },
    "papermill": {
     "duration": 5.310837,
     "end_time": "2024-10-23T07:14:12.810031",
     "exception": false,
     "start_time": "2024-10-23T07:14:07.499194",
     "status": "completed"
    },
    "tags": []
   },
   "outputs": [],
   "source": [
    "movies['genres'] = movies['genres'].fillna('[]').apply(literal_eval).apply(lambda x: [i['name'] for i in x] if isinstance(x, list) else [])\n",
    "\n",
    "movies['production_companies']= movies['production_companies'].fillna('[]').apply(literal_eval).apply(lambda x: [i['name'] for i in x] if isinstance(x, list) else [])\n",
    "\n",
    "movies['production_countries'] = movies['production_countries'].fillna('[]').apply(literal_eval).apply(lambda x: [i['name'] for i in x] if isinstance(x, list) else [])\n",
    "\n",
    "movies['spoken_languages'] = movies['spoken_languages'].fillna('[]').apply(literal_eval).apply(lambda x: [i['name'] for i in x] if isinstance(x, list) else [])"
   ]
  },
  {
   "cell_type": "markdown",
   "id": "1f59130e",
   "metadata": {
    "papermill": {
     "duration": 0.020341,
     "end_time": "2024-10-23T07:14:12.851589",
     "exception": false,
     "start_time": "2024-10-23T07:14:12.831248",
     "status": "completed"
    },
    "tags": []
   },
   "source": [
    "Extract release year of each movie to use as feature for filtering or time-based recommendations"
   ]
  },
  {
   "cell_type": "code",
   "execution_count": 10,
   "id": "8cb9ce86",
   "metadata": {
    "execution": {
     "iopub.execute_input": "2024-10-23T07:14:12.897644Z",
     "iopub.status.busy": "2024-10-23T07:14:12.897189Z",
     "iopub.status.idle": "2024-10-23T07:14:13.129265Z",
     "shell.execute_reply": "2024-10-23T07:14:13.127865Z"
    },
    "papermill": {
     "duration": 0.258506,
     "end_time": "2024-10-23T07:14:13.131919",
     "exception": false,
     "start_time": "2024-10-23T07:14:12.873413",
     "status": "completed"
    },
    "tags": []
   },
   "outputs": [],
   "source": [
    "movies['year'] = pd.to_datetime(movies['release_date'], errors='coerce').apply(lambda x: str(x).split('-')[0] if x != np.nan else np.nan)"
   ]
  },
  {
   "cell_type": "code",
   "execution_count": 11,
   "id": "c1a914b6",
   "metadata": {
    "execution": {
     "iopub.execute_input": "2024-10-23T07:14:13.176044Z",
     "iopub.status.busy": "2024-10-23T07:14:13.175606Z",
     "iopub.status.idle": "2024-10-23T07:14:13.203129Z",
     "shell.execute_reply": "2024-10-23T07:14:13.201887Z"
    },
    "papermill": {
     "duration": 0.052282,
     "end_time": "2024-10-23T07:14:13.205651",
     "exception": false,
     "start_time": "2024-10-23T07:14:13.153369",
     "status": "completed"
    },
    "tags": []
   },
   "outputs": [
    {
     "data": {
      "text/html": [
       "<div>\n",
       "<style scoped>\n",
       "    .dataframe tbody tr th:only-of-type {\n",
       "        vertical-align: middle;\n",
       "    }\n",
       "\n",
       "    .dataframe tbody tr th {\n",
       "        vertical-align: top;\n",
       "    }\n",
       "\n",
       "    .dataframe thead th {\n",
       "        text-align: right;\n",
       "    }\n",
       "</style>\n",
       "<table border=\"1\" class=\"dataframe\">\n",
       "  <thead>\n",
       "    <tr style=\"text-align: right;\">\n",
       "      <th></th>\n",
       "      <th>adult</th>\n",
       "      <th>belongs_to_collection</th>\n",
       "      <th>budget</th>\n",
       "      <th>genres</th>\n",
       "      <th>homepage</th>\n",
       "      <th>id</th>\n",
       "      <th>imdb_id</th>\n",
       "      <th>original_language</th>\n",
       "      <th>original_title</th>\n",
       "      <th>overview</th>\n",
       "      <th>popularity</th>\n",
       "      <th>poster_path</th>\n",
       "      <th>production_companies</th>\n",
       "      <th>production_countries</th>\n",
       "      <th>release_date</th>\n",
       "      <th>revenue</th>\n",
       "      <th>runtime</th>\n",
       "      <th>spoken_languages</th>\n",
       "      <th>status</th>\n",
       "      <th>tagline</th>\n",
       "      <th>title</th>\n",
       "      <th>video</th>\n",
       "      <th>vote_average</th>\n",
       "      <th>vote_count</th>\n",
       "      <th>year</th>\n",
       "    </tr>\n",
       "  </thead>\n",
       "  <tbody>\n",
       "    <tr>\n",
       "      <th>0</th>\n",
       "      <td>False</td>\n",
       "      <td>{'id': 10194, 'name': 'Toy Story Collection', ...</td>\n",
       "      <td>30000000</td>\n",
       "      <td>[Animation, Comedy, Family]</td>\n",
       "      <td>http://toystory.disney.com/toy-story</td>\n",
       "      <td>862</td>\n",
       "      <td>tt0114709</td>\n",
       "      <td>en</td>\n",
       "      <td>Toy Story</td>\n",
       "      <td>Led by Woody, Andy's toys live happily in his ...</td>\n",
       "      <td>21.946943</td>\n",
       "      <td>/rhIRbceoE9lR4veEXuwCC2wARtG.jpg</td>\n",
       "      <td>[Pixar Animation Studios]</td>\n",
       "      <td>[United States of America]</td>\n",
       "      <td>1995-10-30</td>\n",
       "      <td>373554033.0</td>\n",
       "      <td>81.0</td>\n",
       "      <td>[English]</td>\n",
       "      <td>Released</td>\n",
       "      <td>NaN</td>\n",
       "      <td>Toy Story</td>\n",
       "      <td>False</td>\n",
       "      <td>7.7</td>\n",
       "      <td>5415.0</td>\n",
       "      <td>1995</td>\n",
       "    </tr>\n",
       "    <tr>\n",
       "      <th>1</th>\n",
       "      <td>False</td>\n",
       "      <td>NaN</td>\n",
       "      <td>65000000</td>\n",
       "      <td>[Adventure, Fantasy, Family]</td>\n",
       "      <td>NaN</td>\n",
       "      <td>8844</td>\n",
       "      <td>tt0113497</td>\n",
       "      <td>en</td>\n",
       "      <td>Jumanji</td>\n",
       "      <td>When siblings Judy and Peter discover an encha...</td>\n",
       "      <td>17.015539</td>\n",
       "      <td>/vzmL6fP7aPKNKPRTFnZmiUfciyV.jpg</td>\n",
       "      <td>[TriStar Pictures, Teitler Film, Interscope Co...</td>\n",
       "      <td>[United States of America]</td>\n",
       "      <td>1995-12-15</td>\n",
       "      <td>262797249.0</td>\n",
       "      <td>104.0</td>\n",
       "      <td>[English, Français]</td>\n",
       "      <td>Released</td>\n",
       "      <td>Roll the dice and unleash the excitement!</td>\n",
       "      <td>Jumanji</td>\n",
       "      <td>False</td>\n",
       "      <td>6.9</td>\n",
       "      <td>2413.0</td>\n",
       "      <td>1995</td>\n",
       "    </tr>\n",
       "    <tr>\n",
       "      <th>2</th>\n",
       "      <td>False</td>\n",
       "      <td>{'id': 119050, 'name': 'Grumpy Old Men Collect...</td>\n",
       "      <td>0</td>\n",
       "      <td>[Romance, Comedy]</td>\n",
       "      <td>NaN</td>\n",
       "      <td>15602</td>\n",
       "      <td>tt0113228</td>\n",
       "      <td>en</td>\n",
       "      <td>Grumpier Old Men</td>\n",
       "      <td>A family wedding reignites the ancient feud be...</td>\n",
       "      <td>11.7129</td>\n",
       "      <td>/6ksm1sjKMFLbO7UY2i6G1ju9SML.jpg</td>\n",
       "      <td>[Warner Bros., Lancaster Gate]</td>\n",
       "      <td>[United States of America]</td>\n",
       "      <td>1995-12-22</td>\n",
       "      <td>0.0</td>\n",
       "      <td>101.0</td>\n",
       "      <td>[English]</td>\n",
       "      <td>Released</td>\n",
       "      <td>Still Yelling. Still Fighting. Still Ready for...</td>\n",
       "      <td>Grumpier Old Men</td>\n",
       "      <td>False</td>\n",
       "      <td>6.5</td>\n",
       "      <td>92.0</td>\n",
       "      <td>1995</td>\n",
       "    </tr>\n",
       "  </tbody>\n",
       "</table>\n",
       "</div>"
      ],
      "text/plain": [
       "   adult                              belongs_to_collection    budget  \\\n",
       "0  False  {'id': 10194, 'name': 'Toy Story Collection', ...  30000000   \n",
       "1  False                                                NaN  65000000   \n",
       "2  False  {'id': 119050, 'name': 'Grumpy Old Men Collect...         0   \n",
       "\n",
       "                         genres                              homepage     id  \\\n",
       "0   [Animation, Comedy, Family]  http://toystory.disney.com/toy-story    862   \n",
       "1  [Adventure, Fantasy, Family]                                   NaN   8844   \n",
       "2             [Romance, Comedy]                                   NaN  15602   \n",
       "\n",
       "     imdb_id original_language    original_title  \\\n",
       "0  tt0114709                en         Toy Story   \n",
       "1  tt0113497                en           Jumanji   \n",
       "2  tt0113228                en  Grumpier Old Men   \n",
       "\n",
       "                                            overview popularity  \\\n",
       "0  Led by Woody, Andy's toys live happily in his ...  21.946943   \n",
       "1  When siblings Judy and Peter discover an encha...  17.015539   \n",
       "2  A family wedding reignites the ancient feud be...    11.7129   \n",
       "\n",
       "                        poster_path  \\\n",
       "0  /rhIRbceoE9lR4veEXuwCC2wARtG.jpg   \n",
       "1  /vzmL6fP7aPKNKPRTFnZmiUfciyV.jpg   \n",
       "2  /6ksm1sjKMFLbO7UY2i6G1ju9SML.jpg   \n",
       "\n",
       "                                production_companies  \\\n",
       "0                          [Pixar Animation Studios]   \n",
       "1  [TriStar Pictures, Teitler Film, Interscope Co...   \n",
       "2                     [Warner Bros., Lancaster Gate]   \n",
       "\n",
       "         production_countries release_date      revenue  runtime  \\\n",
       "0  [United States of America]   1995-10-30  373554033.0     81.0   \n",
       "1  [United States of America]   1995-12-15  262797249.0    104.0   \n",
       "2  [United States of America]   1995-12-22          0.0    101.0   \n",
       "\n",
       "      spoken_languages    status  \\\n",
       "0            [English]  Released   \n",
       "1  [English, Français]  Released   \n",
       "2            [English]  Released   \n",
       "\n",
       "                                             tagline             title  video  \\\n",
       "0                                                NaN         Toy Story  False   \n",
       "1          Roll the dice and unleash the excitement!           Jumanji  False   \n",
       "2  Still Yelling. Still Fighting. Still Ready for...  Grumpier Old Men  False   \n",
       "\n",
       "   vote_average  vote_count  year  \n",
       "0           7.7      5415.0  1995  \n",
       "1           6.9      2413.0  1995  \n",
       "2           6.5        92.0  1995  "
      ]
     },
     "execution_count": 11,
     "metadata": {},
     "output_type": "execute_result"
    }
   ],
   "source": [
    "movies.head(3)"
   ]
  },
  {
   "cell_type": "markdown",
   "id": "8f3e3e49",
   "metadata": {
    "papermill": {
     "duration": 0.020626,
     "end_time": "2024-10-23T07:14:13.248165",
     "exception": false,
     "start_time": "2024-10-23T07:14:13.227539",
     "status": "completed"
    },
    "tags": []
   },
   "source": [
    "# Feature Engineering"
   ]
  },
  {
   "cell_type": "markdown",
   "id": "c2ceb47f",
   "metadata": {
    "papermill": {
     "duration": 0.021116,
     "end_time": "2024-10-23T07:14:13.291547",
     "exception": false,
     "start_time": "2024-10-23T07:14:13.270431",
     "status": "completed"
    },
    "tags": []
   },
   "source": [
    "Weighted ranking is often used in movie ranking systems to rank movies based on both their ***average rating*** and the ***number of votes*** they have received. The purpose is to give a fairer rank to movies by considering both the rating quality (R) and the popularity (v) of the movie, preventing less-voted but highly-rated movies from unfairly dominating the list.\n",
    "\n",
    "\n",
    "\n",
    "The Formula of **Weighted Rank(WR)**:\n",
    "\n",
    "\n",
    "\n",
    "$$\n",
    "\n",
    "WR = \\left( \\frac{v}{v+m} \\right) \\times R + \\left( \\frac{m}{v+m} \\right) \\times C\n",
    "\n",
    "$$\n",
    "\n",
    "\n",
    "\n",
    "Where:\n",
    "\n",
    "\n",
    "\n",
    "- \\( R \\) = average rating of the movie\n",
    "\n",
    "- \\( v \\) = number of votes for the movie  \n",
    "\n",
    "- \\( m \\) = minimum votes required to be listed in the Top 250  \n",
    "\n",
    "- \\( C \\) = the mean vote across the whole dataset"
   ]
  },
  {
   "cell_type": "code",
   "execution_count": 12,
   "id": "b6c892da",
   "metadata": {
    "execution": {
     "iopub.execute_input": "2024-10-23T07:14:13.334835Z",
     "iopub.status.busy": "2024-10-23T07:14:13.334392Z",
     "iopub.status.idle": "2024-10-23T07:14:13.388215Z",
     "shell.execute_reply": "2024-10-23T07:14:13.387049Z"
    },
    "papermill": {
     "duration": 0.078718,
     "end_time": "2024-10-23T07:14:13.391036",
     "exception": false,
     "start_time": "2024-10-23T07:14:13.312318",
     "status": "completed"
    },
    "tags": []
   },
   "outputs": [],
   "source": [
    "vote_counts = movies[movies['vote_count'].notnull()]['vote_count'].astype('int')\n",
    "\n",
    "vote_averages = movies[movies['vote_average'].notnull()]['vote_average'].astype('int')"
   ]
  },
  {
   "cell_type": "code",
   "execution_count": 13,
   "id": "bd3710ea",
   "metadata": {
    "execution": {
     "iopub.execute_input": "2024-10-23T07:14:13.435573Z",
     "iopub.status.busy": "2024-10-23T07:14:13.434728Z",
     "iopub.status.idle": "2024-10-23T07:14:13.444073Z",
     "shell.execute_reply": "2024-10-23T07:14:13.442879Z"
    },
    "papermill": {
     "duration": 0.034527,
     "end_time": "2024-10-23T07:14:13.446755",
     "exception": false,
     "start_time": "2024-10-23T07:14:13.412228",
     "status": "completed"
    },
    "tags": []
   },
   "outputs": [
    {
     "name": "stdout",
     "output_type": "stream",
     "text": [
      "The Mean value of the voting averages: 5.24503631961259\n",
      "The minimum vote count for a movie to consider:  160.0\n"
     ]
    }
   ],
   "source": [
    "C = vote_averages.mean()\n",
    "\n",
    "m = vote_counts.quantile(0.90)  # only movies in the top 10% (with the highest number of votes) will be considered.\n",
    "\n",
    "print('The Mean value of the voting averages:',C)\n",
    "\n",
    "print('The minimum vote count for a movie to consider: ',m)"
   ]
  },
  {
   "cell_type": "markdown",
   "id": "6331a02c",
   "metadata": {
    "papermill": {
     "duration": 0.020566,
     "end_time": "2024-10-23T07:14:13.488168",
     "exception": false,
     "start_time": "2024-10-23T07:14:13.467602",
     "status": "completed"
    },
    "tags": []
   },
   "source": [
    "create a new dataframe containing only the movies that meet the following conditions:\n",
    "\n",
    "\n",
    "\n",
    "* The movie’s vote_count must be greater than or equal to m (the 90th percentile of votes).\n",
    "\n",
    "* The movie’s vote_count and vote_average must be non-null (i.e., they exist)."
   ]
  },
  {
   "cell_type": "code",
   "execution_count": 14,
   "id": "9d2129ef",
   "metadata": {
    "execution": {
     "iopub.execute_input": "2024-10-23T07:14:13.531617Z",
     "iopub.status.busy": "2024-10-23T07:14:13.531087Z",
     "iopub.status.idle": "2024-10-23T07:14:13.556720Z",
     "shell.execute_reply": "2024-10-23T07:14:13.555459Z"
    },
    "papermill": {
     "duration": 0.050364,
     "end_time": "2024-10-23T07:14:13.559223",
     "exception": false,
     "start_time": "2024-10-23T07:14:13.508859",
     "status": "completed"
    },
    "tags": []
   },
   "outputs": [
    {
     "data": {
      "text/html": [
       "<div>\n",
       "<style scoped>\n",
       "    .dataframe tbody tr th:only-of-type {\n",
       "        vertical-align: middle;\n",
       "    }\n",
       "\n",
       "    .dataframe tbody tr th {\n",
       "        vertical-align: top;\n",
       "    }\n",
       "\n",
       "    .dataframe thead th {\n",
       "        text-align: right;\n",
       "    }\n",
       "</style>\n",
       "<table border=\"1\" class=\"dataframe\">\n",
       "  <thead>\n",
       "    <tr style=\"text-align: right;\">\n",
       "      <th></th>\n",
       "      <th>id</th>\n",
       "      <th>title</th>\n",
       "      <th>year</th>\n",
       "      <th>vote_count</th>\n",
       "      <th>vote_average</th>\n",
       "      <th>popularity</th>\n",
       "      <th>genres</th>\n",
       "    </tr>\n",
       "  </thead>\n",
       "  <tbody>\n",
       "    <tr>\n",
       "      <th>0</th>\n",
       "      <td>862</td>\n",
       "      <td>Toy Story</td>\n",
       "      <td>1995</td>\n",
       "      <td>5415.0</td>\n",
       "      <td>7.7</td>\n",
       "      <td>21.946943</td>\n",
       "      <td>[Animation, Comedy, Family]</td>\n",
       "    </tr>\n",
       "    <tr>\n",
       "      <th>1</th>\n",
       "      <td>8844</td>\n",
       "      <td>Jumanji</td>\n",
       "      <td>1995</td>\n",
       "      <td>2413.0</td>\n",
       "      <td>6.9</td>\n",
       "      <td>17.015539</td>\n",
       "      <td>[Adventure, Fantasy, Family]</td>\n",
       "    </tr>\n",
       "    <tr>\n",
       "      <th>4</th>\n",
       "      <td>11862</td>\n",
       "      <td>Father of the Bride Part II</td>\n",
       "      <td>1995</td>\n",
       "      <td>173.0</td>\n",
       "      <td>5.7</td>\n",
       "      <td>8.387519</td>\n",
       "      <td>[Comedy]</td>\n",
       "    </tr>\n",
       "    <tr>\n",
       "      <th>5</th>\n",
       "      <td>949</td>\n",
       "      <td>Heat</td>\n",
       "      <td>1995</td>\n",
       "      <td>1886.0</td>\n",
       "      <td>7.7</td>\n",
       "      <td>17.924927</td>\n",
       "      <td>[Action, Crime, Drama, Thriller]</td>\n",
       "    </tr>\n",
       "    <tr>\n",
       "      <th>8</th>\n",
       "      <td>9091</td>\n",
       "      <td>Sudden Death</td>\n",
       "      <td>1995</td>\n",
       "      <td>174.0</td>\n",
       "      <td>5.5</td>\n",
       "      <td>5.23158</td>\n",
       "      <td>[Action, Adventure, Thriller]</td>\n",
       "    </tr>\n",
       "  </tbody>\n",
       "</table>\n",
       "</div>"
      ],
      "text/plain": [
       "      id                        title  year  vote_count  vote_average  \\\n",
       "0    862                    Toy Story  1995      5415.0           7.7   \n",
       "1   8844                      Jumanji  1995      2413.0           6.9   \n",
       "4  11862  Father of the Bride Part II  1995       173.0           5.7   \n",
       "5    949                         Heat  1995      1886.0           7.7   \n",
       "8   9091                 Sudden Death  1995       174.0           5.5   \n",
       "\n",
       "  popularity                            genres  \n",
       "0  21.946943       [Animation, Comedy, Family]  \n",
       "1  17.015539      [Adventure, Fantasy, Family]  \n",
       "4   8.387519                          [Comedy]  \n",
       "5  17.924927  [Action, Crime, Drama, Thriller]  \n",
       "8    5.23158     [Action, Adventure, Thriller]  "
      ]
     },
     "execution_count": 14,
     "metadata": {},
     "output_type": "execute_result"
    }
   ],
   "source": [
    "df = movies[(movies['vote_count'] >= m) & (movies['vote_count'].notnull()) & (movies['vote_average'].notnull())][['id','title', 'year', 'vote_count', 'vote_average', 'popularity', 'genres']]\n",
    "\n",
    "df.head()"
   ]
  },
  {
   "cell_type": "code",
   "execution_count": 15,
   "id": "09cef8f0",
   "metadata": {
    "execution": {
     "iopub.execute_input": "2024-10-23T07:14:13.603779Z",
     "iopub.status.busy": "2024-10-23T07:14:13.603375Z",
     "iopub.status.idle": "2024-10-23T07:14:13.611505Z",
     "shell.execute_reply": "2024-10-23T07:14:13.610306Z"
    },
    "papermill": {
     "duration": 0.032845,
     "end_time": "2024-10-23T07:14:13.613811",
     "exception": false,
     "start_time": "2024-10-23T07:14:13.580966",
     "status": "completed"
    },
    "tags": []
   },
   "outputs": [
    {
     "name": "stdout",
     "output_type": "stream",
     "text": [
      "(4551, 7)\n"
     ]
    }
   ],
   "source": [
    "df['vote_count'] = df['vote_count'].astype('int')\n",
    "\n",
    "df['vote_average'] = df['vote_average'].astype('int')\n",
    "\n",
    "print(df.shape)"
   ]
  },
  {
   "cell_type": "markdown",
   "id": "b3c2fe01",
   "metadata": {
    "papermill": {
     "duration": 0.021076,
     "end_time": "2024-10-23T07:14:13.656332",
     "exception": false,
     "start_time": "2024-10-23T07:14:13.635256",
     "status": "completed"
    },
    "tags": []
   },
   "source": [
    "**Observation**\n",
    "\n",
    "\n",
    "\n",
    "* The average ratings for a movie is 5.245 of 10\n",
    "\n",
    "* A movie must have at least 160 votes will be considered for qualify\n",
    "\n",
    "* Only 4551 movies will be on chart"
   ]
  },
  {
   "cell_type": "markdown",
   "id": "21e1d795",
   "metadata": {
    "papermill": {
     "duration": 0.02101,
     "end_time": "2024-10-23T07:14:13.698493",
     "exception": false,
     "start_time": "2024-10-23T07:14:13.677483",
     "status": "completed"
    },
    "tags": []
   },
   "source": [
    "create a new column to store the weighted ratings"
   ]
  },
  {
   "cell_type": "code",
   "execution_count": 16,
   "id": "a0cd630c",
   "metadata": {
    "execution": {
     "iopub.execute_input": "2024-10-23T07:14:13.743064Z",
     "iopub.status.busy": "2024-10-23T07:14:13.742653Z",
     "iopub.status.idle": "2024-10-23T07:14:13.764988Z",
     "shell.execute_reply": "2024-10-23T07:14:13.763930Z"
    },
    "papermill": {
     "duration": 0.047501,
     "end_time": "2024-10-23T07:14:13.767574",
     "exception": false,
     "start_time": "2024-10-23T07:14:13.720073",
     "status": "completed"
    },
    "tags": []
   },
   "outputs": [
    {
     "data": {
      "text/html": [
       "<div>\n",
       "<style scoped>\n",
       "    .dataframe tbody tr th:only-of-type {\n",
       "        vertical-align: middle;\n",
       "    }\n",
       "\n",
       "    .dataframe tbody tr th {\n",
       "        vertical-align: top;\n",
       "    }\n",
       "\n",
       "    .dataframe thead th {\n",
       "        text-align: right;\n",
       "    }\n",
       "</style>\n",
       "<table border=\"1\" class=\"dataframe\">\n",
       "  <thead>\n",
       "    <tr style=\"text-align: right;\">\n",
       "      <th></th>\n",
       "      <th>id</th>\n",
       "      <th>title</th>\n",
       "      <th>year</th>\n",
       "      <th>vote_count</th>\n",
       "      <th>vote_average</th>\n",
       "      <th>popularity</th>\n",
       "      <th>genres</th>\n",
       "      <th>w_ratings</th>\n",
       "    </tr>\n",
       "  </thead>\n",
       "  <tbody>\n",
       "    <tr>\n",
       "      <th>0</th>\n",
       "      <td>862</td>\n",
       "      <td>Toy Story</td>\n",
       "      <td>1995</td>\n",
       "      <td>5415</td>\n",
       "      <td>7</td>\n",
       "      <td>21.946943</td>\n",
       "      <td>[Animation, Comedy, Family]</td>\n",
       "      <td>6.949633</td>\n",
       "    </tr>\n",
       "    <tr>\n",
       "      <th>1</th>\n",
       "      <td>8844</td>\n",
       "      <td>Jumanji</td>\n",
       "      <td>1995</td>\n",
       "      <td>2413</td>\n",
       "      <td>6</td>\n",
       "      <td>17.015539</td>\n",
       "      <td>[Adventure, Fantasy, Family]</td>\n",
       "      <td>5.953053</td>\n",
       "    </tr>\n",
       "    <tr>\n",
       "      <th>4</th>\n",
       "      <td>11862</td>\n",
       "      <td>Father of the Bride Part II</td>\n",
       "      <td>1995</td>\n",
       "      <td>173</td>\n",
       "      <td>5</td>\n",
       "      <td>8.387519</td>\n",
       "      <td>[Comedy]</td>\n",
       "      <td>5.117735</td>\n",
       "    </tr>\n",
       "    <tr>\n",
       "      <th>5</th>\n",
       "      <td>949</td>\n",
       "      <td>Heat</td>\n",
       "      <td>1995</td>\n",
       "      <td>1886</td>\n",
       "      <td>7</td>\n",
       "      <td>17.924927</td>\n",
       "      <td>[Action, Crime, Drama, Thriller]</td>\n",
       "      <td>6.862759</td>\n",
       "    </tr>\n",
       "    <tr>\n",
       "      <th>8</th>\n",
       "      <td>9091</td>\n",
       "      <td>Sudden Death</td>\n",
       "      <td>1995</td>\n",
       "      <td>174</td>\n",
       "      <td>5</td>\n",
       "      <td>5.23158</td>\n",
       "      <td>[Action, Adventure, Thriller]</td>\n",
       "      <td>5.117383</td>\n",
       "    </tr>\n",
       "    <tr>\n",
       "      <th>...</th>\n",
       "      <td>...</td>\n",
       "      <td>...</td>\n",
       "      <td>...</td>\n",
       "      <td>...</td>\n",
       "      <td>...</td>\n",
       "      <td>...</td>\n",
       "      <td>...</td>\n",
       "      <td>...</td>\n",
       "    </tr>\n",
       "    <tr>\n",
       "      <th>45145</th>\n",
       "      <td>339692</td>\n",
       "      <td>Shot Caller</td>\n",
       "      <td>2017</td>\n",
       "      <td>324</td>\n",
       "      <td>6</td>\n",
       "      <td>15.786854</td>\n",
       "      <td>[Drama, Crime, Thriller]</td>\n",
       "      <td>5.750425</td>\n",
       "    </tr>\n",
       "    <tr>\n",
       "      <th>45148</th>\n",
       "      <td>375798</td>\n",
       "      <td>Brice 3</td>\n",
       "      <td>2016</td>\n",
       "      <td>160</td>\n",
       "      <td>4</td>\n",
       "      <td>7.276407</td>\n",
       "      <td>[Comedy]</td>\n",
       "      <td>4.622518</td>\n",
       "    </tr>\n",
       "    <tr>\n",
       "      <th>45175</th>\n",
       "      <td>417870</td>\n",
       "      <td>Girls Trip</td>\n",
       "      <td>2017</td>\n",
       "      <td>393</td>\n",
       "      <td>7</td>\n",
       "      <td>37.964872</td>\n",
       "      <td>[Comedy]</td>\n",
       "      <td>6.492235</td>\n",
       "    </tr>\n",
       "    <tr>\n",
       "      <th>45229</th>\n",
       "      <td>417320</td>\n",
       "      <td>Descendants 2</td>\n",
       "      <td>2017</td>\n",
       "      <td>171</td>\n",
       "      <td>7</td>\n",
       "      <td>15.842073</td>\n",
       "      <td>[TV Movie, Family, Action, Comedy, Music, Adve...</td>\n",
       "      <td>6.151679</td>\n",
       "    </tr>\n",
       "    <tr>\n",
       "      <th>45313</th>\n",
       "      <td>248705</td>\n",
       "      <td>The Visitors: Bastille Day</td>\n",
       "      <td>2016</td>\n",
       "      <td>167</td>\n",
       "      <td>4</td>\n",
       "      <td>7.29492</td>\n",
       "      <td>[Comedy]</td>\n",
       "      <td>4.609192</td>\n",
       "    </tr>\n",
       "  </tbody>\n",
       "</table>\n",
       "<p>4551 rows × 8 columns</p>\n",
       "</div>"
      ],
      "text/plain": [
       "           id                        title  year  vote_count  vote_average  \\\n",
       "0         862                    Toy Story  1995        5415             7   \n",
       "1        8844                      Jumanji  1995        2413             6   \n",
       "4       11862  Father of the Bride Part II  1995         173             5   \n",
       "5         949                         Heat  1995        1886             7   \n",
       "8        9091                 Sudden Death  1995         174             5   \n",
       "...       ...                          ...   ...         ...           ...   \n",
       "45145  339692                  Shot Caller  2017         324             6   \n",
       "45148  375798                      Brice 3  2016         160             4   \n",
       "45175  417870                   Girls Trip  2017         393             7   \n",
       "45229  417320                Descendants 2  2017         171             7   \n",
       "45313  248705   The Visitors: Bastille Day  2016         167             4   \n",
       "\n",
       "      popularity                                             genres  w_ratings  \n",
       "0      21.946943                        [Animation, Comedy, Family]   6.949633  \n",
       "1      17.015539                       [Adventure, Fantasy, Family]   5.953053  \n",
       "4       8.387519                                           [Comedy]   5.117735  \n",
       "5      17.924927                   [Action, Crime, Drama, Thriller]   6.862759  \n",
       "8        5.23158                      [Action, Adventure, Thriller]   5.117383  \n",
       "...          ...                                                ...        ...  \n",
       "45145  15.786854                           [Drama, Crime, Thriller]   5.750425  \n",
       "45148   7.276407                                           [Comedy]   4.622518  \n",
       "45175  37.964872                                           [Comedy]   6.492235  \n",
       "45229  15.842073  [TV Movie, Family, Action, Comedy, Music, Adve...   6.151679  \n",
       "45313    7.29492                                           [Comedy]   4.609192  \n",
       "\n",
       "[4551 rows x 8 columns]"
      ]
     },
     "execution_count": 16,
     "metadata": {},
     "output_type": "execute_result"
    }
   ],
   "source": [
    "df['w_ratings'] = (df['vote_count'] / (df['vote_count'] + m)) * df['vote_average'] + (m / (df['vote_count'] + m)) * C\n",
    "\n",
    "df"
   ]
  },
  {
   "cell_type": "markdown",
   "id": "1414288d",
   "metadata": {
    "papermill": {
     "duration": 0.021878,
     "end_time": "2024-10-23T07:14:13.811949",
     "exception": false,
     "start_time": "2024-10-23T07:14:13.790071",
     "status": "completed"
    },
    "tags": []
   },
   "source": [
    "Analyse the new dataframe based on movie title"
   ]
  },
  {
   "cell_type": "code",
   "execution_count": 17,
   "id": "f2080412",
   "metadata": {
    "execution": {
     "iopub.execute_input": "2024-10-23T07:14:13.856723Z",
     "iopub.status.busy": "2024-10-23T07:14:13.856293Z",
     "iopub.status.idle": "2024-10-23T07:14:13.866648Z",
     "shell.execute_reply": "2024-10-23T07:14:13.865236Z"
    },
    "papermill": {
     "duration": 0.035445,
     "end_time": "2024-10-23T07:14:13.868928",
     "exception": false,
     "start_time": "2024-10-23T07:14:13.833483",
     "status": "completed"
    },
    "tags": []
   },
   "outputs": [
    {
     "name": "stdout",
     "output_type": "stream",
     "text": [
      "\n",
      "Unique titles: 4460\n",
      "Total titles: 4551\n",
      "Number of duplicate titles: 91\n"
     ]
    }
   ],
   "source": [
    "unique_titles_count = df['title'].nunique()\n",
    "\n",
    "total_titles_count = df['title'].count()\n",
    "\n",
    "print(\"\\nUnique titles:\", unique_titles_count)\n",
    "\n",
    "print(\"Total titles:\", total_titles_count)\n",
    "\n",
    "print(\"Number of duplicate titles:\", total_titles_count - unique_titles_count)"
   ]
  },
  {
   "cell_type": "markdown",
   "id": "5473d3dd",
   "metadata": {
    "papermill": {
     "duration": 0.023068,
     "end_time": "2024-10-23T07:14:13.915733",
     "exception": false,
     "start_time": "2024-10-23T07:14:13.892665",
     "status": "completed"
    },
    "tags": []
   },
   "source": [
    "Explore the duplication in the dataframe"
   ]
  },
  {
   "cell_type": "code",
   "execution_count": 18,
   "id": "bf0df0c2",
   "metadata": {
    "execution": {
     "iopub.execute_input": "2024-10-23T07:14:13.963479Z",
     "iopub.status.busy": "2024-10-23T07:14:13.963036Z",
     "iopub.status.idle": "2024-10-23T07:14:13.991731Z",
     "shell.execute_reply": "2024-10-23T07:14:13.990383Z"
    },
    "papermill": {
     "duration": 0.055951,
     "end_time": "2024-10-23T07:14:13.994461",
     "exception": false,
     "start_time": "2024-10-23T07:14:13.938510",
     "status": "completed"
    },
    "tags": []
   },
   "outputs": [
    {
     "name": "stdout",
     "output_type": "stream",
     "text": [
      "DataFrame containing duplicate titles:\n",
      "\n"
     ]
    },
    {
     "data": {
      "text/html": [
       "<div>\n",
       "<style scoped>\n",
       "    .dataframe tbody tr th:only-of-type {\n",
       "        vertical-align: middle;\n",
       "    }\n",
       "\n",
       "    .dataframe tbody tr th {\n",
       "        vertical-align: top;\n",
       "    }\n",
       "\n",
       "    .dataframe thead th {\n",
       "        text-align: right;\n",
       "    }\n",
       "</style>\n",
       "<table border=\"1\" class=\"dataframe\">\n",
       "  <thead>\n",
       "    <tr style=\"text-align: right;\">\n",
       "      <th></th>\n",
       "      <th>id</th>\n",
       "      <th>title</th>\n",
       "      <th>year</th>\n",
       "      <th>vote_count</th>\n",
       "      <th>vote_average</th>\n",
       "      <th>popularity</th>\n",
       "      <th>genres</th>\n",
       "      <th>w_ratings</th>\n",
       "    </tr>\n",
       "  </thead>\n",
       "  <tbody>\n",
       "    <tr>\n",
       "      <th>1299</th>\n",
       "      <td>377</td>\n",
       "      <td>A Nightmare on Elm Street</td>\n",
       "      <td>1984</td>\n",
       "      <td>1212</td>\n",
       "      <td>7</td>\n",
       "      <td>13.694713</td>\n",
       "      <td>[Horror]</td>\n",
       "      <td>6.795340</td>\n",
       "    </tr>\n",
       "    <tr>\n",
       "      <th>15179</th>\n",
       "      <td>23437</td>\n",
       "      <td>A Nightmare on Elm Street</td>\n",
       "      <td>2010</td>\n",
       "      <td>771</td>\n",
       "      <td>5</td>\n",
       "      <td>10.40191</td>\n",
       "      <td>[Horror, Mystery, Thriller]</td>\n",
       "      <td>5.042112</td>\n",
       "    </tr>\n",
       "    <tr>\n",
       "      <th>14887</th>\n",
       "      <td>12155</td>\n",
       "      <td>Alice in Wonderland</td>\n",
       "      <td>2010</td>\n",
       "      <td>4773</td>\n",
       "      <td>6</td>\n",
       "      <td>17.285093</td>\n",
       "      <td>[Family, Fantasy, Adventure]</td>\n",
       "      <td>5.975513</td>\n",
       "    </tr>\n",
       "    <tr>\n",
       "      <th>1003</th>\n",
       "      <td>12092</td>\n",
       "      <td>Alice in Wonderland</td>\n",
       "      <td>1951</td>\n",
       "      <td>1557</td>\n",
       "      <td>7</td>\n",
       "      <td>16.488937</td>\n",
       "      <td>[Animation, Adventure, Family, Fantasy]</td>\n",
       "      <td>6.836462</td>\n",
       "    </tr>\n",
       "    <tr>\n",
       "      <th>25702</th>\n",
       "      <td>196867</td>\n",
       "      <td>Annie</td>\n",
       "      <td>2014</td>\n",
       "      <td>472</td>\n",
       "      <td>6</td>\n",
       "      <td>13.275529</td>\n",
       "      <td>[Comedy, Drama, Family]</td>\n",
       "      <td>5.808870</td>\n",
       "    </tr>\n",
       "    <tr>\n",
       "      <th>...</th>\n",
       "      <td>...</td>\n",
       "      <td>...</td>\n",
       "      <td>...</td>\n",
       "      <td>...</td>\n",
       "      <td>...</td>\n",
       "      <td>...</td>\n",
       "      <td>...</td>\n",
       "      <td>...</td>\n",
       "    </tr>\n",
       "    <tr>\n",
       "      <th>4623</th>\n",
       "      <td>16307</td>\n",
       "      <td>The Wicker Man</td>\n",
       "      <td>1973</td>\n",
       "      <td>313</td>\n",
       "      <td>7</td>\n",
       "      <td>7.206941</td>\n",
       "      <td>[Horror, Music, Mystery, Thriller]</td>\n",
       "      <td>6.406355</td>\n",
       "    </tr>\n",
       "    <tr>\n",
       "      <th>2799</th>\n",
       "      <td>861</td>\n",
       "      <td>Total Recall</td>\n",
       "      <td>1990</td>\n",
       "      <td>1745</td>\n",
       "      <td>7</td>\n",
       "      <td>12.954444</td>\n",
       "      <td>[Action, Adventure, Science Fiction]</td>\n",
       "      <td>6.852601</td>\n",
       "    </tr>\n",
       "    <tr>\n",
       "      <th>19210</th>\n",
       "      <td>64635</td>\n",
       "      <td>Total Recall</td>\n",
       "      <td>2012</td>\n",
       "      <td>2540</td>\n",
       "      <td>5</td>\n",
       "      <td>16.42635</td>\n",
       "      <td>[Action, Science Fiction, Adventure, Thriller]</td>\n",
       "      <td>5.014521</td>\n",
       "    </tr>\n",
       "    <tr>\n",
       "      <th>3372</th>\n",
       "      <td>17529</td>\n",
       "      <td>True Grit</td>\n",
       "      <td>1969</td>\n",
       "      <td>205</td>\n",
       "      <td>7</td>\n",
       "      <td>12.497833</td>\n",
       "      <td>[Western]</td>\n",
       "      <td>6.230701</td>\n",
       "    </tr>\n",
       "    <tr>\n",
       "      <th>16271</th>\n",
       "      <td>44264</td>\n",
       "      <td>True Grit</td>\n",
       "      <td>2010</td>\n",
       "      <td>1701</td>\n",
       "      <td>7</td>\n",
       "      <td>10.730765</td>\n",
       "      <td>[Drama, Adventure, Western]</td>\n",
       "      <td>6.849117</td>\n",
       "    </tr>\n",
       "  </tbody>\n",
       "</table>\n",
       "<p>179 rows × 8 columns</p>\n",
       "</div>"
      ],
      "text/plain": [
       "           id                      title  year  vote_count  vote_average  \\\n",
       "1299      377  A Nightmare on Elm Street  1984        1212             7   \n",
       "15179   23437  A Nightmare on Elm Street  2010         771             5   \n",
       "14887   12155        Alice in Wonderland  2010        4773             6   \n",
       "1003    12092        Alice in Wonderland  1951        1557             7   \n",
       "25702  196867                      Annie  2014         472             6   \n",
       "...       ...                        ...   ...         ...           ...   \n",
       "4623    16307             The Wicker Man  1973         313             7   \n",
       "2799      861               Total Recall  1990        1745             7   \n",
       "19210   64635               Total Recall  2012        2540             5   \n",
       "3372    17529                  True Grit  1969         205             7   \n",
       "16271   44264                  True Grit  2010        1701             7   \n",
       "\n",
       "      popularity                                          genres  w_ratings  \n",
       "1299   13.694713                                        [Horror]   6.795340  \n",
       "15179   10.40191                     [Horror, Mystery, Thriller]   5.042112  \n",
       "14887  17.285093                    [Family, Fantasy, Adventure]   5.975513  \n",
       "1003   16.488937         [Animation, Adventure, Family, Fantasy]   6.836462  \n",
       "25702  13.275529                         [Comedy, Drama, Family]   5.808870  \n",
       "...          ...                                             ...        ...  \n",
       "4623    7.206941              [Horror, Music, Mystery, Thriller]   6.406355  \n",
       "2799   12.954444            [Action, Adventure, Science Fiction]   6.852601  \n",
       "19210   16.42635  [Action, Science Fiction, Adventure, Thriller]   5.014521  \n",
       "3372   12.497833                                       [Western]   6.230701  \n",
       "16271  10.730765                     [Drama, Adventure, Western]   6.849117  \n",
       "\n",
       "[179 rows x 8 columns]"
      ]
     },
     "execution_count": 18,
     "metadata": {},
     "output_type": "execute_result"
    }
   ],
   "source": [
    "duplicates = df[df.duplicated(subset=['title'], keep=False)]\n",
    "\n",
    "\n",
    "\n",
    "duplicate_titles_df = duplicates.sort_values('title') # create a new DataFrame containing all rows with duplicate titles\n",
    "\n",
    "print(\"DataFrame containing duplicate titles:\\n\")\n",
    "\n",
    "duplicate_titles_df"
   ]
  },
  {
   "cell_type": "markdown",
   "id": "c38bac17",
   "metadata": {
    "papermill": {
     "duration": 0.021628,
     "end_time": "2024-10-23T07:14:14.038723",
     "exception": false,
     "start_time": "2024-10-23T07:14:14.017095",
     "status": "completed"
    },
    "tags": []
   },
   "source": [
    "**Observation**\n",
    "\n",
    "\n",
    "\n",
    "* There are 179 duplicate movies in the dataframe.\n",
    "\n",
    "* The duplication due to different release year"
   ]
  },
  {
   "cell_type": "markdown",
   "id": "7be9556c",
   "metadata": {
    "papermill": {
     "duration": 0.021634,
     "end_time": "2024-10-23T07:14:14.082291",
     "exception": false,
     "start_time": "2024-10-23T07:14:14.060657",
     "status": "completed"
    },
    "tags": []
   },
   "source": [
    "# Visualisation"
   ]
  },
  {
   "cell_type": "markdown",
   "id": "3d731a9c",
   "metadata": {
    "papermill": {
     "duration": 0.022177,
     "end_time": "2024-10-23T07:14:14.126613",
     "exception": false,
     "start_time": "2024-10-23T07:14:14.104436",
     "status": "completed"
    },
    "tags": []
   },
   "source": [
    "Since the column genres contains a list of name, it is necessary to transform it before applying visualisation"
   ]
  },
  {
   "cell_type": "code",
   "execution_count": 19,
   "id": "1e8441c3",
   "metadata": {
    "execution": {
     "iopub.execute_input": "2024-10-23T07:14:14.174742Z",
     "iopub.status.busy": "2024-10-23T07:14:14.174105Z",
     "iopub.status.idle": "2024-10-23T07:14:14.208108Z",
     "shell.execute_reply": "2024-10-23T07:14:14.207074Z"
    },
    "papermill": {
     "duration": 0.059609,
     "end_time": "2024-10-23T07:14:14.210517",
     "exception": false,
     "start_time": "2024-10-23T07:14:14.150908",
     "status": "completed"
    },
    "tags": []
   },
   "outputs": [
    {
     "data": {
      "text/html": [
       "<div>\n",
       "<style scoped>\n",
       "    .dataframe tbody tr th:only-of-type {\n",
       "        vertical-align: middle;\n",
       "    }\n",
       "\n",
       "    .dataframe tbody tr th {\n",
       "        vertical-align: top;\n",
       "    }\n",
       "\n",
       "    .dataframe thead th {\n",
       "        text-align: right;\n",
       "    }\n",
       "</style>\n",
       "<table border=\"1\" class=\"dataframe\">\n",
       "  <thead>\n",
       "    <tr style=\"text-align: right;\">\n",
       "      <th></th>\n",
       "      <th>id</th>\n",
       "      <th>title</th>\n",
       "      <th>year</th>\n",
       "      <th>vote_count</th>\n",
       "      <th>vote_average</th>\n",
       "      <th>popularity</th>\n",
       "      <th>genre</th>\n",
       "      <th>w_ratings</th>\n",
       "    </tr>\n",
       "  </thead>\n",
       "  <tbody>\n",
       "    <tr>\n",
       "      <th>0</th>\n",
       "      <td>862</td>\n",
       "      <td>Toy Story</td>\n",
       "      <td>1995</td>\n",
       "      <td>5415</td>\n",
       "      <td>7</td>\n",
       "      <td>21.946943</td>\n",
       "      <td>Animation</td>\n",
       "      <td>6.949633</td>\n",
       "    </tr>\n",
       "    <tr>\n",
       "      <th>0</th>\n",
       "      <td>862</td>\n",
       "      <td>Toy Story</td>\n",
       "      <td>1995</td>\n",
       "      <td>5415</td>\n",
       "      <td>7</td>\n",
       "      <td>21.946943</td>\n",
       "      <td>Comedy</td>\n",
       "      <td>6.949633</td>\n",
       "    </tr>\n",
       "    <tr>\n",
       "      <th>0</th>\n",
       "      <td>862</td>\n",
       "      <td>Toy Story</td>\n",
       "      <td>1995</td>\n",
       "      <td>5415</td>\n",
       "      <td>7</td>\n",
       "      <td>21.946943</td>\n",
       "      <td>Family</td>\n",
       "      <td>6.949633</td>\n",
       "    </tr>\n",
       "    <tr>\n",
       "      <th>1</th>\n",
       "      <td>8844</td>\n",
       "      <td>Jumanji</td>\n",
       "      <td>1995</td>\n",
       "      <td>2413</td>\n",
       "      <td>6</td>\n",
       "      <td>17.015539</td>\n",
       "      <td>Adventure</td>\n",
       "      <td>5.953053</td>\n",
       "    </tr>\n",
       "    <tr>\n",
       "      <th>1</th>\n",
       "      <td>8844</td>\n",
       "      <td>Jumanji</td>\n",
       "      <td>1995</td>\n",
       "      <td>2413</td>\n",
       "      <td>6</td>\n",
       "      <td>17.015539</td>\n",
       "      <td>Fantasy</td>\n",
       "      <td>5.953053</td>\n",
       "    </tr>\n",
       "    <tr>\n",
       "      <th>...</th>\n",
       "      <td>...</td>\n",
       "      <td>...</td>\n",
       "      <td>...</td>\n",
       "      <td>...</td>\n",
       "      <td>...</td>\n",
       "      <td>...</td>\n",
       "      <td>...</td>\n",
       "      <td>...</td>\n",
       "    </tr>\n",
       "    <tr>\n",
       "      <th>45229</th>\n",
       "      <td>417320</td>\n",
       "      <td>Descendants 2</td>\n",
       "      <td>2017</td>\n",
       "      <td>171</td>\n",
       "      <td>7</td>\n",
       "      <td>15.842073</td>\n",
       "      <td>Action</td>\n",
       "      <td>6.151679</td>\n",
       "    </tr>\n",
       "    <tr>\n",
       "      <th>45229</th>\n",
       "      <td>417320</td>\n",
       "      <td>Descendants 2</td>\n",
       "      <td>2017</td>\n",
       "      <td>171</td>\n",
       "      <td>7</td>\n",
       "      <td>15.842073</td>\n",
       "      <td>Comedy</td>\n",
       "      <td>6.151679</td>\n",
       "    </tr>\n",
       "    <tr>\n",
       "      <th>45229</th>\n",
       "      <td>417320</td>\n",
       "      <td>Descendants 2</td>\n",
       "      <td>2017</td>\n",
       "      <td>171</td>\n",
       "      <td>7</td>\n",
       "      <td>15.842073</td>\n",
       "      <td>Music</td>\n",
       "      <td>6.151679</td>\n",
       "    </tr>\n",
       "    <tr>\n",
       "      <th>45229</th>\n",
       "      <td>417320</td>\n",
       "      <td>Descendants 2</td>\n",
       "      <td>2017</td>\n",
       "      <td>171</td>\n",
       "      <td>7</td>\n",
       "      <td>15.842073</td>\n",
       "      <td>Adventure</td>\n",
       "      <td>6.151679</td>\n",
       "    </tr>\n",
       "    <tr>\n",
       "      <th>45313</th>\n",
       "      <td>248705</td>\n",
       "      <td>The Visitors: Bastille Day</td>\n",
       "      <td>2016</td>\n",
       "      <td>167</td>\n",
       "      <td>4</td>\n",
       "      <td>7.29492</td>\n",
       "      <td>Comedy</td>\n",
       "      <td>4.609192</td>\n",
       "    </tr>\n",
       "  </tbody>\n",
       "</table>\n",
       "<p>11999 rows × 8 columns</p>\n",
       "</div>"
      ],
      "text/plain": [
       "           id                       title  year  vote_count  vote_average  \\\n",
       "0         862                   Toy Story  1995        5415             7   \n",
       "0         862                   Toy Story  1995        5415             7   \n",
       "0         862                   Toy Story  1995        5415             7   \n",
       "1        8844                     Jumanji  1995        2413             6   \n",
       "1        8844                     Jumanji  1995        2413             6   \n",
       "...       ...                         ...   ...         ...           ...   \n",
       "45229  417320               Descendants 2  2017         171             7   \n",
       "45229  417320               Descendants 2  2017         171             7   \n",
       "45229  417320               Descendants 2  2017         171             7   \n",
       "45229  417320               Descendants 2  2017         171             7   \n",
       "45313  248705  The Visitors: Bastille Day  2016         167             4   \n",
       "\n",
       "      popularity      genre  w_ratings  \n",
       "0      21.946943  Animation   6.949633  \n",
       "0      21.946943     Comedy   6.949633  \n",
       "0      21.946943     Family   6.949633  \n",
       "1      17.015539  Adventure   5.953053  \n",
       "1      17.015539    Fantasy   5.953053  \n",
       "...          ...        ...        ...  \n",
       "45229  15.842073     Action   6.151679  \n",
       "45229  15.842073     Comedy   6.151679  \n",
       "45229  15.842073      Music   6.151679  \n",
       "45229  15.842073  Adventure   6.151679  \n",
       "45313    7.29492     Comedy   4.609192  \n",
       "\n",
       "[11999 rows x 8 columns]"
      ]
     },
     "execution_count": 19,
     "metadata": {},
     "output_type": "execute_result"
    }
   ],
   "source": [
    "df_exploded = df.explode('genres')\n",
    "\n",
    "df_exploded = df_exploded.rename(columns={'genres': 'genre'})\n",
    "\n",
    "df_exploded"
   ]
  },
  {
   "cell_type": "markdown",
   "id": "ef5ee8f9",
   "metadata": {
    "papermill": {
     "duration": 0.021998,
     "end_time": "2024-10-23T07:14:14.255715",
     "exception": false,
     "start_time": "2024-10-23T07:14:14.233717",
     "status": "completed"
    },
    "tags": []
   },
   "source": [
    "The top 250 movies with highest weighted ratings"
   ]
  },
  {
   "cell_type": "code",
   "execution_count": 20,
   "id": "38f5ff62",
   "metadata": {
    "execution": {
     "iopub.execute_input": "2024-10-23T07:14:14.303378Z",
     "iopub.status.busy": "2024-10-23T07:14:14.302978Z",
     "iopub.status.idle": "2024-10-23T07:14:14.325481Z",
     "shell.execute_reply": "2024-10-23T07:14:14.324326Z"
    },
    "papermill": {
     "duration": 0.049314,
     "end_time": "2024-10-23T07:14:14.327881",
     "exception": false,
     "start_time": "2024-10-23T07:14:14.278567",
     "status": "completed"
    },
    "tags": []
   },
   "outputs": [
    {
     "data": {
      "text/html": [
       "<div>\n",
       "<style scoped>\n",
       "    .dataframe tbody tr th:only-of-type {\n",
       "        vertical-align: middle;\n",
       "    }\n",
       "\n",
       "    .dataframe tbody tr th {\n",
       "        vertical-align: top;\n",
       "    }\n",
       "\n",
       "    .dataframe thead th {\n",
       "        text-align: right;\n",
       "    }\n",
       "</style>\n",
       "<table border=\"1\" class=\"dataframe\">\n",
       "  <thead>\n",
       "    <tr style=\"text-align: right;\">\n",
       "      <th></th>\n",
       "      <th>id</th>\n",
       "      <th>title</th>\n",
       "      <th>year</th>\n",
       "      <th>vote_count</th>\n",
       "      <th>vote_average</th>\n",
       "      <th>popularity</th>\n",
       "      <th>genre</th>\n",
       "      <th>w_ratings</th>\n",
       "    </tr>\n",
       "  </thead>\n",
       "  <tbody>\n",
       "    <tr>\n",
       "      <th>10306</th>\n",
       "      <td>19404</td>\n",
       "      <td>Dilwale Dulhania Le Jayenge</td>\n",
       "      <td>1995</td>\n",
       "      <td>661</td>\n",
       "      <td>9</td>\n",
       "      <td>34.457024</td>\n",
       "      <td>Drama</td>\n",
       "      <td>8.268217</td>\n",
       "    </tr>\n",
       "    <tr>\n",
       "      <th>15474</th>\n",
       "      <td>27205</td>\n",
       "      <td>Inception</td>\n",
       "      <td>2010</td>\n",
       "      <td>14075</td>\n",
       "      <td>8</td>\n",
       "      <td>29.108149</td>\n",
       "      <td>Adventure</td>\n",
       "      <td>7.969034</td>\n",
       "    </tr>\n",
       "    <tr>\n",
       "      <th>12477</th>\n",
       "      <td>155</td>\n",
       "      <td>The Dark Knight</td>\n",
       "      <td>2008</td>\n",
       "      <td>12269</td>\n",
       "      <td>8</td>\n",
       "      <td>123.167259</td>\n",
       "      <td>Action</td>\n",
       "      <td>7.964535</td>\n",
       "    </tr>\n",
       "    <tr>\n",
       "      <th>22865</th>\n",
       "      <td>157336</td>\n",
       "      <td>Interstellar</td>\n",
       "      <td>2014</td>\n",
       "      <td>11187</td>\n",
       "      <td>8</td>\n",
       "      <td>32.213481</td>\n",
       "      <td>Adventure</td>\n",
       "      <td>7.961153</td>\n",
       "    </tr>\n",
       "    <tr>\n",
       "      <th>2842</th>\n",
       "      <td>550</td>\n",
       "      <td>Fight Club</td>\n",
       "      <td>1999</td>\n",
       "      <td>9678</td>\n",
       "      <td>8</td>\n",
       "      <td>63.869599</td>\n",
       "      <td>Drama</td>\n",
       "      <td>7.955195</td>\n",
       "    </tr>\n",
       "    <tr>\n",
       "      <th>...</th>\n",
       "      <td>...</td>\n",
       "      <td>...</td>\n",
       "      <td>...</td>\n",
       "      <td>...</td>\n",
       "      <td>...</td>\n",
       "      <td>...</td>\n",
       "      <td>...</td>\n",
       "      <td>...</td>\n",
       "    </tr>\n",
       "    <tr>\n",
       "      <th>11004</th>\n",
       "      <td>350</td>\n",
       "      <td>The Devil Wears Prada</td>\n",
       "      <td>2006</td>\n",
       "      <td>3198</td>\n",
       "      <td>7</td>\n",
       "      <td>13.102384</td>\n",
       "      <td>Drama</td>\n",
       "      <td>6.916381</td>\n",
       "    </tr>\n",
       "    <tr>\n",
       "      <th>21592</th>\n",
       "      <td>146233</td>\n",
       "      <td>Prisoners</td>\n",
       "      <td>2013</td>\n",
       "      <td>3183</td>\n",
       "      <td>7</td>\n",
       "      <td>11.96262</td>\n",
       "      <td>Drama</td>\n",
       "      <td>6.916005</td>\n",
       "    </tr>\n",
       "    <tr>\n",
       "      <th>13183</th>\n",
       "      <td>13223</td>\n",
       "      <td>Gran Torino</td>\n",
       "      <td>2008</td>\n",
       "      <td>3181</td>\n",
       "      <td>7</td>\n",
       "      <td>14.794228</td>\n",
       "      <td>Drama</td>\n",
       "      <td>6.915955</td>\n",
       "    </tr>\n",
       "    <tr>\n",
       "      <th>21264</th>\n",
       "      <td>138843</td>\n",
       "      <td>The Conjuring</td>\n",
       "      <td>2013</td>\n",
       "      <td>3169</td>\n",
       "      <td>7</td>\n",
       "      <td>14.90169</td>\n",
       "      <td>Horror</td>\n",
       "      <td>6.915652</td>\n",
       "    </tr>\n",
       "    <tr>\n",
       "      <th>7833</th>\n",
       "      <td>11036</td>\n",
       "      <td>The Notebook</td>\n",
       "      <td>2004</td>\n",
       "      <td>3163</td>\n",
       "      <td>7</td>\n",
       "      <td>15.239013</td>\n",
       "      <td>Drama</td>\n",
       "      <td>6.915500</td>\n",
       "    </tr>\n",
       "  </tbody>\n",
       "</table>\n",
       "<p>250 rows × 8 columns</p>\n",
       "</div>"
      ],
      "text/plain": [
       "           id                        title  year  vote_count  vote_average  \\\n",
       "10306   19404  Dilwale Dulhania Le Jayenge  1995         661             9   \n",
       "15474   27205                    Inception  2010       14075             8   \n",
       "12477     155              The Dark Knight  2008       12269             8   \n",
       "22865  157336                 Interstellar  2014       11187             8   \n",
       "2842      550                   Fight Club  1999        9678             8   \n",
       "...       ...                          ...   ...         ...           ...   \n",
       "11004     350        The Devil Wears Prada  2006        3198             7   \n",
       "21592  146233                    Prisoners  2013        3183             7   \n",
       "13183   13223                  Gran Torino  2008        3181             7   \n",
       "21264  138843                The Conjuring  2013        3169             7   \n",
       "7833    11036                 The Notebook  2004        3163             7   \n",
       "\n",
       "       popularity      genre  w_ratings  \n",
       "10306   34.457024      Drama   8.268217  \n",
       "15474   29.108149  Adventure   7.969034  \n",
       "12477  123.167259     Action   7.964535  \n",
       "22865   32.213481  Adventure   7.961153  \n",
       "2842    63.869599      Drama   7.955195  \n",
       "...           ...        ...        ...  \n",
       "11004   13.102384      Drama   6.916381  \n",
       "21592    11.96262      Drama   6.916005  \n",
       "13183   14.794228      Drama   6.915955  \n",
       "21264    14.90169     Horror   6.915652  \n",
       "7833    15.239013      Drama   6.915500  \n",
       "\n",
       "[250 rows x 8 columns]"
      ]
     },
     "execution_count": 20,
     "metadata": {},
     "output_type": "execute_result"
    }
   ],
   "source": [
    "top250 = df_exploded.sort_values('w_ratings', ascending=False).drop_duplicates('title').head(250)\n",
    "\n",
    "top250"
   ]
  },
  {
   "cell_type": "markdown",
   "id": "381ffed7",
   "metadata": {
    "papermill": {
     "duration": 0.022556,
     "end_time": "2024-10-23T07:14:14.373464",
     "exception": false,
     "start_time": "2024-10-23T07:14:14.350908",
     "status": "completed"
    },
    "tags": []
   },
   "source": [
    "The top 20 movies with highest weighted ratings"
   ]
  },
  {
   "cell_type": "code",
   "execution_count": 21,
   "id": "388157c1",
   "metadata": {
    "execution": {
     "iopub.execute_input": "2024-10-23T07:14:14.420882Z",
     "iopub.status.busy": "2024-10-23T07:14:14.419898Z",
     "iopub.status.idle": "2024-10-23T07:14:14.931854Z",
     "shell.execute_reply": "2024-10-23T07:14:14.930905Z"
    },
    "papermill": {
     "duration": 0.539109,
     "end_time": "2024-10-23T07:14:14.935026",
     "exception": false,
     "start_time": "2024-10-23T07:14:14.395917",
     "status": "completed"
    },
    "tags": []
   },
   "outputs": [
    {
     "data": {
      "image/png": "[encoded data removed]",
      "text/plain": [
       "<Figure size 640x480 with 1 Axes>"
      ]
     },
     "metadata": {},
     "output_type": "display_data"
    }
   ],
   "source": [
    "top20 = df_exploded.sort_values('w_ratings', ascending=False).drop_duplicates('title').head(20)\n",
    "\n",
    "sns.barplot(x='w_ratings', y='title', data=top20, palette='viridis')\n",
    "\n",
    "plt.title('Top 20 Movies by Weighted Rating',fontsize=16)\n",
    "\n",
    "plt.xlabel('Weighted Rating (WR)', fontsize=12)\n",
    "\n",
    "plt.ylabel('Movie Title', fontsize=12)\n",
    "\n",
    "\n",
    "\n",
    "# Get the minimum and maximum values in 'w_ratings' to set appropriate xlim\n",
    "\n",
    "min_wr = top20['w_ratings'].min()\n",
    "\n",
    "max_wr = top20['w_ratings'].max()\n",
    "\n",
    "\n",
    "\n",
    "# Set xlim based on the actual data, but zoom in slightly to highlight differences\n",
    "\n",
    "plt.xlim(min_wr - 0.1, max_wr + 0.1)\n",
    "\n",
    "\n",
    "\n",
    "# Add the exact WR value on the bars for higher precision\n",
    "\n",
    "for index, value in enumerate(top20['w_ratings']):\n",
    "\n",
    "    plt.text(value - 0.001, index, f'{value:.3f}', color='black', va=\"center\")\n",
    "\n",
    "\n",
    "\n",
    "# Format the x-axis ticks to show only one decimal place\n",
    "\n",
    "plt.gca().xaxis.set_major_formatter(ticker.FormatStrFormatter('%.1f'))\n",
    "\n",
    "\n",
    "\n",
    "plt.show()"
   ]
  },
  {
   "cell_type": "markdown",
   "id": "bce3e3d8",
   "metadata": {
    "papermill": {
     "duration": 0.023856,
     "end_time": "2024-10-23T07:14:14.983900",
     "exception": false,
     "start_time": "2024-10-23T07:14:14.960044",
     "status": "completed"
    },
    "tags": []
   },
   "source": [
    "The popularity (frequency) of genres in the top 250 movies"
   ]
  },
  {
   "cell_type": "code",
   "execution_count": 22,
   "id": "8e005407",
   "metadata": {
    "execution": {
     "iopub.execute_input": "2024-10-23T07:14:15.034253Z",
     "iopub.status.busy": "2024-10-23T07:14:15.033414Z",
     "iopub.status.idle": "2024-10-23T07:14:15.046982Z",
     "shell.execute_reply": "2024-10-23T07:14:15.045729Z"
    },
    "papermill": {
     "duration": 0.041243,
     "end_time": "2024-10-23T07:14:15.049280",
     "exception": false,
     "start_time": "2024-10-23T07:14:15.008037",
     "status": "completed"
    },
    "tags": []
   },
   "outputs": [
    {
     "data": {
      "text/html": [
       "<div>\n",
       "<style scoped>\n",
       "    .dataframe tbody tr th:only-of-type {\n",
       "        vertical-align: middle;\n",
       "    }\n",
       "\n",
       "    .dataframe tbody tr th {\n",
       "        vertical-align: top;\n",
       "    }\n",
       "\n",
       "    .dataframe thead th {\n",
       "        text-align: right;\n",
       "    }\n",
       "</style>\n",
       "<table border=\"1\" class=\"dataframe\">\n",
       "  <thead>\n",
       "    <tr style=\"text-align: right;\">\n",
       "      <th></th>\n",
       "      <th>genre</th>\n",
       "      <th>count</th>\n",
       "    </tr>\n",
       "  </thead>\n",
       "  <tbody>\n",
       "    <tr>\n",
       "      <th>0</th>\n",
       "      <td>Drama</td>\n",
       "      <td>60</td>\n",
       "    </tr>\n",
       "    <tr>\n",
       "      <th>1</th>\n",
       "      <td>Adventure</td>\n",
       "      <td>30</td>\n",
       "    </tr>\n",
       "    <tr>\n",
       "      <th>2</th>\n",
       "      <td>Thriller</td>\n",
       "      <td>25</td>\n",
       "    </tr>\n",
       "    <tr>\n",
       "      <th>3</th>\n",
       "      <td>Action</td>\n",
       "      <td>20</td>\n",
       "    </tr>\n",
       "    <tr>\n",
       "      <th>4</th>\n",
       "      <td>Science Fiction</td>\n",
       "      <td>16</td>\n",
       "    </tr>\n",
       "    <tr>\n",
       "      <th>5</th>\n",
       "      <td>Family</td>\n",
       "      <td>16</td>\n",
       "    </tr>\n",
       "    <tr>\n",
       "      <th>6</th>\n",
       "      <td>Animation</td>\n",
       "      <td>14</td>\n",
       "    </tr>\n",
       "    <tr>\n",
       "      <th>7</th>\n",
       "      <td>Comedy</td>\n",
       "      <td>14</td>\n",
       "    </tr>\n",
       "    <tr>\n",
       "      <th>8</th>\n",
       "      <td>Romance</td>\n",
       "      <td>13</td>\n",
       "    </tr>\n",
       "    <tr>\n",
       "      <th>9</th>\n",
       "      <td>Fantasy</td>\n",
       "      <td>12</td>\n",
       "    </tr>\n",
       "    <tr>\n",
       "      <th>10</th>\n",
       "      <td>Crime</td>\n",
       "      <td>12</td>\n",
       "    </tr>\n",
       "    <tr>\n",
       "      <th>11</th>\n",
       "      <td>War</td>\n",
       "      <td>6</td>\n",
       "    </tr>\n",
       "    <tr>\n",
       "      <th>12</th>\n",
       "      <td>Mystery</td>\n",
       "      <td>4</td>\n",
       "    </tr>\n",
       "    <tr>\n",
       "      <th>13</th>\n",
       "      <td>Western</td>\n",
       "      <td>3</td>\n",
       "    </tr>\n",
       "    <tr>\n",
       "      <th>14</th>\n",
       "      <td>Horror</td>\n",
       "      <td>2</td>\n",
       "    </tr>\n",
       "    <tr>\n",
       "      <th>15</th>\n",
       "      <td>History</td>\n",
       "      <td>2</td>\n",
       "    </tr>\n",
       "    <tr>\n",
       "      <th>16</th>\n",
       "      <td>Documentary</td>\n",
       "      <td>1</td>\n",
       "    </tr>\n",
       "  </tbody>\n",
       "</table>\n",
       "</div>"
      ],
      "text/plain": [
       "              genre  count\n",
       "0             Drama     60\n",
       "1         Adventure     30\n",
       "2          Thriller     25\n",
       "3            Action     20\n",
       "4   Science Fiction     16\n",
       "5            Family     16\n",
       "6         Animation     14\n",
       "7            Comedy     14\n",
       "8           Romance     13\n",
       "9           Fantasy     12\n",
       "10            Crime     12\n",
       "11              War      6\n",
       "12          Mystery      4\n",
       "13          Western      3\n",
       "14           Horror      2\n",
       "15          History      2\n",
       "16      Documentary      1"
      ]
     },
     "execution_count": 22,
     "metadata": {},
     "output_type": "execute_result"
    }
   ],
   "source": [
    "# Count the number of movies per genre in the top 250 dataframe\n",
    "\n",
    "genre_count = top250['genre'].value_counts().reset_index()\n",
    "\n",
    "genre_count.columns = ['genre', 'count']  # Rename columns for clarity\n",
    "\n",
    "genre_count"
   ]
  },
  {
   "cell_type": "code",
   "execution_count": 23,
   "id": "a977bd2f",
   "metadata": {
    "execution": {
     "iopub.execute_input": "2024-10-23T07:14:15.101676Z",
     "iopub.status.busy": "2024-10-23T07:14:15.100834Z",
     "iopub.status.idle": "2024-10-23T07:14:15.270063Z",
     "shell.execute_reply": "2024-10-23T07:14:15.268514Z"
    },
    "papermill": {
     "duration": 0.19851,
     "end_time": "2024-10-23T07:14:15.272784",
     "exception": false,
     "start_time": "2024-10-23T07:14:15.074274",
     "status": "completed"
    },
    "tags": []
   },
   "outputs": [
    {
     "data": {
      "image/png": "[encoded data removed]",
      "text/plain": [
       "<Figure size 640x480 with 1 Axes>"
      ]
     },
     "metadata": {},
     "output_type": "display_data"
    }
   ],
   "source": [
    "# Normalize the genre counts for better visualization\n",
    "\n",
    "sizes = genre_count['count']\n",
    "\n",
    "\n",
    "\n",
    "# Create a treemap\n",
    "\n",
    "squarify.plot(sizes=sizes, label=genre_count['genre'], alpha=0.8, color=sns.color_palette('plasma', len(genre_count)))\n",
    "\n",
    "plt.title('Treemap of Genre Frequency in Top 250 Movies', fontsize=16)\n",
    "\n",
    "plt.axis('off')\n",
    "\n",
    "plt.show()"
   ]
  },
  {
   "cell_type": "markdown",
   "id": "b87f18f1",
   "metadata": {
    "papermill": {
     "duration": 0.08063,
     "end_time": "2024-10-23T07:14:15.379909",
     "exception": false,
     "start_time": "2024-10-23T07:14:15.299279",
     "status": "completed"
    },
    "tags": []
   },
   "source": [
    "The popularity of genres in the top 20 movies"
   ]
  },
  {
   "cell_type": "code",
   "execution_count": 24,
   "id": "3e99142f",
   "metadata": {
    "execution": {
     "iopub.execute_input": "2024-10-23T07:14:15.432924Z",
     "iopub.status.busy": "2024-10-23T07:14:15.432154Z",
     "iopub.status.idle": "2024-10-23T07:14:15.444939Z",
     "shell.execute_reply": "2024-10-23T07:14:15.443722Z"
    },
    "papermill": {
     "duration": 0.042432,
     "end_time": "2024-10-23T07:14:15.447460",
     "exception": false,
     "start_time": "2024-10-23T07:14:15.405028",
     "status": "completed"
    },
    "tags": []
   },
   "outputs": [
    {
     "data": {
      "text/html": [
       "<div>\n",
       "<style scoped>\n",
       "    .dataframe tbody tr th:only-of-type {\n",
       "        vertical-align: middle;\n",
       "    }\n",
       "\n",
       "    .dataframe tbody tr th {\n",
       "        vertical-align: top;\n",
       "    }\n",
       "\n",
       "    .dataframe thead th {\n",
       "        text-align: right;\n",
       "    }\n",
       "</style>\n",
       "<table border=\"1\" class=\"dataframe\">\n",
       "  <thead>\n",
       "    <tr style=\"text-align: right;\">\n",
       "      <th></th>\n",
       "      <th>genre</th>\n",
       "      <th>count</th>\n",
       "    </tr>\n",
       "  </thead>\n",
       "  <tbody>\n",
       "    <tr>\n",
       "      <th>0</th>\n",
       "      <td>Adventure</td>\n",
       "      <td>5</td>\n",
       "    </tr>\n",
       "    <tr>\n",
       "      <th>1</th>\n",
       "      <td>Drama</td>\n",
       "      <td>4</td>\n",
       "    </tr>\n",
       "    <tr>\n",
       "      <th>2</th>\n",
       "      <td>Comedy</td>\n",
       "      <td>3</td>\n",
       "    </tr>\n",
       "    <tr>\n",
       "      <th>3</th>\n",
       "      <td>Thriller</td>\n",
       "      <td>2</td>\n",
       "    </tr>\n",
       "    <tr>\n",
       "      <th>4</th>\n",
       "      <td>Crime</td>\n",
       "      <td>2</td>\n",
       "    </tr>\n",
       "    <tr>\n",
       "      <th>5</th>\n",
       "      <td>Action</td>\n",
       "      <td>1</td>\n",
       "    </tr>\n",
       "    <tr>\n",
       "      <th>6</th>\n",
       "      <td>Fantasy</td>\n",
       "      <td>1</td>\n",
       "    </tr>\n",
       "    <tr>\n",
       "      <th>7</th>\n",
       "      <td>Science Fiction</td>\n",
       "      <td>1</td>\n",
       "    </tr>\n",
       "    <tr>\n",
       "      <th>8</th>\n",
       "      <td>Animation</td>\n",
       "      <td>1</td>\n",
       "    </tr>\n",
       "  </tbody>\n",
       "</table>\n",
       "</div>"
      ],
      "text/plain": [
       "             genre  count\n",
       "0        Adventure      5\n",
       "1            Drama      4\n",
       "2           Comedy      3\n",
       "3         Thriller      2\n",
       "4            Crime      2\n",
       "5           Action      1\n",
       "6          Fantasy      1\n",
       "7  Science Fiction      1\n",
       "8        Animation      1"
      ]
     },
     "execution_count": 24,
     "metadata": {},
     "output_type": "execute_result"
    }
   ],
   "source": [
    "# Count the number of movies per genre in the top 20 DataFrame\n",
    "\n",
    "genre_count2 = top20['genre'].value_counts().reset_index()\n",
    "\n",
    "genre_count2.columns = ['genre', 'count']\n",
    "\n",
    "genre_count2"
   ]
  },
  {
   "cell_type": "code",
   "execution_count": 25,
   "id": "e3c7bc6e",
   "metadata": {
    "execution": {
     "iopub.execute_input": "2024-10-23T07:14:15.501033Z",
     "iopub.status.busy": "2024-10-23T07:14:15.500584Z",
     "iopub.status.idle": "2024-10-23T07:14:15.683188Z",
     "shell.execute_reply": "2024-10-23T07:14:15.681910Z"
    },
    "papermill": {
     "duration": 0.213381,
     "end_time": "2024-10-23T07:14:15.686914",
     "exception": false,
     "start_time": "2024-10-23T07:14:15.473533",
     "status": "completed"
    },
    "tags": []
   },
   "outputs": [
    {
     "data": {
      "image/png": "[encoded data removed]",
      "text/plain": [
       "<Figure size 640x480 with 1 Axes>"
      ]
     },
     "metadata": {},
     "output_type": "display_data"
    }
   ],
   "source": [
    "plt.pie(genre_count2['count'], labels=genre_count2['genre'], autopct='%1.1f%%', startangle=140, colors=sns.color_palette('plasma', len(genre_count2)))\n",
    "\n",
    "plt.title('Genre Distribution in Top 20 Movies', fontsize=14)\n",
    "\n",
    "plt.gca().set_aspect('equal')  # Equal aspect ratio to ensure the donut is circular\n",
    "\n",
    "plt.show()"
   ]
  },
  {
   "cell_type": "markdown",
   "id": "29aa9a2c",
   "metadata": {
    "papermill": {
     "duration": 0.03498,
     "end_time": "2024-10-23T07:14:15.767318",
     "exception": false,
     "start_time": "2024-10-23T07:14:15.732338",
     "status": "completed"
    },
    "tags": []
   },
   "source": [
    "**Observation**\n",
    "\n",
    "\n",
    "\n",
    "* Drama is the most popular genre in the top 250 movies is Drama, followed by Adventure, Thriller, Action and Science Fiction\n",
    "\n",
    "* In the top 20 movies, the most popular genre is Adventure, followed by Drama and Comedy."
   ]
  },
  {
   "cell_type": "markdown",
   "id": "c3869e27",
   "metadata": {
    "papermill": {
     "duration": 0.025693,
     "end_time": "2024-10-23T07:14:15.818911",
     "exception": false,
     "start_time": "2024-10-23T07:14:15.793218",
     "status": "completed"
    },
    "tags": []
   },
   "source": [
    "Find the top 20 movies for a genre"
   ]
  },
  {
   "cell_type": "code",
   "execution_count": 26,
   "id": "61af9076",
   "metadata": {
    "execution": {
     "iopub.execute_input": "2024-10-23T07:14:15.873513Z",
     "iopub.status.busy": "2024-10-23T07:14:15.872461Z",
     "iopub.status.idle": "2024-10-23T07:14:15.880359Z",
     "shell.execute_reply": "2024-10-23T07:14:15.878972Z"
    },
    "papermill": {
     "duration": 0.037734,
     "end_time": "2024-10-23T07:14:15.882735",
     "exception": false,
     "start_time": "2024-10-23T07:14:15.845001",
     "status": "completed"
    },
    "tags": []
   },
   "outputs": [],
   "source": [
    "def get_top_movies_by_genre(genre, df):\n",
    "\n",
    "    \"\"\"\n",
    "\n",
    "    Returns a DataFrame with the top 10 movies for a specific genre from the provided DataFrame.\n",
    "\n",
    "\n",
    "\n",
    "    Parameters:\n",
    "\n",
    "    genre (str): The genre for which to retrieve the top movies.\n",
    "\n",
    "    df (DataFrame): The DataFrame containing the top movies.\n",
    "\n",
    "\n",
    "\n",
    "    Returns:\n",
    "\n",
    "    DataFrame: A filtered DataFrame with the top 10 movies for the given genre, including title, year, popularity, genre, and w_ratings.\n",
    "\n",
    "    \"\"\"\n",
    "\n",
    "    # Filter the DataFrame for the specified genre\n",
    "\n",
    "    genre_movies = df[df['genre'].str.contains(genre, case=False, na=False)]\n",
    "\n",
    "    \n",
    "\n",
    "    # Sort the filtered DataFrame by weighted ratings in descending order\n",
    "\n",
    "    top_movies = genre_movies.sort_values(by='w_ratings', ascending=False).head(10)\n",
    "\n",
    "    \n",
    "\n",
    "    # Return the filtered DataFrame (title, year, popularity, genre, and w_ratings for better visualization)\n",
    "\n",
    "    return top_movies[['title', 'year', 'popularity', 'w_ratings']].drop_duplicates('title')\n"
   ]
  },
  {
   "cell_type": "code",
   "execution_count": 27,
   "id": "222297df",
   "metadata": {
    "execution": {
     "iopub.execute_input": "2024-10-23T07:14:15.939328Z",
     "iopub.status.busy": "2024-10-23T07:14:15.938091Z",
     "iopub.status.idle": "2024-10-23T07:14:15.962358Z",
     "shell.execute_reply": "2024-10-23T07:14:15.961259Z"
    },
    "papermill": {
     "duration": 0.054111,
     "end_time": "2024-10-23T07:14:15.964863",
     "exception": false,
     "start_time": "2024-10-23T07:14:15.910752",
     "status": "completed"
    },
    "tags": []
   },
   "outputs": [
    {
     "data": {
      "text/html": [
       "<div>\n",
       "<style scoped>\n",
       "    .dataframe tbody tr th:only-of-type {\n",
       "        vertical-align: middle;\n",
       "    }\n",
       "\n",
       "    .dataframe tbody tr th {\n",
       "        vertical-align: top;\n",
       "    }\n",
       "\n",
       "    .dataframe thead th {\n",
       "        text-align: right;\n",
       "    }\n",
       "</style>\n",
       "<table border=\"1\" class=\"dataframe\">\n",
       "  <thead>\n",
       "    <tr style=\"text-align: right;\">\n",
       "      <th></th>\n",
       "      <th>title</th>\n",
       "      <th>year</th>\n",
       "      <th>popularity</th>\n",
       "      <th>w_ratings</th>\n",
       "    </tr>\n",
       "  </thead>\n",
       "  <tbody>\n",
       "    <tr>\n",
       "      <th>15474</th>\n",
       "      <td>Inception</td>\n",
       "      <td>2010</td>\n",
       "      <td>29.108149</td>\n",
       "      <td>7.969034</td>\n",
       "    </tr>\n",
       "    <tr>\n",
       "      <th>12477</th>\n",
       "      <td>The Dark Knight</td>\n",
       "      <td>2008</td>\n",
       "      <td>123.167259</td>\n",
       "      <td>7.964535</td>\n",
       "    </tr>\n",
       "    <tr>\n",
       "      <th>4862</th>\n",
       "      <td>The Lord of the Rings: The Fellowship of the Ring</td>\n",
       "      <td>2001</td>\n",
       "      <td>32.070725</td>\n",
       "      <td>7.951304</td>\n",
       "    </tr>\n",
       "    <tr>\n",
       "      <th>6999</th>\n",
       "      <td>The Lord of the Rings: The Return of the King</td>\n",
       "      <td>2003</td>\n",
       "      <td>29.324358</td>\n",
       "      <td>7.947437</td>\n",
       "    </tr>\n",
       "    <tr>\n",
       "      <th>5813</th>\n",
       "      <td>The Lord of the Rings: The Two Towers</td>\n",
       "      <td>2002</td>\n",
       "      <td>29.423537</td>\n",
       "      <td>7.943495</td>\n",
       "    </tr>\n",
       "    <tr>\n",
       "      <th>256</th>\n",
       "      <td>Star Wars</td>\n",
       "      <td>1977</td>\n",
       "      <td>42.149697</td>\n",
       "      <td>7.936467</td>\n",
       "    </tr>\n",
       "    <tr>\n",
       "      <th>1154</th>\n",
       "      <td>The Empire Strikes Back</td>\n",
       "      <td>1980</td>\n",
       "      <td>19.470959</td>\n",
       "      <td>7.928419</td>\n",
       "    </tr>\n",
       "    <tr>\n",
       "      <th>4134</th>\n",
       "      <td>Scarface</td>\n",
       "      <td>1983</td>\n",
       "      <td>11.299673</td>\n",
       "      <td>7.861255</td>\n",
       "    </tr>\n",
       "    <tr>\n",
       "      <th>9427</th>\n",
       "      <td>Oldboy</td>\n",
       "      <td>2003</td>\n",
       "      <td>10.616859</td>\n",
       "      <td>7.795929</td>\n",
       "    </tr>\n",
       "    <tr>\n",
       "      <th>1909</th>\n",
       "      <td>Seven Samurai</td>\n",
       "      <td>1954</td>\n",
       "      <td>15.01777</td>\n",
       "      <td>7.580994</td>\n",
       "    </tr>\n",
       "  </tbody>\n",
       "</table>\n",
       "</div>"
      ],
      "text/plain": [
       "                                                   title  year  popularity  \\\n",
       "15474                                          Inception  2010   29.108149   \n",
       "12477                                    The Dark Knight  2008  123.167259   \n",
       "4862   The Lord of the Rings: The Fellowship of the Ring  2001   32.070725   \n",
       "6999       The Lord of the Rings: The Return of the King  2003   29.324358   \n",
       "5813               The Lord of the Rings: The Two Towers  2002   29.423537   \n",
       "256                                            Star Wars  1977   42.149697   \n",
       "1154                             The Empire Strikes Back  1980   19.470959   \n",
       "4134                                            Scarface  1983   11.299673   \n",
       "9427                                              Oldboy  2003   10.616859   \n",
       "1909                                       Seven Samurai  1954    15.01777   \n",
       "\n",
       "       w_ratings  \n",
       "15474   7.969034  \n",
       "12477   7.964535  \n",
       "4862    7.951304  \n",
       "6999    7.947437  \n",
       "5813    7.943495  \n",
       "256     7.936467  \n",
       "1154    7.928419  \n",
       "4134    7.861255  \n",
       "9427    7.795929  \n",
       "1909    7.580994  "
      ]
     },
     "execution_count": 27,
     "metadata": {},
     "output_type": "execute_result"
    }
   ],
   "source": [
    "get_top_movies_by_genre('Action', df_exploded)"
   ]
  },
  {
   "cell_type": "markdown",
   "id": "0329028b",
   "metadata": {
    "papermill": {
     "duration": 0.025691,
     "end_time": "2024-10-23T07:14:16.016721",
     "exception": false,
     "start_time": "2024-10-23T07:14:15.991030",
     "status": "completed"
    },
    "tags": []
   },
   "source": [
    "# Content based  Recommender\n",
    "\n",
    "\n",
    "\n",
    "In this part, a recommendation engine is built, which computes similarity between movies based on certain metrics and suggests movies that are most similar to a particular movie that a user liked. For this purpose, the dataset credits and keywords are used additionally. \n",
    "\n",
    "\n",
    "\n",
    "The goal is to built a personalized recommendation engine according to the favorite cast and director."
   ]
  },
  {
   "cell_type": "code",
   "execution_count": 28,
   "id": "9aa27e19",
   "metadata": {
    "execution": {
     "iopub.execute_input": "2024-10-23T07:14:16.071557Z",
     "iopub.status.busy": "2024-10-23T07:14:16.070599Z",
     "iopub.status.idle": "2024-10-23T07:14:16.075239Z",
     "shell.execute_reply": "2024-10-23T07:14:16.074195Z"
    },
    "papermill": {
     "duration": 0.034773,
     "end_time": "2024-10-23T07:14:16.077512",
     "exception": false,
     "start_time": "2024-10-23T07:14:16.042739",
     "status": "completed"
    },
    "tags": []
   },
   "outputs": [],
   "source": [
    "#credits = pd.read_csv('data/credits.csv')\n",
    "\n",
    "#keywords = pd.read_csv('data/keywords.csv')"
   ]
  },
  {
   "cell_type": "code",
   "execution_count": 29,
   "id": "adf080c8",
   "metadata": {
    "execution": {
     "iopub.execute_input": "2024-10-23T07:14:16.134125Z",
     "iopub.status.busy": "2024-10-23T07:14:16.133423Z",
     "iopub.status.idle": "2024-10-23T07:14:16.144527Z",
     "shell.execute_reply": "2024-10-23T07:14:16.143456Z"
    },
    "papermill": {
     "duration": 0.042748,
     "end_time": "2024-10-23T07:14:16.146739",
     "exception": false,
     "start_time": "2024-10-23T07:14:16.103991",
     "status": "completed"
    },
    "tags": []
   },
   "outputs": [
    {
     "data": {
      "text/html": [
       "<div>\n",
       "<style scoped>\n",
       "    .dataframe tbody tr th:only-of-type {\n",
       "        vertical-align: middle;\n",
       "    }\n",
       "\n",
       "    .dataframe tbody tr th {\n",
       "        vertical-align: top;\n",
       "    }\n",
       "\n",
       "    .dataframe thead th {\n",
       "        text-align: right;\n",
       "    }\n",
       "</style>\n",
       "<table border=\"1\" class=\"dataframe\">\n",
       "  <thead>\n",
       "    <tr style=\"text-align: right;\">\n",
       "      <th></th>\n",
       "      <th>cast</th>\n",
       "      <th>crew</th>\n",
       "      <th>id</th>\n",
       "    </tr>\n",
       "  </thead>\n",
       "  <tbody>\n",
       "    <tr>\n",
       "      <th>0</th>\n",
       "      <td>[{'cast_id': 14, 'character': 'Woody (voice)',...</td>\n",
       "      <td>[{'credit_id': '52fe4284c3a36847f8024f49', 'de...</td>\n",
       "      <td>862</td>\n",
       "    </tr>\n",
       "    <tr>\n",
       "      <th>1</th>\n",
       "      <td>[{'cast_id': 1, 'character': 'Alan Parrish', '...</td>\n",
       "      <td>[{'credit_id': '52fe44bfc3a36847f80a7cd1', 'de...</td>\n",
       "      <td>8844</td>\n",
       "    </tr>\n",
       "    <tr>\n",
       "      <th>2</th>\n",
       "      <td>[{'cast_id': 2, 'character': 'Max Goldman', 'c...</td>\n",
       "      <td>[{'credit_id': '52fe466a9251416c75077a89', 'de...</td>\n",
       "      <td>15602</td>\n",
       "    </tr>\n",
       "    <tr>\n",
       "      <th>3</th>\n",
       "      <td>[{'cast_id': 1, 'character': \"Savannah 'Vannah...</td>\n",
       "      <td>[{'credit_id': '52fe44779251416c91011acb', 'de...</td>\n",
       "      <td>31357</td>\n",
       "    </tr>\n",
       "    <tr>\n",
       "      <th>4</th>\n",
       "      <td>[{'cast_id': 1, 'character': 'George Banks', '...</td>\n",
       "      <td>[{'credit_id': '52fe44959251416c75039ed7', 'de...</td>\n",
       "      <td>11862</td>\n",
       "    </tr>\n",
       "  </tbody>\n",
       "</table>\n",
       "</div>"
      ],
      "text/plain": [
       "                                                cast  \\\n",
       "0  [{'cast_id': 14, 'character': 'Woody (voice)',...   \n",
       "1  [{'cast_id': 1, 'character': 'Alan Parrish', '...   \n",
       "2  [{'cast_id': 2, 'character': 'Max Goldman', 'c...   \n",
       "3  [{'cast_id': 1, 'character': \"Savannah 'Vannah...   \n",
       "4  [{'cast_id': 1, 'character': 'George Banks', '...   \n",
       "\n",
       "                                                crew     id  \n",
       "0  [{'credit_id': '52fe4284c3a36847f8024f49', 'de...    862  \n",
       "1  [{'credit_id': '52fe44bfc3a36847f80a7cd1', 'de...   8844  \n",
       "2  [{'credit_id': '52fe466a9251416c75077a89', 'de...  15602  \n",
       "3  [{'credit_id': '52fe44779251416c91011acb', 'de...  31357  \n",
       "4  [{'credit_id': '52fe44959251416c75039ed7', 'de...  11862  "
      ]
     },
     "execution_count": 29,
     "metadata": {},
     "output_type": "execute_result"
    }
   ],
   "source": [
    "credits.head()"
   ]
  },
  {
   "cell_type": "code",
   "execution_count": 30,
   "id": "00f43151",
   "metadata": {
    "execution": {
     "iopub.execute_input": "2024-10-23T07:14:16.203501Z",
     "iopub.status.busy": "2024-10-23T07:14:16.203105Z",
     "iopub.status.idle": "2024-10-23T07:14:16.213313Z",
     "shell.execute_reply": "2024-10-23T07:14:16.212114Z"
    },
    "papermill": {
     "duration": 0.041416,
     "end_time": "2024-10-23T07:14:16.215673",
     "exception": false,
     "start_time": "2024-10-23T07:14:16.174257",
     "status": "completed"
    },
    "tags": []
   },
   "outputs": [
    {
     "data": {
      "text/html": [
       "<div>\n",
       "<style scoped>\n",
       "    .dataframe tbody tr th:only-of-type {\n",
       "        vertical-align: middle;\n",
       "    }\n",
       "\n",
       "    .dataframe tbody tr th {\n",
       "        vertical-align: top;\n",
       "    }\n",
       "\n",
       "    .dataframe thead th {\n",
       "        text-align: right;\n",
       "    }\n",
       "</style>\n",
       "<table border=\"1\" class=\"dataframe\">\n",
       "  <thead>\n",
       "    <tr style=\"text-align: right;\">\n",
       "      <th></th>\n",
       "      <th>id</th>\n",
       "      <th>keywords</th>\n",
       "    </tr>\n",
       "  </thead>\n",
       "  <tbody>\n",
       "    <tr>\n",
       "      <th>0</th>\n",
       "      <td>862</td>\n",
       "      <td>[{'id': 931, 'name': 'jealousy'}, {'id': 4290,...</td>\n",
       "    </tr>\n",
       "    <tr>\n",
       "      <th>1</th>\n",
       "      <td>8844</td>\n",
       "      <td>[{'id': 10090, 'name': 'board game'}, {'id': 1...</td>\n",
       "    </tr>\n",
       "    <tr>\n",
       "      <th>2</th>\n",
       "      <td>15602</td>\n",
       "      <td>[{'id': 1495, 'name': 'fishing'}, {'id': 12392...</td>\n",
       "    </tr>\n",
       "    <tr>\n",
       "      <th>3</th>\n",
       "      <td>31357</td>\n",
       "      <td>[{'id': 818, 'name': 'based on novel'}, {'id':...</td>\n",
       "    </tr>\n",
       "    <tr>\n",
       "      <th>4</th>\n",
       "      <td>11862</td>\n",
       "      <td>[{'id': 1009, 'name': 'baby'}, {'id': 1599, 'n...</td>\n",
       "    </tr>\n",
       "  </tbody>\n",
       "</table>\n",
       "</div>"
      ],
      "text/plain": [
       "      id                                           keywords\n",
       "0    862  [{'id': 931, 'name': 'jealousy'}, {'id': 4290,...\n",
       "1   8844  [{'id': 10090, 'name': 'board game'}, {'id': 1...\n",
       "2  15602  [{'id': 1495, 'name': 'fishing'}, {'id': 12392...\n",
       "3  31357  [{'id': 818, 'name': 'based on novel'}, {'id':...\n",
       "4  11862  [{'id': 1009, 'name': 'baby'}, {'id': 1599, 'n..."
      ]
     },
     "execution_count": 30,
     "metadata": {},
     "output_type": "execute_result"
    }
   ],
   "source": [
    "keywords.head()"
   ]
  },
  {
   "cell_type": "code",
   "execution_count": 31,
   "id": "dae4fa11",
   "metadata": {
    "execution": {
     "iopub.execute_input": "2024-10-23T07:14:16.270929Z",
     "iopub.status.busy": "2024-10-23T07:14:16.270483Z",
     "iopub.status.idle": "2024-10-23T07:14:16.277613Z",
     "shell.execute_reply": "2024-10-23T07:14:16.276446Z"
    },
    "papermill": {
     "duration": 0.038005,
     "end_time": "2024-10-23T07:14:16.280281",
     "exception": false,
     "start_time": "2024-10-23T07:14:16.242276",
     "status": "completed"
    },
    "tags": []
   },
   "outputs": [
    {
     "data": {
      "text/plain": [
       "(45476, 3)"
      ]
     },
     "execution_count": 31,
     "metadata": {},
     "output_type": "execute_result"
    }
   ],
   "source": [
    "credits.shape"
   ]
  },
  {
   "cell_type": "code",
   "execution_count": 32,
   "id": "f695ac00",
   "metadata": {
    "execution": {
     "iopub.execute_input": "2024-10-23T07:14:16.337554Z",
     "iopub.status.busy": "2024-10-23T07:14:16.336731Z",
     "iopub.status.idle": "2024-10-23T07:14:16.343404Z",
     "shell.execute_reply": "2024-10-23T07:14:16.342504Z"
    },
    "papermill": {
     "duration": 0.036901,
     "end_time": "2024-10-23T07:14:16.345557",
     "exception": false,
     "start_time": "2024-10-23T07:14:16.308656",
     "status": "completed"
    },
    "tags": []
   },
   "outputs": [
    {
     "data": {
      "text/plain": [
       "(46419, 2)"
      ]
     },
     "execution_count": 32,
     "metadata": {},
     "output_type": "execute_result"
    }
   ],
   "source": [
    "keywords.shape"
   ]
  },
  {
   "cell_type": "markdown",
   "id": "9e6d3ac8",
   "metadata": {
    "papermill": {
     "duration": 0.026736,
     "end_time": "2024-10-23T07:14:16.399353",
     "exception": false,
     "start_time": "2024-10-23T07:14:16.372617",
     "status": "completed"
    },
    "tags": []
   },
   "source": [
    "identify duplicates ids"
   ]
  },
  {
   "cell_type": "code",
   "execution_count": 33,
   "id": "63f0b97a",
   "metadata": {
    "execution": {
     "iopub.execute_input": "2024-10-23T07:14:16.454977Z",
     "iopub.status.busy": "2024-10-23T07:14:16.454526Z",
     "iopub.status.idle": "2024-10-23T07:14:16.468737Z",
     "shell.execute_reply": "2024-10-23T07:14:16.467615Z"
    },
    "papermill": {
     "duration": 0.044988,
     "end_time": "2024-10-23T07:14:16.471330",
     "exception": false,
     "start_time": "2024-10-23T07:14:16.426342",
     "status": "completed"
    },
    "tags": []
   },
   "outputs": [
    {
     "data": {
      "text/plain": [
       "(45432, 3)"
      ]
     },
     "execution_count": 33,
     "metadata": {},
     "output_type": "execute_result"
    }
   ],
   "source": [
    "# Drop duplicates, keeping only the first occurrence of each 'id'\n",
    "\n",
    "credits = credits.drop_duplicates(subset='id', keep='first')\n",
    "\n",
    "credits.reset_index(drop=True, inplace=True)\n",
    "\n",
    "credits.shape"
   ]
  },
  {
   "cell_type": "code",
   "execution_count": 34,
   "id": "6b7c4d4d",
   "metadata": {
    "execution": {
     "iopub.execute_input": "2024-10-23T07:14:16.527790Z",
     "iopub.status.busy": "2024-10-23T07:14:16.527337Z",
     "iopub.status.idle": "2024-10-23T07:14:16.539184Z",
     "shell.execute_reply": "2024-10-23T07:14:16.538094Z"
    },
    "papermill": {
     "duration": 0.043064,
     "end_time": "2024-10-23T07:14:16.541744",
     "exception": false,
     "start_time": "2024-10-23T07:14:16.498680",
     "status": "completed"
    },
    "tags": []
   },
   "outputs": [
    {
     "data": {
      "text/plain": [
       "(45432, 2)"
      ]
     },
     "execution_count": 34,
     "metadata": {},
     "output_type": "execute_result"
    }
   ],
   "source": [
    "keywords = keywords.drop_duplicates(subset='id', keep='first')\n",
    "\n",
    "keywords.reset_index(drop=True, inplace=True)\n",
    "\n",
    "keywords.shape"
   ]
  },
  {
   "cell_type": "code",
   "execution_count": 35,
   "id": "9943b6dc",
   "metadata": {
    "execution": {
     "iopub.execute_input": "2024-10-23T07:14:16.597754Z",
     "iopub.status.busy": "2024-10-23T07:14:16.597348Z",
     "iopub.status.idle": "2024-10-23T07:14:16.605854Z",
     "shell.execute_reply": "2024-10-23T07:14:16.604680Z"
    },
    "papermill": {
     "duration": 0.039484,
     "end_time": "2024-10-23T07:14:16.608426",
     "exception": false,
     "start_time": "2024-10-23T07:14:16.568942",
     "status": "completed"
    },
    "tags": []
   },
   "outputs": [],
   "source": [
    "keywords['id'] = keywords['id'].astype('int')\n",
    "\n",
    "credits['id'] = credits['id'].astype('int')\n",
    "\n",
    "df['id'] = df['id'].astype('int') "
   ]
  },
  {
   "cell_type": "markdown",
   "id": "d7675ee1",
   "metadata": {
    "papermill": {
     "duration": 0.02656,
     "end_time": "2024-10-23T07:14:16.662334",
     "exception": false,
     "start_time": "2024-10-23T07:14:16.635774",
     "status": "completed"
    },
    "tags": []
   },
   "source": [
    "merge the dataset"
   ]
  },
  {
   "cell_type": "code",
   "execution_count": 36,
   "id": "42b6b9cd",
   "metadata": {
    "execution": {
     "iopub.execute_input": "2024-10-23T07:14:16.719140Z",
     "iopub.status.busy": "2024-10-23T07:14:16.718725Z",
     "iopub.status.idle": "2024-10-23T07:14:16.752626Z",
     "shell.execute_reply": "2024-10-23T07:14:16.751249Z"
    },
    "papermill": {
     "duration": 0.065453,
     "end_time": "2024-10-23T07:14:16.755290",
     "exception": false,
     "start_time": "2024-10-23T07:14:16.689837",
     "status": "completed"
    },
    "tags": []
   },
   "outputs": [],
   "source": [
    "df2 = df.merge(credits, on='id')\n",
    "\n",
    "df2 = df2.merge(keywords, on='id')"
   ]
  },
  {
   "cell_type": "code",
   "execution_count": 37,
   "id": "09ec7b00",
   "metadata": {
    "execution": {
     "iopub.execute_input": "2024-10-23T07:14:16.811710Z",
     "iopub.status.busy": "2024-10-23T07:14:16.811297Z",
     "iopub.status.idle": "2024-10-23T07:14:16.828854Z",
     "shell.execute_reply": "2024-10-23T07:14:16.827718Z"
    },
    "papermill": {
     "duration": 0.048623,
     "end_time": "2024-10-23T07:14:16.831203",
     "exception": false,
     "start_time": "2024-10-23T07:14:16.782580",
     "status": "completed"
    },
    "tags": []
   },
   "outputs": [
    {
     "data": {
      "text/html": [
       "<div>\n",
       "<style scoped>\n",
       "    .dataframe tbody tr th:only-of-type {\n",
       "        vertical-align: middle;\n",
       "    }\n",
       "\n",
       "    .dataframe tbody tr th {\n",
       "        vertical-align: top;\n",
       "    }\n",
       "\n",
       "    .dataframe thead th {\n",
       "        text-align: right;\n",
       "    }\n",
       "</style>\n",
       "<table border=\"1\" class=\"dataframe\">\n",
       "  <thead>\n",
       "    <tr style=\"text-align: right;\">\n",
       "      <th></th>\n",
       "      <th>id</th>\n",
       "      <th>title</th>\n",
       "      <th>year</th>\n",
       "      <th>vote_count</th>\n",
       "      <th>vote_average</th>\n",
       "      <th>popularity</th>\n",
       "      <th>genres</th>\n",
       "      <th>w_ratings</th>\n",
       "      <th>cast</th>\n",
       "      <th>crew</th>\n",
       "      <th>keywords</th>\n",
       "    </tr>\n",
       "  </thead>\n",
       "  <tbody>\n",
       "    <tr>\n",
       "      <th>0</th>\n",
       "      <td>862</td>\n",
       "      <td>Toy Story</td>\n",
       "      <td>1995</td>\n",
       "      <td>5415</td>\n",
       "      <td>7</td>\n",
       "      <td>21.946943</td>\n",
       "      <td>[Animation, Comedy, Family]</td>\n",
       "      <td>6.949633</td>\n",
       "      <td>[{'cast_id': 14, 'character': 'Woody (voice)',...</td>\n",
       "      <td>[{'credit_id': '52fe4284c3a36847f8024f49', 'de...</td>\n",
       "      <td>[{'id': 931, 'name': 'jealousy'}, {'id': 4290,...</td>\n",
       "    </tr>\n",
       "    <tr>\n",
       "      <th>1</th>\n",
       "      <td>8844</td>\n",
       "      <td>Jumanji</td>\n",
       "      <td>1995</td>\n",
       "      <td>2413</td>\n",
       "      <td>6</td>\n",
       "      <td>17.015539</td>\n",
       "      <td>[Adventure, Fantasy, Family]</td>\n",
       "      <td>5.953053</td>\n",
       "      <td>[{'cast_id': 1, 'character': 'Alan Parrish', '...</td>\n",
       "      <td>[{'credit_id': '52fe44bfc3a36847f80a7cd1', 'de...</td>\n",
       "      <td>[{'id': 10090, 'name': 'board game'}, {'id': 1...</td>\n",
       "    </tr>\n",
       "    <tr>\n",
       "      <th>2</th>\n",
       "      <td>11862</td>\n",
       "      <td>Father of the Bride Part II</td>\n",
       "      <td>1995</td>\n",
       "      <td>173</td>\n",
       "      <td>5</td>\n",
       "      <td>8.387519</td>\n",
       "      <td>[Comedy]</td>\n",
       "      <td>5.117735</td>\n",
       "      <td>[{'cast_id': 1, 'character': 'George Banks', '...</td>\n",
       "      <td>[{'credit_id': '52fe44959251416c75039ed7', 'de...</td>\n",
       "      <td>[{'id': 1009, 'name': 'baby'}, {'id': 1599, 'n...</td>\n",
       "    </tr>\n",
       "    <tr>\n",
       "      <th>3</th>\n",
       "      <td>949</td>\n",
       "      <td>Heat</td>\n",
       "      <td>1995</td>\n",
       "      <td>1886</td>\n",
       "      <td>7</td>\n",
       "      <td>17.924927</td>\n",
       "      <td>[Action, Crime, Drama, Thriller]</td>\n",
       "      <td>6.862759</td>\n",
       "      <td>[{'cast_id': 25, 'character': 'Lt. Vincent Han...</td>\n",
       "      <td>[{'credit_id': '52fe4292c3a36847f802916d', 'de...</td>\n",
       "      <td>[{'id': 642, 'name': 'robbery'}, {'id': 703, '...</td>\n",
       "    </tr>\n",
       "    <tr>\n",
       "      <th>4</th>\n",
       "      <td>9091</td>\n",
       "      <td>Sudden Death</td>\n",
       "      <td>1995</td>\n",
       "      <td>174</td>\n",
       "      <td>5</td>\n",
       "      <td>5.23158</td>\n",
       "      <td>[Action, Adventure, Thriller]</td>\n",
       "      <td>5.117383</td>\n",
       "      <td>[{'cast_id': 1, 'character': 'Darren Francis T...</td>\n",
       "      <td>[{'credit_id': '52fe44dbc3a36847f80ae0f1', 'de...</td>\n",
       "      <td>[{'id': 949, 'name': 'terrorist'}, {'id': 1562...</td>\n",
       "    </tr>\n",
       "  </tbody>\n",
       "</table>\n",
       "</div>"
      ],
      "text/plain": [
       "      id                        title  year  vote_count  vote_average  \\\n",
       "0    862                    Toy Story  1995        5415             7   \n",
       "1   8844                      Jumanji  1995        2413             6   \n",
       "2  11862  Father of the Bride Part II  1995         173             5   \n",
       "3    949                         Heat  1995        1886             7   \n",
       "4   9091                 Sudden Death  1995         174             5   \n",
       "\n",
       "  popularity                            genres  w_ratings  \\\n",
       "0  21.946943       [Animation, Comedy, Family]   6.949633   \n",
       "1  17.015539      [Adventure, Fantasy, Family]   5.953053   \n",
       "2   8.387519                          [Comedy]   5.117735   \n",
       "3  17.924927  [Action, Crime, Drama, Thriller]   6.862759   \n",
       "4    5.23158     [Action, Adventure, Thriller]   5.117383   \n",
       "\n",
       "                                                cast  \\\n",
       "0  [{'cast_id': 14, 'character': 'Woody (voice)',...   \n",
       "1  [{'cast_id': 1, 'character': 'Alan Parrish', '...   \n",
       "2  [{'cast_id': 1, 'character': 'George Banks', '...   \n",
       "3  [{'cast_id': 25, 'character': 'Lt. Vincent Han...   \n",
       "4  [{'cast_id': 1, 'character': 'Darren Francis T...   \n",
       "\n",
       "                                                crew  \\\n",
       "0  [{'credit_id': '52fe4284c3a36847f8024f49', 'de...   \n",
       "1  [{'credit_id': '52fe44bfc3a36847f80a7cd1', 'de...   \n",
       "2  [{'credit_id': '52fe44959251416c75039ed7', 'de...   \n",
       "3  [{'credit_id': '52fe4292c3a36847f802916d', 'de...   \n",
       "4  [{'credit_id': '52fe44dbc3a36847f80ae0f1', 'de...   \n",
       "\n",
       "                                            keywords  \n",
       "0  [{'id': 931, 'name': 'jealousy'}, {'id': 4290,...  \n",
       "1  [{'id': 10090, 'name': 'board game'}, {'id': 1...  \n",
       "2  [{'id': 1009, 'name': 'baby'}, {'id': 1599, 'n...  \n",
       "3  [{'id': 642, 'name': 'robbery'}, {'id': 703, '...  \n",
       "4  [{'id': 949, 'name': 'terrorist'}, {'id': 1562...  "
      ]
     },
     "execution_count": 37,
     "metadata": {},
     "output_type": "execute_result"
    }
   ],
   "source": [
    "df2.head()"
   ]
  },
  {
   "cell_type": "code",
   "execution_count": 38,
   "id": "e79eca53",
   "metadata": {
    "execution": {
     "iopub.execute_input": "2024-10-23T07:14:16.888652Z",
     "iopub.status.busy": "2024-10-23T07:14:16.888230Z",
     "iopub.status.idle": "2024-10-23T07:14:16.896283Z",
     "shell.execute_reply": "2024-10-23T07:14:16.894126Z"
    },
    "papermill": {
     "duration": 0.039809,
     "end_time": "2024-10-23T07:14:16.899176",
     "exception": false,
     "start_time": "2024-10-23T07:14:16.859367",
     "status": "completed"
    },
    "tags": []
   },
   "outputs": [
    {
     "data": {
      "text/plain": [
       "(4551, 11)"
      ]
     },
     "execution_count": 38,
     "metadata": {},
     "output_type": "execute_result"
    }
   ],
   "source": [
    "df2.shape"
   ]
  },
  {
   "cell_type": "code",
   "execution_count": 39,
   "id": "cb34d42d",
   "metadata": {
    "execution": {
     "iopub.execute_input": "2024-10-23T07:14:16.956346Z",
     "iopub.status.busy": "2024-10-23T07:14:16.955958Z",
     "iopub.status.idle": "2024-10-23T07:14:28.228843Z",
     "shell.execute_reply": "2024-10-23T07:14:28.227687Z"
    },
    "papermill": {
     "duration": 11.304462,
     "end_time": "2024-10-23T07:14:28.231531",
     "exception": false,
     "start_time": "2024-10-23T07:14:16.927069",
     "status": "completed"
    },
    "tags": []
   },
   "outputs": [],
   "source": [
    "df2['cast'] = df2['cast'].apply(literal_eval)\n",
    "\n",
    "df2['crew'] = df2['crew'].apply(literal_eval)\n",
    "\n",
    "df2['keywords'] = df2['keywords'].apply(literal_eval)\n",
    "\n",
    "\n",
    "\n",
    "# create new columns to store the size of cast and crew\n",
    "\n",
    "df2['cast_size'] = df2['cast'].apply(lambda x: len(x))\n",
    "\n",
    "df2['crew_size'] = df2['crew'].apply(lambda x: len(x))"
   ]
  },
  {
   "cell_type": "code",
   "execution_count": 40,
   "id": "27555887",
   "metadata": {
    "execution": {
     "iopub.execute_input": "2024-10-23T07:14:28.295564Z",
     "iopub.status.busy": "2024-10-23T07:14:28.294674Z",
     "iopub.status.idle": "2024-10-23T07:14:28.409312Z",
     "shell.execute_reply": "2024-10-23T07:14:28.407739Z"
    },
    "papermill": {
     "duration": 0.152575,
     "end_time": "2024-10-23T07:14:28.412273",
     "exception": false,
     "start_time": "2024-10-23T07:14:28.259698",
     "status": "completed"
    },
    "tags": []
   },
   "outputs": [],
   "source": [
    "# convert dictionaries to list\n",
    "\n",
    "df2['cast'] = df2['cast'].apply(lambda x: [i['name'] for i in x] if isinstance(x, list) else [])\n",
    "\n",
    "df2['keywords'] = df2['keywords'].apply(lambda x: [i['name'] for i in x] if isinstance(x, list) else [])"
   ]
  },
  {
   "cell_type": "code",
   "execution_count": 41,
   "id": "da09e957",
   "metadata": {
    "execution": {
     "iopub.execute_input": "2024-10-23T07:14:28.478938Z",
     "iopub.status.busy": "2024-10-23T07:14:28.478489Z",
     "iopub.status.idle": "2024-10-23T07:14:28.581091Z",
     "shell.execute_reply": "2024-10-23T07:14:28.579912Z"
    },
    "papermill": {
     "duration": 0.141621,
     "end_time": "2024-10-23T07:14:28.584104",
     "exception": false,
     "start_time": "2024-10-23T07:14:28.442483",
     "status": "completed"
    },
    "tags": []
   },
   "outputs": [
    {
     "data": {
      "text/html": [
       "<div>\n",
       "<style scoped>\n",
       "    .dataframe tbody tr th:only-of-type {\n",
       "        vertical-align: middle;\n",
       "    }\n",
       "\n",
       "    .dataframe tbody tr th {\n",
       "        vertical-align: top;\n",
       "    }\n",
       "\n",
       "    .dataframe thead th {\n",
       "        text-align: right;\n",
       "    }\n",
       "</style>\n",
       "<table border=\"1\" class=\"dataframe\">\n",
       "  <thead>\n",
       "    <tr style=\"text-align: right;\">\n",
       "      <th></th>\n",
       "      <th>id</th>\n",
       "      <th>title</th>\n",
       "      <th>year</th>\n",
       "      <th>vote_count</th>\n",
       "      <th>vote_average</th>\n",
       "      <th>popularity</th>\n",
       "      <th>genres</th>\n",
       "      <th>w_ratings</th>\n",
       "      <th>cast</th>\n",
       "      <th>crew</th>\n",
       "      <th>keywords</th>\n",
       "      <th>cast_size</th>\n",
       "      <th>crew_size</th>\n",
       "    </tr>\n",
       "  </thead>\n",
       "  <tbody>\n",
       "    <tr>\n",
       "      <th>0</th>\n",
       "      <td>862</td>\n",
       "      <td>Toy Story</td>\n",
       "      <td>1995</td>\n",
       "      <td>5415</td>\n",
       "      <td>7</td>\n",
       "      <td>21.946943</td>\n",
       "      <td>[Animation, Comedy, Family]</td>\n",
       "      <td>6.949633</td>\n",
       "      <td>[Tom Hanks, Tim Allen, Don Rickles, Jim Varney...</td>\n",
       "      <td>[{'credit_id': '52fe4284c3a36847f8024f49', 'de...</td>\n",
       "      <td>[jealousy, toy, boy, friendship, friends, riva...</td>\n",
       "      <td>13</td>\n",
       "      <td>106</td>\n",
       "    </tr>\n",
       "    <tr>\n",
       "      <th>1</th>\n",
       "      <td>8844</td>\n",
       "      <td>Jumanji</td>\n",
       "      <td>1995</td>\n",
       "      <td>2413</td>\n",
       "      <td>6</td>\n",
       "      <td>17.015539</td>\n",
       "      <td>[Adventure, Fantasy, Family]</td>\n",
       "      <td>5.953053</td>\n",
       "      <td>[Robin Williams, Jonathan Hyde, Kirsten Dunst,...</td>\n",
       "      <td>[{'credit_id': '52fe44bfc3a36847f80a7cd1', 'de...</td>\n",
       "      <td>[board game, disappearance, based on children'...</td>\n",
       "      <td>26</td>\n",
       "      <td>16</td>\n",
       "    </tr>\n",
       "    <tr>\n",
       "      <th>2</th>\n",
       "      <td>11862</td>\n",
       "      <td>Father of the Bride Part II</td>\n",
       "      <td>1995</td>\n",
       "      <td>173</td>\n",
       "      <td>5</td>\n",
       "      <td>8.387519</td>\n",
       "      <td>[Comedy]</td>\n",
       "      <td>5.117735</td>\n",
       "      <td>[Steve Martin, Diane Keaton, Martin Short, Kim...</td>\n",
       "      <td>[{'credit_id': '52fe44959251416c75039ed7', 'de...</td>\n",
       "      <td>[baby, midlife crisis, confidence, aging, daug...</td>\n",
       "      <td>12</td>\n",
       "      <td>7</td>\n",
       "    </tr>\n",
       "    <tr>\n",
       "      <th>3</th>\n",
       "      <td>949</td>\n",
       "      <td>Heat</td>\n",
       "      <td>1995</td>\n",
       "      <td>1886</td>\n",
       "      <td>7</td>\n",
       "      <td>17.924927</td>\n",
       "      <td>[Action, Crime, Drama, Thriller]</td>\n",
       "      <td>6.862759</td>\n",
       "      <td>[Al Pacino, Robert De Niro, Val Kilmer, Jon Vo...</td>\n",
       "      <td>[{'credit_id': '52fe4292c3a36847f802916d', 'de...</td>\n",
       "      <td>[robbery, detective, bank, obsession, chase, s...</td>\n",
       "      <td>65</td>\n",
       "      <td>71</td>\n",
       "    </tr>\n",
       "    <tr>\n",
       "      <th>4</th>\n",
       "      <td>9091</td>\n",
       "      <td>Sudden Death</td>\n",
       "      <td>1995</td>\n",
       "      <td>174</td>\n",
       "      <td>5</td>\n",
       "      <td>5.23158</td>\n",
       "      <td>[Action, Adventure, Thriller]</td>\n",
       "      <td>5.117383</td>\n",
       "      <td>[Jean-Claude Van Damme, Powers Boothe, Dorian ...</td>\n",
       "      <td>[{'credit_id': '52fe44dbc3a36847f80ae0f1', 'de...</td>\n",
       "      <td>[terrorist, hostage, explosive, vice president]</td>\n",
       "      <td>6</td>\n",
       "      <td>9</td>\n",
       "    </tr>\n",
       "  </tbody>\n",
       "</table>\n",
       "</div>"
      ],
      "text/plain": [
       "      id                        title  year  vote_count  vote_average  \\\n",
       "0    862                    Toy Story  1995        5415             7   \n",
       "1   8844                      Jumanji  1995        2413             6   \n",
       "2  11862  Father of the Bride Part II  1995         173             5   \n",
       "3    949                         Heat  1995        1886             7   \n",
       "4   9091                 Sudden Death  1995         174             5   \n",
       "\n",
       "  popularity                            genres  w_ratings  \\\n",
       "0  21.946943       [Animation, Comedy, Family]   6.949633   \n",
       "1  17.015539      [Adventure, Fantasy, Family]   5.953053   \n",
       "2   8.387519                          [Comedy]   5.117735   \n",
       "3  17.924927  [Action, Crime, Drama, Thriller]   6.862759   \n",
       "4    5.23158     [Action, Adventure, Thriller]   5.117383   \n",
       "\n",
       "                                                cast  \\\n",
       "0  [Tom Hanks, Tim Allen, Don Rickles, Jim Varney...   \n",
       "1  [Robin Williams, Jonathan Hyde, Kirsten Dunst,...   \n",
       "2  [Steve Martin, Diane Keaton, Martin Short, Kim...   \n",
       "3  [Al Pacino, Robert De Niro, Val Kilmer, Jon Vo...   \n",
       "4  [Jean-Claude Van Damme, Powers Boothe, Dorian ...   \n",
       "\n",
       "                                                crew  \\\n",
       "0  [{'credit_id': '52fe4284c3a36847f8024f49', 'de...   \n",
       "1  [{'credit_id': '52fe44bfc3a36847f80a7cd1', 'de...   \n",
       "2  [{'credit_id': '52fe44959251416c75039ed7', 'de...   \n",
       "3  [{'credit_id': '52fe4292c3a36847f802916d', 'de...   \n",
       "4  [{'credit_id': '52fe44dbc3a36847f80ae0f1', 'de...   \n",
       "\n",
       "                                            keywords  cast_size  crew_size  \n",
       "0  [jealousy, toy, boy, friendship, friends, riva...         13        106  \n",
       "1  [board game, disappearance, based on children'...         26         16  \n",
       "2  [baby, midlife crisis, confidence, aging, daug...         12          7  \n",
       "3  [robbery, detective, bank, obsession, chase, s...         65         71  \n",
       "4    [terrorist, hostage, explosive, vice president]          6          9  "
      ]
     },
     "execution_count": 41,
     "metadata": {},
     "output_type": "execute_result"
    }
   ],
   "source": [
    "df2.head()"
   ]
  },
  {
   "cell_type": "markdown",
   "id": "c3274117",
   "metadata": {
    "papermill": {
     "duration": 0.028167,
     "end_time": "2024-10-23T07:14:28.645510",
     "exception": false,
     "start_time": "2024-10-23T07:14:28.617343",
     "status": "completed"
    },
    "tags": []
   },
   "source": [
    "For content-based Recommender, cast and crew would be important features. However, there isn't relevent to consider all cast and crew within a movie. Therefore, only the first four cast in the list and the director of movies will be considered."
   ]
  },
  {
   "cell_type": "markdown",
   "id": "dd973538",
   "metadata": {
    "papermill": {
     "duration": 0.027624,
     "end_time": "2024-10-23T07:14:28.700928",
     "exception": false,
     "start_time": "2024-10-23T07:14:28.673304",
     "status": "completed"
    },
    "tags": []
   },
   "source": [
    "first take a look how the crew column looks like"
   ]
  },
  {
   "cell_type": "code",
   "execution_count": 42,
   "id": "087a773f",
   "metadata": {
    "execution": {
     "iopub.execute_input": "2024-10-23T07:14:28.758970Z",
     "iopub.status.busy": "2024-10-23T07:14:28.758530Z",
     "iopub.status.idle": "2024-10-23T07:14:28.763778Z",
     "shell.execute_reply": "2024-10-23T07:14:28.762464Z"
    },
    "papermill": {
     "duration": 0.037404,
     "end_time": "2024-10-23T07:14:28.766200",
     "exception": false,
     "start_time": "2024-10-23T07:14:28.728796",
     "status": "completed"
    },
    "tags": []
   },
   "outputs": [],
   "source": [
    "#df2['crew'].iloc[0]"
   ]
  },
  {
   "cell_type": "code",
   "execution_count": 43,
   "id": "d05a0013",
   "metadata": {
    "execution": {
     "iopub.execute_input": "2024-10-23T07:14:28.825253Z",
     "iopub.status.busy": "2024-10-23T07:14:28.824084Z",
     "iopub.status.idle": "2024-10-23T07:14:28.844080Z",
     "shell.execute_reply": "2024-10-23T07:14:28.842960Z"
    },
    "papermill": {
     "duration": 0.05253,
     "end_time": "2024-10-23T07:14:28.847014",
     "exception": false,
     "start_time": "2024-10-23T07:14:28.794484",
     "status": "completed"
    },
    "tags": []
   },
   "outputs": [],
   "source": [
    "# Function to extract the director's name from the crew list\n",
    "\n",
    "def get_director(crew):\n",
    "\n",
    "    for person in crew:\n",
    "\n",
    "        if person['job'] == 'Director':\n",
    "\n",
    "            return person['name']\n",
    "\n",
    "    return None  # If no director is found\n",
    "\n",
    "\n",
    "\n",
    "# Apply the function to the 'crew' column and create the new 'director' column\n",
    "\n",
    "df2['director'] = df2['crew'].apply(get_director)"
   ]
  },
  {
   "cell_type": "code",
   "execution_count": 44,
   "id": "d0307100",
   "metadata": {
    "execution": {
     "iopub.execute_input": "2024-10-23T07:14:28.911382Z",
     "iopub.status.busy": "2024-10-23T07:14:28.910363Z",
     "iopub.status.idle": "2024-10-23T07:14:28.930408Z",
     "shell.execute_reply": "2024-10-23T07:14:28.929294Z"
    },
    "papermill": {
     "duration": 0.052115,
     "end_time": "2024-10-23T07:14:28.932864",
     "exception": false,
     "start_time": "2024-10-23T07:14:28.880749",
     "status": "completed"
    },
    "tags": []
   },
   "outputs": [
    {
     "data": {
      "text/plain": [
       "0         [Tom Hanks, Tim Allen, Don Rickles, Jim Varney]\n",
       "1       [Robin Williams, Jonathan Hyde, Kirsten Dunst,...\n",
       "2       [Steve Martin, Diane Keaton, Martin Short, Kim...\n",
       "3       [Al Pacino, Robert De Niro, Val Kilmer, Jon Vo...\n",
       "4       [Jean-Claude Van Damme, Powers Boothe, Dorian ...\n",
       "                              ...                        \n",
       "4546    [Nikolaj Coster-Waldau, Jon Bernthal, Lake Bel...\n",
       "4547    [Jean Dujardin, Clovis Cornillac, Bruno Salomo...\n",
       "4548    [Regina Hall, Queen Latifah, Jada Pinkett Smit...\n",
       "4549    [Dove Cameron, Sofia Carson, Cameron Boyce, Bo...\n",
       "4550    [Jean Reno, Christian Clavier, Franck Dubosc, ...\n",
       "Name: main_cast, Length: 4551, dtype: object"
      ]
     },
     "execution_count": 44,
     "metadata": {},
     "output_type": "execute_result"
    }
   ],
   "source": [
    "# Create a new column for main cast (first four names)\n",
    "\n",
    "df2['main_cast'] = df2['cast'].apply(lambda x: x[:4])\n",
    "\n",
    "df2['main_cast']"
   ]
  },
  {
   "cell_type": "markdown",
   "id": "f3968d26",
   "metadata": {
    "papermill": {
     "duration": 0.0281,
     "end_time": "2024-10-23T07:14:28.990780",
     "exception": false,
     "start_time": "2024-10-23T07:14:28.962680",
     "status": "completed"
    },
    "tags": []
   },
   "source": [
    "Convert the text into numerical values"
   ]
  },
  {
   "cell_type": "code",
   "execution_count": 45,
   "id": "014e601f",
   "metadata": {
    "execution": {
     "iopub.execute_input": "2024-10-23T07:14:29.049992Z",
     "iopub.status.busy": "2024-10-23T07:14:29.048624Z",
     "iopub.status.idle": "2024-10-23T07:14:29.056802Z",
     "shell.execute_reply": "2024-10-23T07:14:29.055635Z"
    },
    "papermill": {
     "duration": 0.040579,
     "end_time": "2024-10-23T07:14:29.059472",
     "exception": false,
     "start_time": "2024-10-23T07:14:29.018893",
     "status": "completed"
    },
    "tags": []
   },
   "outputs": [],
   "source": [
    "def vectorize_column(df, column_name, **kwargs):\n",
    "\n",
    "    \"\"\"\n",
    "\n",
    "    Vectorizes a specified column in the DataFrame.\n",
    "\n",
    "    \n",
    "\n",
    "    Parameters:\n",
    "\n",
    "    - df: The DataFrame containing the data.\n",
    "\n",
    "    - column_name: The name of the column to vectorize.\n",
    "\n",
    "    - kwargs: Additional keyword arguments for CountVectorizer.\n",
    "\n",
    "    \n",
    "\n",
    "    Returns:\n",
    "\n",
    "    - Sparse matrix of vectorized features.\n",
    "\n",
    "    \"\"\"\n",
    "\n",
    "    vectorizer = CountVectorizer(**kwargs)\n",
    "\n",
    "    return vectorizer.fit_transform(df[column_name].apply(lambda x: ' '.join(x) if isinstance(x, list) else x).fillna(''))"
   ]
  },
  {
   "cell_type": "code",
   "execution_count": 46,
   "id": "06f124eb",
   "metadata": {
    "execution": {
     "iopub.execute_input": "2024-10-23T07:14:29.125755Z",
     "iopub.status.busy": "2024-10-23T07:14:29.125348Z",
     "iopub.status.idle": "2024-10-23T07:14:29.168373Z",
     "shell.execute_reply": "2024-10-23T07:14:29.167268Z"
    },
    "papermill": {
     "duration": 0.076141,
     "end_time": "2024-10-23T07:14:29.171476",
     "exception": false,
     "start_time": "2024-10-23T07:14:29.095335",
     "status": "completed"
    },
    "tags": []
   },
   "outputs": [],
   "source": [
    "# Vectorize the 'director' column\n",
    "\n",
    "director_vectorizer = CountVectorizer(stop_words='english')\n",
    "\n",
    "director_vectors = director_vectorizer.fit_transform(df2['director'].fillna(''))"
   ]
  },
  {
   "cell_type": "code",
   "execution_count": 47,
   "id": "11323b85",
   "metadata": {
    "execution": {
     "iopub.execute_input": "2024-10-23T07:14:29.235706Z",
     "iopub.status.busy": "2024-10-23T07:14:29.234851Z",
     "iopub.status.idle": "2024-10-23T07:14:29.311209Z",
     "shell.execute_reply": "2024-10-23T07:14:29.309829Z"
    },
    "papermill": {
     "duration": 0.108156,
     "end_time": "2024-10-23T07:14:29.313919",
     "exception": false,
     "start_time": "2024-10-23T07:14:29.205763",
     "status": "completed"
    },
    "tags": []
   },
   "outputs": [],
   "source": [
    "# Vectorize the 'main_cast' column (join the list of names into a string)\n",
    "\n",
    "main_cast_vectorizer = CountVectorizer(stop_words='english')\n",
    "\n",
    "main_cast_vectors = main_cast_vectorizer.fit_transform(df2['main_cast'].apply(lambda x: ' '.join(x)))"
   ]
  },
  {
   "cell_type": "markdown",
   "id": "2e5654ca",
   "metadata": {
    "papermill": {
     "duration": 0.027312,
     "end_time": "2024-10-23T07:14:29.370113",
     "exception": false,
     "start_time": "2024-10-23T07:14:29.342801",
     "status": "completed"
    },
    "tags": []
   },
   "source": [
    "Concatenate the vectors to form a combined feature vector"
   ]
  },
  {
   "cell_type": "code",
   "execution_count": 48,
   "id": "0917d01b",
   "metadata": {
    "execution": {
     "iopub.execute_input": "2024-10-23T07:14:29.427162Z",
     "iopub.status.busy": "2024-10-23T07:14:29.426737Z",
     "iopub.status.idle": "2024-10-23T07:14:29.434002Z",
     "shell.execute_reply": "2024-10-23T07:14:29.433082Z"
    },
    "papermill": {
     "duration": 0.038532,
     "end_time": "2024-10-23T07:14:29.436298",
     "exception": false,
     "start_time": "2024-10-23T07:14:29.397766",
     "status": "completed"
    },
    "tags": []
   },
   "outputs": [],
   "source": [
    "# Combine the genre, director and main_cast feature vectors\n",
    "\n",
    "combined_vectors = hstack([director_vectors, main_cast_vectors]) "
   ]
  },
  {
   "cell_type": "markdown",
   "id": "a2cc08ee",
   "metadata": {
    "papermill": {
     "duration": 0.027428,
     "end_time": "2024-10-23T07:14:29.491350",
     "exception": false,
     "start_time": "2024-10-23T07:14:29.463922",
     "status": "completed"
    },
    "tags": []
   },
   "source": [
    "Compute cosine similarity between the combined feature vectors"
   ]
  },
  {
   "cell_type": "code",
   "execution_count": 49,
   "id": "c101a7b8",
   "metadata": {
    "execution": {
     "iopub.execute_input": "2024-10-23T07:14:29.551244Z",
     "iopub.status.busy": "2024-10-23T07:14:29.550814Z",
     "iopub.status.idle": "2024-10-23T07:14:29.811994Z",
     "shell.execute_reply": "2024-10-23T07:14:29.810889Z"
    },
    "papermill": {
     "duration": 0.295526,
     "end_time": "2024-10-23T07:14:29.814670",
     "exception": false,
     "start_time": "2024-10-23T07:14:29.519144",
     "status": "completed"
    },
    "tags": []
   },
   "outputs": [],
   "source": [
    "cosine_sim = cosine_similarity(combined_vectors)"
   ]
  },
  {
   "cell_type": "markdown",
   "id": "c7591a03",
   "metadata": {
    "papermill": {
     "duration": 0.02748,
     "end_time": "2024-10-23T07:14:29.870043",
     "exception": false,
     "start_time": "2024-10-23T07:14:29.842563",
     "status": "completed"
    },
    "tags": []
   },
   "source": [
    "Create recommendation engine"
   ]
  },
  {
   "cell_type": "code",
   "execution_count": 50,
   "id": "5ce69f62",
   "metadata": {
    "execution": {
     "iopub.execute_input": "2024-10-23T07:14:29.927773Z",
     "iopub.status.busy": "2024-10-23T07:14:29.927363Z",
     "iopub.status.idle": "2024-10-23T07:14:29.935795Z",
     "shell.execute_reply": "2024-10-23T07:14:29.934722Z"
    },
    "papermill": {
     "duration": 0.040212,
     "end_time": "2024-10-23T07:14:29.938136",
     "exception": false,
     "start_time": "2024-10-23T07:14:29.897924",
     "status": "completed"
    },
    "tags": []
   },
   "outputs": [],
   "source": [
    "def get_recommendations(title, cosine_sim=cosine_sim,k=10):\n",
    "\n",
    "    # Get the index of the movie that matches the title\n",
    "\n",
    "    idx = df2[df2['title'] == title].index[0]\n",
    "\n",
    "    \n",
    "\n",
    "    # Get the similarity scores for this movie with all others\n",
    "\n",
    "    sim_scores = list(enumerate(cosine_sim[idx]))\n",
    "\n",
    "\n",
    "\n",
    "    # Sort the movies based on the similarity scores (in descending order)\n",
    "\n",
    "    # For easy comparing, the result should also contains the input movie\n",
    "\n",
    "    sim_scores = sorted(sim_scores, key=lambda x: x[1], reverse=True)\n",
    "\n",
    "\n",
    "\n",
    "    # Get the top 10 movies including the input movie itself\n",
    "\n",
    "    sim_scores = sim_scores[:k+1]  # Include the input movie\n",
    "\n",
    "\n",
    "\n",
    "    # Get the movie indices and similarity scores\n",
    "\n",
    "    movie_indices = [i[0] for i in sim_scores]\n",
    "\n",
    "    similarity_scores = [i[1] for i in sim_scores]\n",
    "\n",
    "\n",
    "\n",
    "    # Return a DataFrame with the top k+1 movies (including the input) and similarity scores\n",
    "\n",
    "    recommendations = df2[['title','main_cast', 'director']].iloc[movie_indices].copy()\n",
    "\n",
    "    recommendations['similarity_score'] = similarity_scores\n",
    "\n",
    "\n",
    "\n",
    "    return recommendations"
   ]
  },
  {
   "cell_type": "markdown",
   "id": "57d7a062",
   "metadata": {
    "papermill": {
     "duration": 0.028463,
     "end_time": "2024-10-23T07:14:29.996181",
     "exception": false,
     "start_time": "2024-10-23T07:14:29.967718",
     "status": "completed"
    },
    "tags": []
   },
   "source": [
    "## Recommendation based on cast and director"
   ]
  },
  {
   "cell_type": "code",
   "execution_count": 51,
   "id": "5ebdeb20",
   "metadata": {
    "execution": {
     "iopub.execute_input": "2024-10-23T07:14:30.054971Z",
     "iopub.status.busy": "2024-10-23T07:14:30.054534Z",
     "iopub.status.idle": "2024-10-23T07:14:30.077456Z",
     "shell.execute_reply": "2024-10-23T07:14:30.076168Z"
    },
    "papermill": {
     "duration": 0.054842,
     "end_time": "2024-10-23T07:14:30.079974",
     "exception": false,
     "start_time": "2024-10-23T07:14:30.025132",
     "status": "completed"
    },
    "tags": []
   },
   "outputs": [
    {
     "data": {
      "text/html": [
       "<div>\n",
       "<style scoped>\n",
       "    .dataframe tbody tr th:only-of-type {\n",
       "        vertical-align: middle;\n",
       "    }\n",
       "\n",
       "    .dataframe tbody tr th {\n",
       "        vertical-align: top;\n",
       "    }\n",
       "\n",
       "    .dataframe thead th {\n",
       "        text-align: right;\n",
       "    }\n",
       "</style>\n",
       "<table border=\"1\" class=\"dataframe\">\n",
       "  <thead>\n",
       "    <tr style=\"text-align: right;\">\n",
       "      <th></th>\n",
       "      <th>title</th>\n",
       "      <th>main_cast</th>\n",
       "      <th>director</th>\n",
       "      <th>similarity_score</th>\n",
       "    </tr>\n",
       "  </thead>\n",
       "  <tbody>\n",
       "    <tr>\n",
       "      <th>1</th>\n",
       "      <td>Jumanji</td>\n",
       "      <td>[Robin Williams, Jonathan Hyde, Kirsten Dunst,...</td>\n",
       "      <td>Joe Johnston</td>\n",
       "      <td>1.000000</td>\n",
       "    </tr>\n",
       "    <tr>\n",
       "      <th>158</th>\n",
       "      <td>Mrs. Doubtfire</td>\n",
       "      <td>[Robin Williams, Sally Field, Pierce Brosnan, ...</td>\n",
       "      <td>Chris Columbus</td>\n",
       "      <td>0.300000</td>\n",
       "    </tr>\n",
       "    <tr>\n",
       "      <th>182</th>\n",
       "      <td>Aladdin</td>\n",
       "      <td>[Scott Weinger, Robin Williams, Linda Larkin, ...</td>\n",
       "      <td>Ron Clements</td>\n",
       "      <td>0.300000</td>\n",
       "    </tr>\n",
       "    <tr>\n",
       "      <th>569</th>\n",
       "      <td>Small Soldiers</td>\n",
       "      <td>[Gregory Smith, Kirsten Dunst, Denis Leary, Ph...</td>\n",
       "      <td>Joe Dante</td>\n",
       "      <td>0.300000</td>\n",
       "    </tr>\n",
       "    <tr>\n",
       "      <th>703</th>\n",
       "      <td>Toys</td>\n",
       "      <td>[Robin Williams, Michael Gambon, Joan Cusack, ...</td>\n",
       "      <td>Barry Levinson</td>\n",
       "      <td>0.273861</td>\n",
       "    </tr>\n",
       "    <tr>\n",
       "      <th>3110</th>\n",
       "      <td>Happy Feet Two</td>\n",
       "      <td>[Elijah Wood, Robin Williams, Pink, E.G. Daily]</td>\n",
       "      <td>George Miller</td>\n",
       "      <td>0.223607</td>\n",
       "    </tr>\n",
       "    <tr>\n",
       "      <th>43</th>\n",
       "      <td>The Birdcage</td>\n",
       "      <td>[Robin Williams, Gene Hackman, Nathan Lane, Di...</td>\n",
       "      <td>Mike Nichols</td>\n",
       "      <td>0.200000</td>\n",
       "    </tr>\n",
       "    <tr>\n",
       "      <th>79</th>\n",
       "      <td>Interview with the Vampire</td>\n",
       "      <td>[Brad Pitt, Tom Cruise, Kirsten Dunst, Antonio...</td>\n",
       "      <td>Neil Jordan</td>\n",
       "      <td>0.200000</td>\n",
       "    </tr>\n",
       "    <tr>\n",
       "      <th>178</th>\n",
       "      <td>The Pagemaster</td>\n",
       "      <td>[Macaulay Culkin, Christopher Lloyd, Patrick S...</td>\n",
       "      <td>Joe Johnston</td>\n",
       "      <td>0.200000</td>\n",
       "    </tr>\n",
       "    <tr>\n",
       "      <th>535</th>\n",
       "      <td>Tomorrow Never Dies</td>\n",
       "      <td>[Pierce Brosnan, Jonathan Pryce, Michelle Yeoh...</td>\n",
       "      <td>Roger Spottiswoode</td>\n",
       "      <td>0.200000</td>\n",
       "    </tr>\n",
       "    <tr>\n",
       "      <th>638</th>\n",
       "      <td>Honey, I Shrunk the Kids</td>\n",
       "      <td>[Rick Moranis, Marcia Strassman, Matt Frewer, ...</td>\n",
       "      <td>Joe Johnston</td>\n",
       "      <td>0.200000</td>\n",
       "    </tr>\n",
       "  </tbody>\n",
       "</table>\n",
       "</div>"
      ],
      "text/plain": [
       "                           title  \\\n",
       "1                        Jumanji   \n",
       "158               Mrs. Doubtfire   \n",
       "182                      Aladdin   \n",
       "569               Small Soldiers   \n",
       "703                         Toys   \n",
       "3110              Happy Feet Two   \n",
       "43                  The Birdcage   \n",
       "79    Interview with the Vampire   \n",
       "178               The Pagemaster   \n",
       "535          Tomorrow Never Dies   \n",
       "638     Honey, I Shrunk the Kids   \n",
       "\n",
       "                                              main_cast            director  \\\n",
       "1     [Robin Williams, Jonathan Hyde, Kirsten Dunst,...        Joe Johnston   \n",
       "158   [Robin Williams, Sally Field, Pierce Brosnan, ...      Chris Columbus   \n",
       "182   [Scott Weinger, Robin Williams, Linda Larkin, ...        Ron Clements   \n",
       "569   [Gregory Smith, Kirsten Dunst, Denis Leary, Ph...           Joe Dante   \n",
       "703   [Robin Williams, Michael Gambon, Joan Cusack, ...      Barry Levinson   \n",
       "3110    [Elijah Wood, Robin Williams, Pink, E.G. Daily]       George Miller   \n",
       "43    [Robin Williams, Gene Hackman, Nathan Lane, Di...        Mike Nichols   \n",
       "79    [Brad Pitt, Tom Cruise, Kirsten Dunst, Antonio...         Neil Jordan   \n",
       "178   [Macaulay Culkin, Christopher Lloyd, Patrick S...        Joe Johnston   \n",
       "535   [Pierce Brosnan, Jonathan Pryce, Michelle Yeoh...  Roger Spottiswoode   \n",
       "638   [Rick Moranis, Marcia Strassman, Matt Frewer, ...        Joe Johnston   \n",
       "\n",
       "      similarity_score  \n",
       "1             1.000000  \n",
       "158           0.300000  \n",
       "182           0.300000  \n",
       "569           0.300000  \n",
       "703           0.273861  \n",
       "3110          0.223607  \n",
       "43            0.200000  \n",
       "79            0.200000  \n",
       "178           0.200000  \n",
       "535           0.200000  \n",
       "638           0.200000  "
      ]
     },
     "execution_count": 51,
     "metadata": {},
     "output_type": "execute_result"
    }
   ],
   "source": [
    "get_recommendations('Jumanji')"
   ]
  },
  {
   "cell_type": "code",
   "execution_count": 52,
   "id": "7d66619f",
   "metadata": {
    "execution": {
     "iopub.execute_input": "2024-10-23T07:14:30.139705Z",
     "iopub.status.busy": "2024-10-23T07:14:30.139292Z",
     "iopub.status.idle": "2024-10-23T07:14:30.173718Z",
     "shell.execute_reply": "2024-10-23T07:14:30.172668Z"
    },
    "papermill": {
     "duration": 0.067916,
     "end_time": "2024-10-23T07:14:30.176211",
     "exception": false,
     "start_time": "2024-10-23T07:14:30.108295",
     "status": "completed"
    },
    "tags": []
   },
   "outputs": [],
   "source": [
    "# Convert lists of genres into strings\n",
    "\n",
    "df2['genres'] = df2['genres'].apply(lambda x: ' '.join(x) if isinstance(x, list) else '')\n",
    "\n",
    "# Vectorize the 'genre' column (now with strings)\n",
    "\n",
    "genre_vectorizer = CountVectorizer(lowercase=False)\n",
    "\n",
    "genre_vectors = genre_vectorizer.fit_transform(df2['genres'])"
   ]
  },
  {
   "cell_type": "code",
   "execution_count": 53,
   "id": "3beeb0e0",
   "metadata": {
    "execution": {
     "iopub.execute_input": "2024-10-23T07:14:30.234633Z",
     "iopub.status.busy": "2024-10-23T07:14:30.233649Z",
     "iopub.status.idle": "2024-10-23T07:14:30.725592Z",
     "shell.execute_reply": "2024-10-23T07:14:30.724343Z"
    },
    "papermill": {
     "duration": 0.523952,
     "end_time": "2024-10-23T07:14:30.728288",
     "exception": false,
     "start_time": "2024-10-23T07:14:30.204336",
     "status": "completed"
    },
    "tags": []
   },
   "outputs": [],
   "source": [
    "cosine_sim2 = cosine_similarity(genre_vectors)"
   ]
  },
  {
   "cell_type": "code",
   "execution_count": 54,
   "id": "c0ed6175",
   "metadata": {
    "execution": {
     "iopub.execute_input": "2024-10-23T07:14:30.786458Z",
     "iopub.status.busy": "2024-10-23T07:14:30.785960Z",
     "iopub.status.idle": "2024-10-23T07:14:30.793937Z",
     "shell.execute_reply": "2024-10-23T07:14:30.792853Z"
    },
    "papermill": {
     "duration": 0.039765,
     "end_time": "2024-10-23T07:14:30.796344",
     "exception": false,
     "start_time": "2024-10-23T07:14:30.756579",
     "status": "completed"
    },
    "tags": []
   },
   "outputs": [],
   "source": [
    "def get_recommendations_based_genres(title, cosine_sim=cosine_sim2,k=10):\n",
    "\n",
    "    # Get the index of the movie that matches the title\n",
    "\n",
    "    idx = df2[df2['title'] == title].index[0]\n",
    "\n",
    "    \n",
    "\n",
    "    # Get the similarity scores for this movie with all others\n",
    "\n",
    "    sim_scores = list(enumerate(cosine_sim[idx]))\n",
    "\n",
    "\n",
    "\n",
    "    # Sort the movies based on the similarity scores (in descending order)\n",
    "\n",
    "    # For easy comparing, the result should also contains the input movie\n",
    "\n",
    "    sim_scores = sorted(sim_scores, key=lambda x: x[1], reverse=True)\n",
    "\n",
    "\n",
    "\n",
    "    # Get the top 10 movies including the input movie itself\n",
    "\n",
    "    sim_scores = sim_scores[:k+1]  # Include the input movie\n",
    "\n",
    "\n",
    "\n",
    "    # Get the movie indices and similarity scores\n",
    "\n",
    "    movie_indices = [i[0] for i in sim_scores]\n",
    "\n",
    "    similarity_scores = [i[1] for i in sim_scores]\n",
    "\n",
    "\n",
    "\n",
    "    # Return a DataFrame with the top k+1 movies (including the input) and similarity scores\n",
    "\n",
    "    recommendations = df2[['title']].iloc[movie_indices].copy()\n",
    "\n",
    "    recommendations['similarity_score'] = similarity_scores\n",
    "\n",
    "\n",
    "\n",
    "    return recommendations"
   ]
  },
  {
   "cell_type": "markdown",
   "id": "8b1af276",
   "metadata": {
    "papermill": {
     "duration": 0.027914,
     "end_time": "2024-10-23T07:14:30.852624",
     "exception": false,
     "start_time": "2024-10-23T07:14:30.824710",
     "status": "completed"
    },
    "tags": []
   },
   "source": [
    "## Recommendation based on genres"
   ]
  },
  {
   "cell_type": "code",
   "execution_count": 55,
   "id": "0dafb707",
   "metadata": {
    "execution": {
     "iopub.execute_input": "2024-10-23T07:14:30.910622Z",
     "iopub.status.busy": "2024-10-23T07:14:30.910203Z",
     "iopub.status.idle": "2024-10-23T07:14:30.927780Z",
     "shell.execute_reply": "2024-10-23T07:14:30.926565Z"
    },
    "papermill": {
     "duration": 0.049215,
     "end_time": "2024-10-23T07:14:30.929972",
     "exception": false,
     "start_time": "2024-10-23T07:14:30.880757",
     "status": "completed"
    },
    "tags": []
   },
   "outputs": [
    {
     "data": {
      "text/html": [
       "<div>\n",
       "<style scoped>\n",
       "    .dataframe tbody tr th:only-of-type {\n",
       "        vertical-align: middle;\n",
       "    }\n",
       "\n",
       "    .dataframe tbody tr th {\n",
       "        vertical-align: top;\n",
       "    }\n",
       "\n",
       "    .dataframe thead th {\n",
       "        text-align: right;\n",
       "    }\n",
       "</style>\n",
       "<table border=\"1\" class=\"dataframe\">\n",
       "  <thead>\n",
       "    <tr style=\"text-align: right;\">\n",
       "      <th></th>\n",
       "      <th>title</th>\n",
       "      <th>similarity_score</th>\n",
       "    </tr>\n",
       "  </thead>\n",
       "  <tbody>\n",
       "    <tr>\n",
       "      <th>1</th>\n",
       "      <td>Jumanji</td>\n",
       "      <td>1.0</td>\n",
       "    </tr>\n",
       "    <tr>\n",
       "      <th>250</th>\n",
       "      <td>The Wizard of Oz</td>\n",
       "      <td>1.0</td>\n",
       "    </tr>\n",
       "    <tr>\n",
       "      <th>587</th>\n",
       "      <td>Labyrinth</td>\n",
       "      <td>1.0</td>\n",
       "    </tr>\n",
       "    <tr>\n",
       "      <th>1320</th>\n",
       "      <td>Harry Potter and the Philosopher's Stone</td>\n",
       "      <td>1.0</td>\n",
       "    </tr>\n",
       "    <tr>\n",
       "      <th>1429</th>\n",
       "      <td>Clash of the Titans</td>\n",
       "      <td>1.0</td>\n",
       "    </tr>\n",
       "    <tr>\n",
       "      <th>1457</th>\n",
       "      <td>Harry Potter and the Chamber of Secrets</td>\n",
       "      <td>1.0</td>\n",
       "    </tr>\n",
       "    <tr>\n",
       "      <th>1661</th>\n",
       "      <td>Peter Pan</td>\n",
       "      <td>1.0</td>\n",
       "    </tr>\n",
       "    <tr>\n",
       "      <th>1736</th>\n",
       "      <td>Harry Potter and the Prisoner of Azkaban</td>\n",
       "      <td>1.0</td>\n",
       "    </tr>\n",
       "    <tr>\n",
       "      <th>2020</th>\n",
       "      <td>Harry Potter and the Goblet of Fire</td>\n",
       "      <td>1.0</td>\n",
       "    </tr>\n",
       "    <tr>\n",
       "      <th>2025</th>\n",
       "      <td>The Chronicles of Narnia: The Lion, the Witch ...</td>\n",
       "      <td>1.0</td>\n",
       "    </tr>\n",
       "    <tr>\n",
       "      <th>2359</th>\n",
       "      <td>The Water Horse</td>\n",
       "      <td>1.0</td>\n",
       "    </tr>\n",
       "  </tbody>\n",
       "</table>\n",
       "</div>"
      ],
      "text/plain": [
       "                                                  title  similarity_score\n",
       "1                                               Jumanji               1.0\n",
       "250                                    The Wizard of Oz               1.0\n",
       "587                                           Labyrinth               1.0\n",
       "1320           Harry Potter and the Philosopher's Stone               1.0\n",
       "1429                                Clash of the Titans               1.0\n",
       "1457            Harry Potter and the Chamber of Secrets               1.0\n",
       "1661                                          Peter Pan               1.0\n",
       "1736           Harry Potter and the Prisoner of Azkaban               1.0\n",
       "2020                Harry Potter and the Goblet of Fire               1.0\n",
       "2025  The Chronicles of Narnia: The Lion, the Witch ...               1.0\n",
       "2359                                    The Water Horse               1.0"
      ]
     },
     "execution_count": 55,
     "metadata": {},
     "output_type": "execute_result"
    }
   ],
   "source": [
    "get_recommendations_based_genres('Jumanji')"
   ]
  },
  {
   "cell_type": "markdown",
   "id": "a3264cbf",
   "metadata": {
    "papermill": {
     "duration": 0.028569,
     "end_time": "2024-10-23T07:14:30.989081",
     "exception": false,
     "start_time": "2024-10-23T07:14:30.960512",
     "status": "completed"
    },
    "tags": []
   },
   "source": [
    "The content-based recommender suggests movies close to a certain movie, which is not personalized."
   ]
  },
  {
   "cell_type": "markdown",
   "id": "ded852db",
   "metadata": {
    "papermill": {
     "duration": 0.028724,
     "end_time": "2024-10-23T07:14:31.046092",
     "exception": false,
     "start_time": "2024-10-23T07:14:31.017368",
     "status": "completed"
    },
    "tags": []
   },
   "source": [
    "# Collaborative Filtering"
   ]
  },
  {
   "cell_type": "markdown",
   "id": "30d76255",
   "metadata": {
    "papermill": {
     "duration": 0.027929,
     "end_time": "2024-10-23T07:14:31.102636",
     "exception": false,
     "start_time": "2024-10-23T07:14:31.074707",
     "status": "completed"
    },
    "tags": []
   },
   "source": [
    "The collaborative filtering recommendation is user-based, which recommend movies to a user that similar users have liked. This part uses the Singular Value Decomposition (SVD) algorithm from the surprise library for collaborative filtering. The SVD algorithm works by decomposing the user-movies interaction matrix (e.g., the ratings matrix) into three matrices, capturing the latent factors that describe the relationships between users and movies, estimate how much a user will rate a particular movie."
   ]
  },
  {
   "cell_type": "code",
   "execution_count": 56,
   "id": "0f16fc6f",
   "metadata": {
    "execution": {
     "iopub.execute_input": "2024-10-23T07:14:31.161584Z",
     "iopub.status.busy": "2024-10-23T07:14:31.161178Z",
     "iopub.status.idle": "2024-10-23T07:14:31.172334Z",
     "shell.execute_reply": "2024-10-23T07:14:31.171160Z"
    },
    "papermill": {
     "duration": 0.042976,
     "end_time": "2024-10-23T07:14:31.174659",
     "exception": false,
     "start_time": "2024-10-23T07:14:31.131683",
     "status": "completed"
    },
    "tags": []
   },
   "outputs": [
    {
     "data": {
      "text/html": [
       "<div>\n",
       "<style scoped>\n",
       "    .dataframe tbody tr th:only-of-type {\n",
       "        vertical-align: middle;\n",
       "    }\n",
       "\n",
       "    .dataframe tbody tr th {\n",
       "        vertical-align: top;\n",
       "    }\n",
       "\n",
       "    .dataframe thead th {\n",
       "        text-align: right;\n",
       "    }\n",
       "</style>\n",
       "<table border=\"1\" class=\"dataframe\">\n",
       "  <thead>\n",
       "    <tr style=\"text-align: right;\">\n",
       "      <th></th>\n",
       "      <th>userId</th>\n",
       "      <th>movieId</th>\n",
       "      <th>rating</th>\n",
       "      <th>timestamp</th>\n",
       "    </tr>\n",
       "  </thead>\n",
       "  <tbody>\n",
       "    <tr>\n",
       "      <th>0</th>\n",
       "      <td>1</td>\n",
       "      <td>110</td>\n",
       "      <td>1.0</td>\n",
       "      <td>1425941529</td>\n",
       "    </tr>\n",
       "    <tr>\n",
       "      <th>1</th>\n",
       "      <td>1</td>\n",
       "      <td>147</td>\n",
       "      <td>4.5</td>\n",
       "      <td>1425942435</td>\n",
       "    </tr>\n",
       "    <tr>\n",
       "      <th>2</th>\n",
       "      <td>1</td>\n",
       "      <td>858</td>\n",
       "      <td>5.0</td>\n",
       "      <td>1425941523</td>\n",
       "    </tr>\n",
       "    <tr>\n",
       "      <th>3</th>\n",
       "      <td>1</td>\n",
       "      <td>1221</td>\n",
       "      <td>5.0</td>\n",
       "      <td>1425941546</td>\n",
       "    </tr>\n",
       "    <tr>\n",
       "      <th>4</th>\n",
       "      <td>1</td>\n",
       "      <td>1246</td>\n",
       "      <td>5.0</td>\n",
       "      <td>1425941556</td>\n",
       "    </tr>\n",
       "  </tbody>\n",
       "</table>\n",
       "</div>"
      ],
      "text/plain": [
       "   userId  movieId  rating   timestamp\n",
       "0       1      110     1.0  1425941529\n",
       "1       1      147     4.5  1425942435\n",
       "2       1      858     5.0  1425941523\n",
       "3       1     1221     5.0  1425941546\n",
       "4       1     1246     5.0  1425941556"
      ]
     },
     "execution_count": 56,
     "metadata": {},
     "output_type": "execute_result"
    }
   ],
   "source": [
    "#ratings = pd.read_csv('data/ratings.csv')\n",
    "\n",
    "ratings.head()"
   ]
  },
  {
   "cell_type": "markdown",
   "id": "15b93d89",
   "metadata": {
    "papermill": {
     "duration": 0.028186,
     "end_time": "2024-10-23T07:14:31.231671",
     "exception": false,
     "start_time": "2024-10-23T07:14:31.203485",
     "status": "completed"
    },
    "tags": []
   },
   "source": [
    "drop the unnecessary column timestamp and convert the dataset as surprise dataset object"
   ]
  },
  {
   "cell_type": "code",
   "execution_count": 57,
   "id": "b8acfa9d",
   "metadata": {
    "execution": {
     "iopub.execute_input": "2024-10-23T07:14:31.290378Z",
     "iopub.status.busy": "2024-10-23T07:14:31.289996Z",
     "iopub.status.idle": "2024-10-23T07:15:01.071619Z",
     "shell.execute_reply": "2024-10-23T07:15:01.070453Z"
    },
    "papermill": {
     "duration": 29.814768,
     "end_time": "2024-10-23T07:15:01.074855",
     "exception": false,
     "start_time": "2024-10-23T07:14:31.260087",
     "status": "completed"
    },
    "tags": []
   },
   "outputs": [],
   "source": [
    "reader = Reader()\n",
    "\n",
    "data = Dataset.load_from_df(ratings[['userId', 'movieId', 'rating']], reader)"
   ]
  },
  {
   "cell_type": "code",
   "execution_count": 58,
   "id": "b3eb189d",
   "metadata": {
    "execution": {
     "iopub.execute_input": "2024-10-23T07:15:01.141960Z",
     "iopub.status.busy": "2024-10-23T07:15:01.141503Z",
     "iopub.status.idle": "2024-10-23T07:15:01.148227Z",
     "shell.execute_reply": "2024-10-23T07:15:01.147144Z"
    },
    "papermill": {
     "duration": 0.039814,
     "end_time": "2024-10-23T07:15:01.150505",
     "exception": false,
     "start_time": "2024-10-23T07:15:01.110691",
     "status": "completed"
    },
    "tags": []
   },
   "outputs": [],
   "source": [
    "svd = SVD()"
   ]
  },
  {
   "cell_type": "markdown",
   "id": "2fe7fe42",
   "metadata": {
    "papermill": {
     "duration": 0.028538,
     "end_time": "2024-10-23T07:15:01.207628",
     "exception": false,
     "start_time": "2024-10-23T07:15:01.179090",
     "status": "completed"
    },
    "tags": []
   },
   "source": [
    "evaluates the performance using RMSE and MAE."
   ]
  },
  {
   "cell_type": "code",
   "execution_count": 59,
   "id": "bc81e0f2",
   "metadata": {
    "execution": {
     "iopub.execute_input": "2024-10-23T07:15:01.266858Z",
     "iopub.status.busy": "2024-10-23T07:15:01.266284Z",
     "iopub.status.idle": "2024-10-23T08:12:33.291660Z",
     "shell.execute_reply": "2024-10-23T08:12:33.290428Z"
    },
    "papermill": {
     "duration": 3452.1118,
     "end_time": "2024-10-23T08:12:33.348012",
     "exception": false,
     "start_time": "2024-10-23T07:15:01.236212",
     "status": "completed"
    },
    "tags": []
   },
   "outputs": [
    {
     "data": {
      "text/plain": [
       "{'test_rmse': array([0.79605295, 0.79622404, 0.79599119, 0.79650356, 0.79640031]),\n",
       " 'test_mae': array([0.60200363, 0.60219659, 0.60193633, 0.60247246, 0.60225841]),\n",
       " 'fit_time': (418.7227375507355,\n",
       "  436.4550290107727,\n",
       "  489.57451367378235,\n",
       "  503.7699828147888,\n",
       "  492.5272545814514),\n",
       " 'test_time': (113.33924794197083,\n",
       "  123.92873287200928,\n",
       "  110.31895613670349,\n",
       "  122.47265791893005,\n",
       "  137.41384959220886)}"
      ]
     },
     "execution_count": 59,
     "metadata": {},
     "output_type": "execute_result"
    }
   ],
   "source": [
    "cross_validate(svd, data, measures=['RMSE', 'MAE'], cv=5)"
   ]
  },
  {
   "cell_type": "code",
   "execution_count": 60,
   "id": "17b7aa85",
   "metadata": {
    "execution": {
     "iopub.execute_input": "2024-10-23T08:12:33.408964Z",
     "iopub.status.busy": "2024-10-23T08:12:33.408511Z",
     "iopub.status.idle": "2024-10-23T08:19:23.588788Z",
     "shell.execute_reply": "2024-10-23T08:19:23.587223Z"
    },
    "papermill": {
     "duration": 410.244963,
     "end_time": "2024-10-23T08:19:23.622061",
     "exception": false,
     "start_time": "2024-10-23T08:12:33.377098",
     "status": "completed"
    },
    "tags": []
   },
   "outputs": [
    {
     "data": {
      "text/plain": [
       "<surprise.prediction_algorithms.matrix_factorization.SVD at 0x7871f5c95120>"
      ]
     },
     "execution_count": 60,
     "metadata": {},
     "output_type": "execute_result"
    }
   ],
   "source": [
    "train = data.build_full_trainset()\n",
    "\n",
    "svd.fit(train)"
   ]
  },
  {
   "cell_type": "markdown",
   "id": "939fd2ab",
   "metadata": {
    "papermill": {
     "duration": 0.029612,
     "end_time": "2024-10-23T08:19:23.680269",
     "exception": false,
     "start_time": "2024-10-23T08:19:23.650657",
     "status": "completed"
    },
    "tags": []
   },
   "source": [
    "combine the both dataset together"
   ]
  },
  {
   "cell_type": "code",
   "execution_count": 61,
   "id": "a43c90e4",
   "metadata": {
    "execution": {
     "iopub.execute_input": "2024-10-23T08:19:23.741554Z",
     "iopub.status.busy": "2024-10-23T08:19:23.740643Z",
     "iopub.status.idle": "2024-10-23T08:19:29.215351Z",
     "shell.execute_reply": "2024-10-23T08:19:29.214193Z"
    },
    "papermill": {
     "duration": 5.508156,
     "end_time": "2024-10-23T08:19:29.217838",
     "exception": false,
     "start_time": "2024-10-23T08:19:23.709682",
     "status": "completed"
    },
    "tags": []
   },
   "outputs": [
    {
     "data": {
      "text/html": [
       "<div>\n",
       "<style scoped>\n",
       "    .dataframe tbody tr th:only-of-type {\n",
       "        vertical-align: middle;\n",
       "    }\n",
       "\n",
       "    .dataframe tbody tr th {\n",
       "        vertical-align: top;\n",
       "    }\n",
       "\n",
       "    .dataframe thead th {\n",
       "        text-align: right;\n",
       "    }\n",
       "</style>\n",
       "<table border=\"1\" class=\"dataframe\">\n",
       "  <thead>\n",
       "    <tr style=\"text-align: right;\">\n",
       "      <th></th>\n",
       "      <th>userId</th>\n",
       "      <th>movieId</th>\n",
       "      <th>rating</th>\n",
       "      <th>title</th>\n",
       "    </tr>\n",
       "  </thead>\n",
       "  <tbody>\n",
       "    <tr>\n",
       "      <th>0</th>\n",
       "      <td>1</td>\n",
       "      <td>110</td>\n",
       "      <td>1.0</td>\n",
       "      <td>Three Colors: Red</td>\n",
       "    </tr>\n",
       "    <tr>\n",
       "      <th>1</th>\n",
       "      <td>1</td>\n",
       "      <td>147</td>\n",
       "      <td>4.5</td>\n",
       "      <td>The 400 Blows</td>\n",
       "    </tr>\n",
       "    <tr>\n",
       "      <th>2</th>\n",
       "      <td>1</td>\n",
       "      <td>858</td>\n",
       "      <td>5.0</td>\n",
       "      <td>Sleepless in Seattle</td>\n",
       "    </tr>\n",
       "    <tr>\n",
       "      <th>3</th>\n",
       "      <td>1</td>\n",
       "      <td>1246</td>\n",
       "      <td>5.0</td>\n",
       "      <td>Rocky Balboa</td>\n",
       "    </tr>\n",
       "    <tr>\n",
       "      <th>4</th>\n",
       "      <td>1</td>\n",
       "      <td>2959</td>\n",
       "      <td>4.0</td>\n",
       "      <td>License to Wed</td>\n",
       "    </tr>\n",
       "  </tbody>\n",
       "</table>\n",
       "</div>"
      ],
      "text/plain": [
       "   userId  movieId  rating                 title\n",
       "0       1      110     1.0     Three Colors: Red\n",
       "1       1      147     4.5         The 400 Blows\n",
       "2       1      858     5.0  Sleepless in Seattle\n",
       "3       1     1246     5.0          Rocky Balboa\n",
       "4       1     2959     4.0        License to Wed"
      ]
     },
     "execution_count": 61,
     "metadata": {},
     "output_type": "execute_result"
    }
   ],
   "source": [
    "merge = pd.merge(ratings,df,left_on='movieId',right_on='id',how='inner')\n",
    "\n",
    "merge2 = merge[['userId', 'movieId', 'rating','title']]\n",
    "\n",
    "merge =merge2.sort_values(by='userId')\n",
    "\n",
    "merge.head()"
   ]
  },
  {
   "cell_type": "markdown",
   "id": "ed64bae6",
   "metadata": {
    "papermill": {
     "duration": 0.037823,
     "end_time": "2024-10-23T08:19:29.286040",
     "exception": false,
     "start_time": "2024-10-23T08:19:29.248217",
     "status": "completed"
    },
    "tags": []
   },
   "source": [
    "Assume the user with an userid = 20 is basic"
   ]
  },
  {
   "cell_type": "code",
   "execution_count": 62,
   "id": "e55d453e",
   "metadata": {
    "execution": {
     "iopub.execute_input": "2024-10-23T08:19:29.346859Z",
     "iopub.status.busy": "2024-10-23T08:19:29.345745Z",
     "iopub.status.idle": "2024-10-23T08:19:29.371334Z",
     "shell.execute_reply": "2024-10-23T08:19:29.370082Z"
    },
    "papermill": {
     "duration": 0.05851,
     "end_time": "2024-10-23T08:19:29.373653",
     "exception": false,
     "start_time": "2024-10-23T08:19:29.315143",
     "status": "completed"
    },
    "tags": []
   },
   "outputs": [
    {
     "data": {
      "text/html": [
       "<div>\n",
       "<style scoped>\n",
       "    .dataframe tbody tr th:only-of-type {\n",
       "        vertical-align: middle;\n",
       "    }\n",
       "\n",
       "    .dataframe tbody tr th {\n",
       "        vertical-align: top;\n",
       "    }\n",
       "\n",
       "    .dataframe thead th {\n",
       "        text-align: right;\n",
       "    }\n",
       "</style>\n",
       "<table border=\"1\" class=\"dataframe\">\n",
       "  <thead>\n",
       "    <tr style=\"text-align: right;\">\n",
       "      <th></th>\n",
       "      <th>userId</th>\n",
       "      <th>movieId</th>\n",
       "      <th>rating</th>\n",
       "      <th>title</th>\n",
       "    </tr>\n",
       "  </thead>\n",
       "  <tbody>\n",
       "    <tr>\n",
       "      <th>279</th>\n",
       "      <td>20</td>\n",
       "      <td>1688</td>\n",
       "      <td>4.0</td>\n",
       "      <td>Conquest of the Planet of the Apes</td>\n",
       "    </tr>\n",
       "    <tr>\n",
       "      <th>280</th>\n",
       "      <td>20</td>\n",
       "      <td>1701</td>\n",
       "      <td>4.0</td>\n",
       "      <td>Con Air</td>\n",
       "    </tr>\n",
       "    <tr>\n",
       "      <th>281</th>\n",
       "      <td>20</td>\n",
       "      <td>1907</td>\n",
       "      <td>4.0</td>\n",
       "      <td>The Beach</td>\n",
       "    </tr>\n",
       "    <tr>\n",
       "      <th>282</th>\n",
       "      <td>20</td>\n",
       "      <td>2291</td>\n",
       "      <td>4.0</td>\n",
       "      <td>Jacob's Ladder</td>\n",
       "    </tr>\n",
       "    <tr>\n",
       "      <th>283</th>\n",
       "      <td>20</td>\n",
       "      <td>2294</td>\n",
       "      <td>4.5</td>\n",
       "      <td>Jay and Silent Bob Strike Back</td>\n",
       "    </tr>\n",
       "    <tr>\n",
       "      <th>284</th>\n",
       "      <td>20</td>\n",
       "      <td>2355</td>\n",
       "      <td>4.0</td>\n",
       "      <td>Reign Over Me</td>\n",
       "    </tr>\n",
       "    <tr>\n",
       "      <th>278</th>\n",
       "      <td>20</td>\n",
       "      <td>1588</td>\n",
       "      <td>4.0</td>\n",
       "      <td>Bring It On</td>\n",
       "    </tr>\n",
       "    <tr>\n",
       "      <th>286</th>\n",
       "      <td>20</td>\n",
       "      <td>2959</td>\n",
       "      <td>4.0</td>\n",
       "      <td>License to Wed</td>\n",
       "    </tr>\n",
       "    <tr>\n",
       "      <th>287</th>\n",
       "      <td>20</td>\n",
       "      <td>3034</td>\n",
       "      <td>4.0</td>\n",
       "      <td>Young Frankenstein</td>\n",
       "    </tr>\n",
       "    <tr>\n",
       "      <th>288</th>\n",
       "      <td>20</td>\n",
       "      <td>3114</td>\n",
       "      <td>4.5</td>\n",
       "      <td>The Searchers</td>\n",
       "    </tr>\n",
       "    <tr>\n",
       "      <th>289</th>\n",
       "      <td>20</td>\n",
       "      <td>3176</td>\n",
       "      <td>3.5</td>\n",
       "      <td>Battle Royale</td>\n",
       "    </tr>\n",
       "    <tr>\n",
       "      <th>290</th>\n",
       "      <td>20</td>\n",
       "      <td>5902</td>\n",
       "      <td>3.5</td>\n",
       "      <td>A Bridge Too Far</td>\n",
       "    </tr>\n",
       "    <tr>\n",
       "      <th>291</th>\n",
       "      <td>20</td>\n",
       "      <td>6283</td>\n",
       "      <td>4.0</td>\n",
       "      <td>MouseHunt</td>\n",
       "    </tr>\n",
       "    <tr>\n",
       "      <th>285</th>\n",
       "      <td>20</td>\n",
       "      <td>2657</td>\n",
       "      <td>4.5</td>\n",
       "      <td>Pleasantville</td>\n",
       "    </tr>\n",
       "    <tr>\n",
       "      <th>277</th>\n",
       "      <td>20</td>\n",
       "      <td>1580</td>\n",
       "      <td>4.0</td>\n",
       "      <td>Rope</td>\n",
       "    </tr>\n",
       "    <tr>\n",
       "      <th>262</th>\n",
       "      <td>20</td>\n",
       "      <td>150</td>\n",
       "      <td>4.0</td>\n",
       "      <td>48 Hrs.</td>\n",
       "    </tr>\n",
       "    <tr>\n",
       "      <th>275</th>\n",
       "      <td>20</td>\n",
       "      <td>1422</td>\n",
       "      <td>2.5</td>\n",
       "      <td>The Departed</td>\n",
       "    </tr>\n",
       "    <tr>\n",
       "      <th>276</th>\n",
       "      <td>20</td>\n",
       "      <td>1573</td>\n",
       "      <td>3.0</td>\n",
       "      <td>Die Hard 2</td>\n",
       "    </tr>\n",
       "    <tr>\n",
       "      <th>263</th>\n",
       "      <td>20</td>\n",
       "      <td>161</td>\n",
       "      <td>4.0</td>\n",
       "      <td>Ocean's Eleven</td>\n",
       "    </tr>\n",
       "    <tr>\n",
       "      <th>264</th>\n",
       "      <td>20</td>\n",
       "      <td>260</td>\n",
       "      <td>4.0</td>\n",
       "      <td>The 39 Steps</td>\n",
       "    </tr>\n",
       "    <tr>\n",
       "      <th>265</th>\n",
       "      <td>20</td>\n",
       "      <td>296</td>\n",
       "      <td>4.5</td>\n",
       "      <td>Terminator 3: Rise of the Machines</td>\n",
       "    </tr>\n",
       "    <tr>\n",
       "      <th>267</th>\n",
       "      <td>20</td>\n",
       "      <td>364</td>\n",
       "      <td>3.0</td>\n",
       "      <td>Batman Returns</td>\n",
       "    </tr>\n",
       "    <tr>\n",
       "      <th>268</th>\n",
       "      <td>20</td>\n",
       "      <td>551</td>\n",
       "      <td>4.5</td>\n",
       "      <td>The Poseidon Adventure</td>\n",
       "    </tr>\n",
       "    <tr>\n",
       "      <th>266</th>\n",
       "      <td>20</td>\n",
       "      <td>345</td>\n",
       "      <td>4.5</td>\n",
       "      <td>Eyes Wide Shut</td>\n",
       "    </tr>\n",
       "    <tr>\n",
       "      <th>270</th>\n",
       "      <td>20</td>\n",
       "      <td>595</td>\n",
       "      <td>3.5</td>\n",
       "      <td>To Kill a Mockingbird</td>\n",
       "    </tr>\n",
       "    <tr>\n",
       "      <th>271</th>\n",
       "      <td>20</td>\n",
       "      <td>858</td>\n",
       "      <td>4.5</td>\n",
       "      <td>Sleepless in Seattle</td>\n",
       "    </tr>\n",
       "    <tr>\n",
       "      <th>272</th>\n",
       "      <td>20</td>\n",
       "      <td>920</td>\n",
       "      <td>5.0</td>\n",
       "      <td>Cars</td>\n",
       "    </tr>\n",
       "    <tr>\n",
       "      <th>273</th>\n",
       "      <td>20</td>\n",
       "      <td>936</td>\n",
       "      <td>3.5</td>\n",
       "      <td>The Pink Panther</td>\n",
       "    </tr>\n",
       "    <tr>\n",
       "      <th>274</th>\n",
       "      <td>20</td>\n",
       "      <td>1265</td>\n",
       "      <td>4.0</td>\n",
       "      <td>Bridge to Terabithia</td>\n",
       "    </tr>\n",
       "    <tr>\n",
       "      <th>269</th>\n",
       "      <td>20</td>\n",
       "      <td>588</td>\n",
       "      <td>5.0</td>\n",
       "      <td>Silent Hill</td>\n",
       "    </tr>\n",
       "  </tbody>\n",
       "</table>\n",
       "</div>"
      ],
      "text/plain": [
       "     userId  movieId  rating                               title\n",
       "279      20     1688     4.0  Conquest of the Planet of the Apes\n",
       "280      20     1701     4.0                             Con Air\n",
       "281      20     1907     4.0                           The Beach\n",
       "282      20     2291     4.0                      Jacob's Ladder\n",
       "283      20     2294     4.5      Jay and Silent Bob Strike Back\n",
       "284      20     2355     4.0                       Reign Over Me\n",
       "278      20     1588     4.0                         Bring It On\n",
       "286      20     2959     4.0                      License to Wed\n",
       "287      20     3034     4.0                  Young Frankenstein\n",
       "288      20     3114     4.5                       The Searchers\n",
       "289      20     3176     3.5                       Battle Royale\n",
       "290      20     5902     3.5                    A Bridge Too Far\n",
       "291      20     6283     4.0                           MouseHunt\n",
       "285      20     2657     4.5                       Pleasantville\n",
       "277      20     1580     4.0                                Rope\n",
       "262      20      150     4.0                             48 Hrs.\n",
       "275      20     1422     2.5                        The Departed\n",
       "276      20     1573     3.0                          Die Hard 2\n",
       "263      20      161     4.0                      Ocean's Eleven\n",
       "264      20      260     4.0                        The 39 Steps\n",
       "265      20      296     4.5  Terminator 3: Rise of the Machines\n",
       "267      20      364     3.0                      Batman Returns\n",
       "268      20      551     4.5              The Poseidon Adventure\n",
       "266      20      345     4.5                      Eyes Wide Shut\n",
       "270      20      595     3.5               To Kill a Mockingbird\n",
       "271      20      858     4.5                Sleepless in Seattle\n",
       "272      20      920     5.0                                Cars\n",
       "273      20      936     3.5                    The Pink Panther\n",
       "274      20     1265     4.0                Bridge to Terabithia\n",
       "269      20      588     5.0                         Silent Hill"
      ]
     },
     "execution_count": 62,
     "metadata": {},
     "output_type": "execute_result"
    }
   ],
   "source": [
    "merge[merge['userId']==20]"
   ]
  },
  {
   "cell_type": "markdown",
   "id": "406ba724",
   "metadata": {
    "papermill": {
     "duration": 0.029763,
     "end_time": "2024-10-23T08:19:29.432998",
     "exception": false,
     "start_time": "2024-10-23T08:19:29.403235",
     "status": "completed"
    },
    "tags": []
   },
   "source": [
    "**Observation**\n",
    "\n",
    "* Drama and Thriller appear to be the most common genres.\n",
    "* Comedy and Action are also frequently represented."
   ]
  },
  {
   "cell_type": "markdown",
   "id": "9d08cb99",
   "metadata": {
    "papermill": {
     "duration": 0.030828,
     "end_time": "2024-10-23T08:19:29.493321",
     "exception": false,
     "start_time": "2024-10-23T08:19:29.462493",
     "status": "completed"
    },
    "tags": []
   },
   "source": [
    "Since the user 20 was interested in drama movies, select a drama movie (Casino) that the user didn't rated in the movie meta dataset and predict the rating"
   ]
  },
  {
   "cell_type": "code",
   "execution_count": 63,
   "id": "c3421025",
   "metadata": {
    "execution": {
     "iopub.execute_input": "2024-10-23T08:19:29.557058Z",
     "iopub.status.busy": "2024-10-23T08:19:29.555873Z",
     "iopub.status.idle": "2024-10-23T08:19:29.580892Z",
     "shell.execute_reply": "2024-10-23T08:19:29.579695Z"
    },
    "papermill": {
     "duration": 0.060862,
     "end_time": "2024-10-23T08:19:29.583758",
     "exception": false,
     "start_time": "2024-10-23T08:19:29.522896",
     "status": "completed"
    },
    "tags": []
   },
   "outputs": [
    {
     "data": {
      "text/html": [
       "<div>\n",
       "<style scoped>\n",
       "    .dataframe tbody tr th:only-of-type {\n",
       "        vertical-align: middle;\n",
       "    }\n",
       "\n",
       "    .dataframe tbody tr th {\n",
       "        vertical-align: top;\n",
       "    }\n",
       "\n",
       "    .dataframe thead th {\n",
       "        text-align: right;\n",
       "    }\n",
       "</style>\n",
       "<table border=\"1\" class=\"dataframe\">\n",
       "  <thead>\n",
       "    <tr style=\"text-align: right;\">\n",
       "      <th></th>\n",
       "      <th>title</th>\n",
       "      <th>id</th>\n",
       "    </tr>\n",
       "  </thead>\n",
       "  <tbody>\n",
       "    <tr>\n",
       "      <th>15</th>\n",
       "      <td>Casino</td>\n",
       "      <td>524</td>\n",
       "    </tr>\n",
       "  </tbody>\n",
       "</table>\n",
       "</div>"
      ],
      "text/plain": [
       "     title   id\n",
       "15  Casino  524"
      ]
     },
     "execution_count": 63,
     "metadata": {},
     "output_type": "execute_result"
    }
   ],
   "source": [
    "movie1=movies['title']=='Casino'\n",
    "movies[movie1][['title','id']]"
   ]
  },
  {
   "cell_type": "code",
   "execution_count": 64,
   "id": "9a3c3801",
   "metadata": {
    "execution": {
     "iopub.execute_input": "2024-10-23T08:19:29.650487Z",
     "iopub.status.busy": "2024-10-23T08:19:29.649977Z",
     "iopub.status.idle": "2024-10-23T08:19:29.658375Z",
     "shell.execute_reply": "2024-10-23T08:19:29.657150Z"
    },
    "papermill": {
     "duration": 0.042943,
     "end_time": "2024-10-23T08:19:29.660965",
     "exception": false,
     "start_time": "2024-10-23T08:19:29.618022",
     "status": "completed"
    },
    "tags": []
   },
   "outputs": [
    {
     "data": {
      "text/plain": [
       "Prediction(uid=20, iid=524, r_ui=None, est=3.3365184290832013, details={'was_impossible': False})"
      ]
     },
     "execution_count": 64,
     "metadata": {},
     "output_type": "execute_result"
    }
   ],
   "source": [
    "svd.predict(20, 524)"
   ]
  },
  {
   "cell_type": "markdown",
   "id": "1eefa629",
   "metadata": {
    "papermill": {
     "duration": 0.029833,
     "end_time": "2024-10-23T08:19:29.720898",
     "exception": false,
     "start_time": "2024-10-23T08:19:29.691065",
     "status": "completed"
    },
    "tags": []
   },
   "source": [
    "**Observation**\n",
    "\n",
    "The predicted rating from user 20 is 3.3 for Casino"
   ]
  }
 ],
 "metadata": {
  "kaggle": {
   "accelerator": "none",
   "dataSources": [
    {
     "datasetId": 3405,
     "sourceId": 6663,
     "sourceType": "datasetVersion"
    }
   ],
   "dockerImageVersionId": 30786,
   "isGpuEnabled": false,
   "isInternetEnabled": false,
   "language": "python",
   "sourceType": "notebook"
  },
  "kernelspec": {
   "display_name": "dl",
   "language": "python",
   "name": "python3"
  },
  "language_info": {
   "codemirror_mode": {
    "name": "ipython",
    "version": 3
   },
   "file_extension": ".py",
   "mimetype": "text/x-python",
   "name": "python",
   "nbconvert_exporter": "python",
   "pygments_lexer": "ipython3",
   "version": "3.11.2"
  },
  "papermill": {
   "default_parameters": {},
   "duration": 3957.273343,
   "end_time": "2024-10-23T08:19:32.985604",
   "environment_variables": {},
   "exception": null,
   "input_path": "__notebook__.ipynb",
   "output_path": "__notebook__.ipynb",
   "parameters": {},
   "start_time": "2024-10-23T07:13:35.712261",
   "version": "2.6.0"
  }
 },
 "nbformat": 4,
 "nbformat_minor": 5
}
